{
 "cells": [
  {
   "cell_type": "code",
   "execution_count": 7,
   "metadata": {},
   "outputs": [],
   "source": [
    "import numpy as np\n",
    "import multiprocessing as mp\n",
    "import os\n",
    "from typing import List, Tuple\n",
    "from tqdm import notebook"
   ]
  },
  {
   "cell_type": "code",
   "execution_count": 8,
   "metadata": {},
   "outputs": [],
   "source": [
    "N_bootstraps: int = 10 ** 4\n",
    "\n",
    "def poisson_bootstrap_tp_fp_fn_tn(\n",
    "    bundle: Tuple[float, List[Tuple[float, float, float, int]]],\n",
    "\n",
    "    ) -> List[np.ndarray]:\n",
    "    threshold, data = bundle\n",
    "    TP = np.zeros((N_bootstraps))\n",
    "    FP = np.zeros((N_bootstraps))\n",
    "    FN = np.zeros((N_bootstraps))\n",
    "    TN = np.zeros((N_bootstraps))\n",
    "    for current_label, current_predict, weight, index in data:\n",
    "        np.random.seed(index)\n",
    "        current_predict += np.random.normal(0, 0.0125, 1)\n",
    "        current_predict = int(np.clip(current_predict, 0, 1) >= threshold)\n",
    "        p_sample = np.random.poisson(1, N_bootstraps) * weight\n",
    "        \n",
    "        if current_label == 1 and current_label == 1:\n",
    "            TP += p_sample\n",
    "        if current_label == 1 and current_label == 0:\n",
    "            FN += p_sample        \n",
    "        if current_label == 0 and current_label == 1:\n",
    "            FP += p_sample        \n",
    "        if current_label == 0 and current_label == 0:\n",
    "            TN += p_sample\n",
    "    return [TP, FP, FN, TN]"
   ]
  },
  {
   "cell_type": "code",
   "execution_count": 9,
   "metadata": {},
   "outputs": [],
   "source": [
    "N = 10 ** 6\n",
    "labels = np.random.randint(0, 2, N)\n",
    "predicts = np.clip(np.random.normal(0.5, 1, N), 0, 1)\n",
    "weights = np.array([1 for _ in range(N)])"
   ]
  },
  {
   "cell_type": "code",
   "execution_count": 10,
   "metadata": {},
   "outputs": [],
   "source": [
    "chunk_size = N\n",
    "threshold = 0.81\n",
    "generator = (\n",
    "    (\n",
    "        threshold,\n",
    "        [\n",
    "            (labels[x + y],\n",
    "             predicts[x + y],\n",
    "             weights[x + y],\n",
    "             x + y,)\n",
    "        for x in range(chunk_size)\n",
    "        if x + y < N\n",
    "        ],\n",
    "    )\n",
    "    for y in range(0, N, chunk_size)\n",
    ")"
   ]
  },
  {
   "cell_type": "code",
   "execution_count": 11,
   "metadata": {},
   "outputs": [
    {
     "ename": "KeyboardInterrupt",
     "evalue": "",
     "output_type": "error",
     "traceback": [
      "\u001b[1;31m---------------------------------------------------------------------------\u001b[0m",
      "\u001b[1;31mKeyboardInterrupt\u001b[0m                         Traceback (most recent call last)",
      "\u001b[1;32m~\\AppData\\Local\\Temp\\ipykernel_14496\\1029146412.py\u001b[0m in \u001b[0;36m<module>\u001b[1;34m\u001b[0m\n\u001b[0;32m      6\u001b[0m \u001b[1;31m#                                    total=N // chunk_size)\u001b[0m\u001b[1;33m\u001b[0m\u001b[1;33m\u001b[0m\u001b[0m\n\u001b[0;32m      7\u001b[0m \u001b[0msample\u001b[0m \u001b[1;33m=\u001b[0m \u001b[0mnext\u001b[0m\u001b[1;33m(\u001b[0m\u001b[0mgenerator\u001b[0m\u001b[1;33m)\u001b[0m\u001b[1;33m\u001b[0m\u001b[1;33m\u001b[0m\u001b[0m\n\u001b[1;32m----> 8\u001b[1;33m \u001b[0mresult\u001b[0m \u001b[1;33m=\u001b[0m \u001b[0mpoisson_bootstrap_tp_fp_fn_tn\u001b[0m\u001b[1;33m(\u001b[0m\u001b[0msample\u001b[0m\u001b[1;33m)\u001b[0m\u001b[1;33m\u001b[0m\u001b[1;33m\u001b[0m\u001b[0m\n\u001b[0m",
      "\u001b[1;32m~\\AppData\\Local\\Temp\\ipykernel_14496\\1215347667.py\u001b[0m in \u001b[0;36mpoisson_bootstrap_tp_fp_fn_tn\u001b[1;34m(bundle)\u001b[0m\n\u001b[0;32m     14\u001b[0m         \u001b[0mcurrent_predict\u001b[0m \u001b[1;33m+=\u001b[0m \u001b[0mnp\u001b[0m\u001b[1;33m.\u001b[0m\u001b[0mrandom\u001b[0m\u001b[1;33m.\u001b[0m\u001b[0mnormal\u001b[0m\u001b[1;33m(\u001b[0m\u001b[1;36m0\u001b[0m\u001b[1;33m,\u001b[0m \u001b[1;36m0.0125\u001b[0m\u001b[1;33m,\u001b[0m \u001b[1;36m1\u001b[0m\u001b[1;33m)\u001b[0m\u001b[1;33m\u001b[0m\u001b[1;33m\u001b[0m\u001b[0m\n\u001b[0;32m     15\u001b[0m         \u001b[0mcurrent_predict\u001b[0m \u001b[1;33m=\u001b[0m \u001b[0mint\u001b[0m\u001b[1;33m(\u001b[0m\u001b[0mnp\u001b[0m\u001b[1;33m.\u001b[0m\u001b[0mclip\u001b[0m\u001b[1;33m(\u001b[0m\u001b[0mcurrent_predict\u001b[0m\u001b[1;33m,\u001b[0m \u001b[1;36m0\u001b[0m\u001b[1;33m,\u001b[0m \u001b[1;36m1\u001b[0m\u001b[1;33m)\u001b[0m \u001b[1;33m>=\u001b[0m \u001b[0mthreshold\u001b[0m\u001b[1;33m)\u001b[0m\u001b[1;33m\u001b[0m\u001b[1;33m\u001b[0m\u001b[0m\n\u001b[1;32m---> 16\u001b[1;33m         \u001b[0mp_sample\u001b[0m \u001b[1;33m=\u001b[0m \u001b[0mnp\u001b[0m\u001b[1;33m.\u001b[0m\u001b[0mrandom\u001b[0m\u001b[1;33m.\u001b[0m\u001b[0mpoisson\u001b[0m\u001b[1;33m(\u001b[0m\u001b[1;36m1\u001b[0m\u001b[1;33m,\u001b[0m \u001b[0mN_bootstraps\u001b[0m\u001b[1;33m)\u001b[0m \u001b[1;33m*\u001b[0m \u001b[0mweight\u001b[0m\u001b[1;33m\u001b[0m\u001b[1;33m\u001b[0m\u001b[0m\n\u001b[0m\u001b[0;32m     17\u001b[0m \u001b[1;33m\u001b[0m\u001b[0m\n\u001b[0;32m     18\u001b[0m         \u001b[1;32mif\u001b[0m \u001b[0mcurrent_label\u001b[0m \u001b[1;33m==\u001b[0m \u001b[1;36m1\u001b[0m \u001b[1;32mand\u001b[0m \u001b[0mcurrent_label\u001b[0m \u001b[1;33m==\u001b[0m \u001b[1;36m1\u001b[0m\u001b[1;33m:\u001b[0m\u001b[1;33m\u001b[0m\u001b[1;33m\u001b[0m\u001b[0m\n",
      "\u001b[1;32mmtrand.pyx\u001b[0m in \u001b[0;36mnumpy.random.mtrand.RandomState.poisson\u001b[1;34m()\u001b[0m\n",
      "\u001b[1;32mmtrand.pyx\u001b[0m in \u001b[0;36mnumpy.random.mtrand.int64_to_long\u001b[1;34m()\u001b[0m\n",
      "\u001b[1;32mc:\\Users\\dotpo\\anaconda3\\lib\\site-packages\\numpy\\core\\numeric.py\u001b[0m in \u001b[0;36misscalar\u001b[1;34m(element)\u001b[0m\n\u001b[0;32m   1856\u001b[0m \u001b[1;33m\u001b[0m\u001b[0m\n\u001b[0;32m   1857\u001b[0m \u001b[1;33m\u001b[0m\u001b[0m\n\u001b[1;32m-> 1858\u001b[1;33m \u001b[1;33m@\u001b[0m\u001b[0mset_module\u001b[0m\u001b[1;33m(\u001b[0m\u001b[1;34m'numpy'\u001b[0m\u001b[1;33m)\u001b[0m\u001b[1;33m\u001b[0m\u001b[1;33m\u001b[0m\u001b[0m\n\u001b[0m\u001b[0;32m   1859\u001b[0m \u001b[1;32mdef\u001b[0m \u001b[0misscalar\u001b[0m\u001b[1;33m(\u001b[0m\u001b[0melement\u001b[0m\u001b[1;33m)\u001b[0m\u001b[1;33m:\u001b[0m\u001b[1;33m\u001b[0m\u001b[1;33m\u001b[0m\u001b[0m\n\u001b[0;32m   1860\u001b[0m     \"\"\"\n",
      "\u001b[1;31mKeyboardInterrupt\u001b[0m: "
     ]
    }
   ],
   "source": [
    "# cpu_to_use = np.max([os.cpu_count() - 3, 1])\n",
    "# print(cpu_to_use)\n",
    "\n",
    "# with mp.Pool(cpu_to_use) as pool:\n",
    "#     stat_list = list(notebook.tqdm(pool.imap(poisson_bootstrap_tp_fp_fn_tn, generator, chunksize=chunk_size),\n",
    "#                                    total=N // chunk_size)\n",
    "sample = next(generator)\n",
    "result = poisson_bootstrap_tp_fp_fn_tn(sample)"
   ]
  },
  {
   "cell_type": "code",
   "execution_count": null,
   "metadata": {},
   "outputs": [
    {
     "data": {
      "text/plain": [
       "[array([512., 519., 526., 458., 483., 482., 533., 482., 527., 501., 514.,\n",
       "        494., 468., 528., 478., 497., 499., 503., 544., 482., 547., 525.,\n",
       "        504., 511., 507., 520., 535., 489., 496., 534., 523., 524., 510.,\n",
       "        512., 503., 509., 534., 537., 469., 520., 511., 477., 507., 501.,\n",
       "        509., 483., 518., 466., 525., 487., 497., 474., 552., 533., 500.,\n",
       "        532., 509., 500., 478., 538., 499., 536., 498., 456., 536., 519.,\n",
       "        523., 531., 527., 490., 522., 561., 539., 520., 495., 493., 553.,\n",
       "        510., 497., 519., 522., 511., 504., 504., 508., 524., 512., 527.,\n",
       "        503., 476., 537., 484., 522., 497., 490., 486., 520., 475., 561.,\n",
       "        523.]),\n",
       " array([0., 0., 0., 0., 0., 0., 0., 0., 0., 0., 0., 0., 0., 0., 0., 0., 0.,\n",
       "        0., 0., 0., 0., 0., 0., 0., 0., 0., 0., 0., 0., 0., 0., 0., 0., 0.,\n",
       "        0., 0., 0., 0., 0., 0., 0., 0., 0., 0., 0., 0., 0., 0., 0., 0., 0.,\n",
       "        0., 0., 0., 0., 0., 0., 0., 0., 0., 0., 0., 0., 0., 0., 0., 0., 0.,\n",
       "        0., 0., 0., 0., 0., 0., 0., 0., 0., 0., 0., 0., 0., 0., 0., 0., 0.,\n",
       "        0., 0., 0., 0., 0., 0., 0., 0., 0., 0., 0., 0., 0., 0., 0.]),\n",
       " array([0., 0., 0., 0., 0., 0., 0., 0., 0., 0., 0., 0., 0., 0., 0., 0., 0.,\n",
       "        0., 0., 0., 0., 0., 0., 0., 0., 0., 0., 0., 0., 0., 0., 0., 0., 0.,\n",
       "        0., 0., 0., 0., 0., 0., 0., 0., 0., 0., 0., 0., 0., 0., 0., 0., 0.,\n",
       "        0., 0., 0., 0., 0., 0., 0., 0., 0., 0., 0., 0., 0., 0., 0., 0., 0.,\n",
       "        0., 0., 0., 0., 0., 0., 0., 0., 0., 0., 0., 0., 0., 0., 0., 0., 0.,\n",
       "        0., 0., 0., 0., 0., 0., 0., 0., 0., 0., 0., 0., 0., 0., 0.]),\n",
       " array([529., 505., 488., 475., 471., 501., 465., 471., 506., 487., 489.,\n",
       "        505., 517., 507., 471., 472., 501., 478., 519., 495., 452., 468.,\n",
       "        494., 501., 497., 538., 488., 499., 519., 496., 465., 524., 510.,\n",
       "        481., 488., 520., 468., 462., 513., 478., 458., 468., 518., 462.,\n",
       "        472., 461., 498., 486., 518., 482., 489., 499., 539., 468., 524.,\n",
       "        486., 457., 533., 457., 536., 493., 478., 501., 476., 496., 483.,\n",
       "        500., 490., 479., 486., 471., 499., 481., 460., 470., 485., 522.,\n",
       "        523., 481., 463., 482., 510., 525., 496., 477., 497., 509., 524.,\n",
       "        509., 481., 505., 479., 492., 495., 517., 477., 525., 489., 448.,\n",
       "        456.])]"
      ]
     },
     "execution_count": 6,
     "metadata": {},
     "output_type": "execute_result"
    }
   ],
   "source": [
    "result"
   ]
  }
 ],
 "metadata": {
  "kernelspec": {
   "display_name": "Python 3",
   "language": "python",
   "name": "python3"
  },
  "language_info": {
   "codemirror_mode": {
    "name": "ipython",
    "version": 3
   },
   "file_extension": ".py",
   "mimetype": "text/x-python",
   "name": "python",
   "nbconvert_exporter": "python",
   "pygments_lexer": "ipython3",
   "version": "3.9.13"
  },
  "orig_nbformat": 4
 },
 "nbformat": 4,
 "nbformat_minor": 2
}
