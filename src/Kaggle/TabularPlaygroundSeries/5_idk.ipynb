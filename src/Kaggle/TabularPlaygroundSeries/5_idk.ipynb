{
 "cells": [
  {
   "cell_type": "code",
   "execution_count": 1,
   "metadata": {},
   "outputs": [],
   "source": [
    "import pandas as pd\n",
    "import numpy as np\n",
    "import matplotlib.pyplot as plt\n",
    "import seaborn as sns\n",
    "import scipy as sp\n",
    "\n",
    "from sklearn.preprocessing import StandardScaler\n",
    "from sklearn.metrics import roc_auc_score\n",
    "from sklearn.linear_model import LogisticRegression\n",
    "from sklearn.ensemble import RandomForestClassifier\n",
    "from sklearn.model_selection import cross_validate\n",
    "from sklearn.model_selection import train_test_split\n",
    "from sklearn.model_selection import GridSearchCV\n",
    "from sklearn.tree import plot_tree\n",
    "from sklearn import linear_model\n",
    "\n",
    "sns.set(rc={\"figure.figsize\": (13, 10)})\n",
    "\n",
    "import gc\n",
    "import warnings\n",
    "warnings.filterwarnings(\"ignore\")"
   ]
  },
  {
   "cell_type": "code",
   "execution_count": null,
   "metadata": {},
   "outputs": [],
   "source": [
    "train_data = pd.read_csv(\"./data/train.csv\").set_index(\"id\")\n",
    "valid_data = pd.read_csv(\"./data/test.csv\").set_index(\"id\")\n",
    "datasets = [train_data, valid_data]\n",
    "train_data.shape, valid_data.shape"
   ]
  },
  {
   "cell_type": "code",
   "execution_count": null,
   "metadata": {},
   "outputs": [],
   "source": [
    "train_data.head()"
   ]
  },
  {
   "cell_type": "code",
   "execution_count": null,
   "metadata": {},
   "outputs": [],
   "source": [
    "TARGET = \"failure\"\n",
    "SEED = 0"
   ]
  },
  {
   "cell_type": "code",
   "execution_count": null,
   "metadata": {},
   "outputs": [],
   "source": [
    "# load csv and set id column as index\n",
    "\n",
    "# lable encode categorical columns\n",
    "cat_cols = ['product_code', 'attribute_0', 'attribute_1']\n",
    "\n",
    "for data in datasets:\n",
    "    for col in cat_cols:\n",
    "        data[col] = data[col].astype('category').cat.codes\n",
    "\n",
    "train_data.head()"
   ]
  },
  {
   "cell_type": "code",
   "execution_count": null,
   "metadata": {},
   "outputs": [],
   "source": [
    "print(\"NAs in adild data: \", valid_data.isna().sum().sum(), \"\\n\")\n",
    "train_data.isna().sum()"
   ]
  },
  {
   "cell_type": "code",
   "execution_count": null,
   "metadata": {},
   "outputs": [],
   "source": [
    "for data in datasets:\n",
    "    for col in data.filter(regex=\"measurement_\").columns.tolist():\n",
    "        data[col] = data.groupby([\"product_code\", \"attribute_0\", \"attribute_1\"])[col].transform(lambda x: x.fillna(x.median()))\n",
    "        \n",
    "    data['loading'] = data.groupby(\"product_code\")[\"loading\"].transform(lambda x: x.fillna(x.median()))\n",
    "\n",
    "print(f\"Train NAs: {train_data.isna().sum().sum()}\\nTest NAs: {valid_data.isna().sum().sum()}\")"
   ]
  },
  {
   "cell_type": "code",
   "execution_count": null,
   "metadata": {},
   "outputs": [],
   "source": [
    "train_copy = train_data.copy(deep=True)\n",
    "valid_copy = valid_data.copy(deep=True)\n",
    "train_copy[\"origin\"] = \"train\"\n",
    "valid_copy[\"origin\"] = \"valid\"\n",
    "valid_copy[TARGET] = -1\n",
    "\n",
    "train_val_copy = pd.concat([train_copy, valid_copy], axis=0)\n",
    "\n",
    "del train_copy, valid_copy\n",
    "gc.collect()"
   ]
  }
 ],
 "metadata": {
  "kernelspec": {
   "display_name": "Python 3.10.4 ('ml_general')",
   "language": "python",
   "name": "python3"
  },
  "language_info": {
   "codemirror_mode": {
    "name": "ipython",
    "version": 3
   },
   "file_extension": ".py",
   "mimetype": "text/x-python",
   "name": "python",
   "nbconvert_exporter": "python",
   "pygments_lexer": "ipython3",
   "version": "3.10.4"
  },
  "orig_nbformat": 4,
  "vscode": {
   "interpreter": {
    "hash": "67e5eb89067d95a1a0947a31028cf9465f21e77887e4ef01d6b8c2d726ae553b"
   }
  }
 },
 "nbformat": 4,
 "nbformat_minor": 2
}
