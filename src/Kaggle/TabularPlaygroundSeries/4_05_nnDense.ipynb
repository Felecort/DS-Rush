{
 "cells": [
  {
   "cell_type": "code",
   "execution_count": 1,
   "metadata": {},
   "outputs": [
    {
     "name": "stderr",
     "output_type": "stream",
     "text": [
      "d:\\Projects\\PythonProjects\\_venvs\\ml_general\\lib\\site-packages\\torchvision\\models\\detection\\anchor_utils.py:63: UserWarning: Failed to initialize NumPy: module compiled against API version 0x10 but this version of numpy is 0xe (Triggered internally at  ..\\torch\\csrc\\utils\\tensor_numpy.cpp:68.)\n",
      "  device: torch.device = torch.device(\"cpu\"),\n"
     ]
    }
   ],
   "source": [
    "import torch\n",
    "import torch.nn as nn # NN networks (CNN, RNN, losses)\n",
    "import torch.optim as optim # Aptimizers (Adam, Adadelta, Adagrad)\n",
    "import torch.nn.functional as F # Activarions func (ReLU, Sigmoid) also included in nn\n",
    "from torch.utils.data import DataLoader, Dataset # Dataset manager\n",
    "import torchvision.datasets as datasets # Datasets\n",
    "import torchvision.transforms as transforms # Transformation to datasets\n",
    "import pandas as pd\n",
    "import numpy as np\n",
    "import matplotlib.pyplot as plt\n",
    "import seaborn as sns\n",
    "import scipy as sp\n",
    "from sklearn.model_selection import train_test_split\n",
    "from sklearn.preprocessing import StandardScaler\n",
    "\n",
    "sns.set(rc={\"figure.figsize\": (13, 10)})"
   ]
  },
  {
   "cell_type": "code",
   "execution_count": 2,
   "metadata": {},
   "outputs": [],
   "source": [
    "# Set device\n",
    "device = torch.device(\"cuda\" if torch.cuda.is_available() else \"cpu\")\n",
    "\n",
    "TARGET = \"failure\"\n",
    "SEED = 0"
   ]
  },
  {
   "cell_type": "markdown",
   "metadata": {},
   "source": [
    "# Data Preparation"
   ]
  },
  {
   "cell_type": "code",
   "execution_count": 3,
   "metadata": {},
   "outputs": [
    {
     "data": {
      "text/plain": [
       "((26570, 25), (20775, 24))"
      ]
     },
     "execution_count": 3,
     "metadata": {},
     "output_type": "execute_result"
    }
   ],
   "source": [
    "train_data = pd.read_csv(\"./data/train.csv\").set_index(\"id\")\n",
    "valid_data = pd.read_csv(\"./data/test.csv\").set_index(\"id\")\n",
    "datasets = [train_data, valid_data]\n",
    "train_data.shape, valid_data.shape"
   ]
  },
  {
   "cell_type": "code",
   "execution_count": 4,
   "metadata": {},
   "outputs": [],
   "source": [
    "# load csv and set id column as index\n",
    "\n",
    "# lable encode categorical columns\n",
    "cat_cols = ['product_code', 'attribute_0', 'attribute_1']\n",
    "\n",
    "for data in datasets:\n",
    "    for col in cat_cols:\n",
    "        data[col] = data[col].astype('category').cat.codes\n"
   ]
  },
  {
   "cell_type": "code",
   "execution_count": 5,
   "metadata": {},
   "outputs": [
    {
     "name": "stdout",
     "output_type": "stream",
     "text": [
      "Train NAs: 20273\n",
      "Test NAs: 15709\n"
     ]
    }
   ],
   "source": [
    "print(f\"Train NAs: {train_data.isna().sum().sum()}\\nTest NAs: {valid_data.isna().sum().sum()}\")"
   ]
  },
  {
   "cell_type": "code",
   "execution_count": 6,
   "metadata": {},
   "outputs": [
    {
     "name": "stdout",
     "output_type": "stream",
     "text": [
      "Train NAs: 0\n",
      "Test NAs: 0\n"
     ]
    }
   ],
   "source": [
    "for data in datasets:\n",
    "    for col in data.filter(regex=\"measurement_\").columns.tolist():\n",
    "        data[col] = data.groupby([\"product_code\", \"attribute_0\", \"attribute_1\"])[col].transform(lambda x: x.fillna(x.median()))\n",
    "        \n",
    "    data['loading'] = data.groupby(\"product_code\")[\"loading\"].transform(lambda x: x.fillna(x.median()))\n",
    "\n",
    "print(f\"Train NAs: {train_data.isna().sum().sum()}\\nTest NAs: {valid_data.isna().sum().sum()}\")"
   ]
  },
  {
   "cell_type": "code",
   "execution_count": 7,
   "metadata": {},
   "outputs": [],
   "source": [
    "# apply StandardScaler to continuous columns\n",
    "scaling_dropped_columns = ['product_code','attribute_0', 'attribute_1',  'attribute_2', 'attribute_3']\n",
    "scaler = StandardScaler()\n",
    "cols = train_data.columns.drop(scaling_dropped_columns + [TARGET]).tolist()\n",
    "train_data[cols] = scaler.fit_transform(train_data[cols])\n",
    "\n",
    "\n",
    "scaler = StandardScaler()\n",
    "cols = valid_data.columns.drop(scaling_dropped_columns).tolist()\n",
    "valid_data[cols] = scaler.fit_transform(valid_data[cols])"
   ]
  },
  {
   "cell_type": "code",
   "execution_count": 8,
   "metadata": {},
   "outputs": [
    {
     "data": {
      "text/html": [
       "<div>\n",
       "<style scoped>\n",
       "    .dataframe tbody tr th:only-of-type {\n",
       "        vertical-align: middle;\n",
       "    }\n",
       "\n",
       "    .dataframe tbody tr th {\n",
       "        vertical-align: top;\n",
       "    }\n",
       "\n",
       "    .dataframe thead th {\n",
       "        text-align: right;\n",
       "    }\n",
       "</style>\n",
       "<table border=\"1\" class=\"dataframe\">\n",
       "  <thead>\n",
       "    <tr style=\"text-align: right;\">\n",
       "      <th></th>\n",
       "      <th>product_code</th>\n",
       "      <th>loading</th>\n",
       "      <th>attribute_0</th>\n",
       "      <th>attribute_1</th>\n",
       "      <th>attribute_2</th>\n",
       "      <th>attribute_3</th>\n",
       "      <th>measurement_0</th>\n",
       "      <th>measurement_1</th>\n",
       "      <th>measurement_2</th>\n",
       "      <th>measurement_3</th>\n",
       "      <th>...</th>\n",
       "      <th>measurement_10</th>\n",
       "      <th>measurement_11</th>\n",
       "      <th>measurement_12</th>\n",
       "      <th>measurement_13</th>\n",
       "      <th>measurement_14</th>\n",
       "      <th>measurement_15</th>\n",
       "      <th>measurement_16</th>\n",
       "      <th>measurement_17</th>\n",
       "      <th>failure_true</th>\n",
       "      <th>failure_false</th>\n",
       "    </tr>\n",
       "    <tr>\n",
       "      <th>id</th>\n",
       "      <th></th>\n",
       "      <th></th>\n",
       "      <th></th>\n",
       "      <th></th>\n",
       "      <th></th>\n",
       "      <th></th>\n",
       "      <th></th>\n",
       "      <th></th>\n",
       "      <th></th>\n",
       "      <th></th>\n",
       "      <th></th>\n",
       "      <th></th>\n",
       "      <th></th>\n",
       "      <th></th>\n",
       "      <th></th>\n",
       "      <th></th>\n",
       "      <th></th>\n",
       "      <th></th>\n",
       "      <th></th>\n",
       "      <th></th>\n",
       "      <th></th>\n",
       "    </tr>\n",
       "  </thead>\n",
       "  <tbody>\n",
       "    <tr>\n",
       "      <th>0</th>\n",
       "      <td>0</td>\n",
       "      <td>-1.227197</td>\n",
       "      <td>1</td>\n",
       "      <td>2</td>\n",
       "      <td>9</td>\n",
       "      <td>5</td>\n",
       "      <td>-0.101025</td>\n",
       "      <td>-0.055370</td>\n",
       "      <td>-0.681939</td>\n",
       "      <td>0.250049</td>\n",
       "      <td>...</td>\n",
       "      <td>-0.188813</td>\n",
       "      <td>-1.068856</td>\n",
       "      <td>2.413520</td>\n",
       "      <td>-0.558904</td>\n",
       "      <td>-0.014704</td>\n",
       "      <td>-1.311779</td>\n",
       "      <td>-1.081371</td>\n",
       "      <td>0.533171</td>\n",
       "      <td>0</td>\n",
       "      <td>1</td>\n",
       "    </tr>\n",
       "    <tr>\n",
       "      <th>1</th>\n",
       "      <td>0</td>\n",
       "      <td>-1.103898</td>\n",
       "      <td>1</td>\n",
       "      <td>2</td>\n",
       "      <td>9</td>\n",
       "      <td>5</td>\n",
       "      <td>1.599402</td>\n",
       "      <td>-1.246039</td>\n",
       "      <td>-0.984141</td>\n",
       "      <td>0.424097</td>\n",
       "      <td>...</td>\n",
       "      <td>1.332845</td>\n",
       "      <td>-0.851891</td>\n",
       "      <td>0.036948</td>\n",
       "      <td>-0.824915</td>\n",
       "      <td>-0.432792</td>\n",
       "      <td>-0.400329</td>\n",
       "      <td>-0.504569</td>\n",
       "      <td>-0.162795</td>\n",
       "      <td>0</td>\n",
       "      <td>1</td>\n",
       "    </tr>\n",
       "    <tr>\n",
       "      <th>2</th>\n",
       "      <td>0</td>\n",
       "      <td>-1.167221</td>\n",
       "      <td>1</td>\n",
       "      <td>2</td>\n",
       "      <td>9</td>\n",
       "      <td>5</td>\n",
       "      <td>1.113565</td>\n",
       "      <td>-1.722306</td>\n",
       "      <td>-0.379737</td>\n",
       "      <td>0.267152</td>\n",
       "      <td>...</td>\n",
       "      <td>-0.372461</td>\n",
       "      <td>0.192381</td>\n",
       "      <td>1.449204</td>\n",
       "      <td>0.947592</td>\n",
       "      <td>1.795620</td>\n",
       "      <td>-0.601906</td>\n",
       "      <td>0.905460</td>\n",
       "      <td>-0.321265</td>\n",
       "      <td>0</td>\n",
       "      <td>1</td>\n",
       "    </tr>\n",
       "    <tr>\n",
       "      <th>3</th>\n",
       "      <td>0</td>\n",
       "      <td>-0.687412</td>\n",
       "      <td>1</td>\n",
       "      <td>2</td>\n",
       "      <td>9</td>\n",
       "      <td>5</td>\n",
       "      <td>1.356484</td>\n",
       "      <td>-1.484172</td>\n",
       "      <td>-0.077535</td>\n",
       "      <td>-0.499464</td>\n",
       "      <td>...</td>\n",
       "      <td>0.166095</td>\n",
       "      <td>-0.539623</td>\n",
       "      <td>-1.162399</td>\n",
       "      <td>-0.360964</td>\n",
       "      <td>-0.337567</td>\n",
       "      <td>0.777659</td>\n",
       "      <td>0.434029</td>\n",
       "      <td>1.060658</td>\n",
       "      <td>0</td>\n",
       "      <td>1</td>\n",
       "    </tr>\n",
       "    <tr>\n",
       "      <th>4</th>\n",
       "      <td>0</td>\n",
       "      <td>1.551783</td>\n",
       "      <td>1</td>\n",
       "      <td>2</td>\n",
       "      <td>9</td>\n",
       "      <td>5</td>\n",
       "      <td>0.384811</td>\n",
       "      <td>-1.484172</td>\n",
       "      <td>0.526868</td>\n",
       "      <td>1.563960</td>\n",
       "      <td>...</td>\n",
       "      <td>0.702465</td>\n",
       "      <td>0.511408</td>\n",
       "      <td>0.502170</td>\n",
       "      <td>0.473789</td>\n",
       "      <td>-2.285168</td>\n",
       "      <td>-1.232085</td>\n",
       "      <td>-0.028874</td>\n",
       "      <td>-1.029515</td>\n",
       "      <td>0</td>\n",
       "      <td>1</td>\n",
       "    </tr>\n",
       "  </tbody>\n",
       "</table>\n",
       "<p>5 rows × 26 columns</p>\n",
       "</div>"
      ],
      "text/plain": [
       "    product_code   loading  attribute_0  attribute_1  attribute_2  \\\n",
       "id                                                                  \n",
       "0              0 -1.227197            1            2            9   \n",
       "1              0 -1.103898            1            2            9   \n",
       "2              0 -1.167221            1            2            9   \n",
       "3              0 -0.687412            1            2            9   \n",
       "4              0  1.551783            1            2            9   \n",
       "\n",
       "    attribute_3  measurement_0  measurement_1  measurement_2  measurement_3  \\\n",
       "id                                                                            \n",
       "0             5      -0.101025      -0.055370      -0.681939       0.250049   \n",
       "1             5       1.599402      -1.246039      -0.984141       0.424097   \n",
       "2             5       1.113565      -1.722306      -0.379737       0.267152   \n",
       "3             5       1.356484      -1.484172      -0.077535      -0.499464   \n",
       "4             5       0.384811      -1.484172       0.526868       1.563960   \n",
       "\n",
       "    ...  measurement_10  measurement_11  measurement_12  measurement_13  \\\n",
       "id  ...                                                                   \n",
       "0   ...       -0.188813       -1.068856        2.413520       -0.558904   \n",
       "1   ...        1.332845       -0.851891        0.036948       -0.824915   \n",
       "2   ...       -0.372461        0.192381        1.449204        0.947592   \n",
       "3   ...        0.166095       -0.539623       -1.162399       -0.360964   \n",
       "4   ...        0.702465        0.511408        0.502170        0.473789   \n",
       "\n",
       "    measurement_14  measurement_15  measurement_16  measurement_17  \\\n",
       "id                                                                   \n",
       "0        -0.014704       -1.311779       -1.081371        0.533171   \n",
       "1        -0.432792       -0.400329       -0.504569       -0.162795   \n",
       "2         1.795620       -0.601906        0.905460       -0.321265   \n",
       "3        -0.337567        0.777659        0.434029        1.060658   \n",
       "4        -2.285168       -1.232085       -0.028874       -1.029515   \n",
       "\n",
       "    failure_true  failure_false  \n",
       "id                               \n",
       "0              0              1  \n",
       "1              0              1  \n",
       "2              0              1  \n",
       "3              0              1  \n",
       "4              0              1  \n",
       "\n",
       "[5 rows x 26 columns]"
      ]
     },
     "execution_count": 8,
     "metadata": {},
     "output_type": "execute_result"
    }
   ],
   "source": [
    "train_data.rename(columns={\"failure\": \"failure_true\"}, inplace=True)\n",
    "d = {0: 1, 1: 0}\n",
    "train_data[\"failure_false\"] = train_data[\"failure_true\"].map(d)\n",
    "\n",
    "train_data.head()\n"
   ]
  },
  {
   "cell_type": "code",
   "execution_count": 9,
   "metadata": {},
   "outputs": [],
   "source": [
    "reduce_columns = [f\"measurement_{i}\" for i in range(0, 3)] + \\\n",
    "    [f\"measurement_{i}\" for i in range(10, 18)]\n"
   ]
  },
  {
   "cell_type": "code",
   "execution_count": 10,
   "metadata": {},
   "outputs": [],
   "source": [
    "train_data = train_data.drop(columns=reduce_columns)\n",
    "valid_data = valid_data.drop(columns=reduce_columns)"
   ]
  },
  {
   "cell_type": "markdown",
   "metadata": {},
   "source": [
    "# Create DataLoader"
   ]
  },
  {
   "cell_type": "code",
   "execution_count": 11,
   "metadata": {},
   "outputs": [],
   "source": [
    "class KaggleData(Dataset):\n",
    "    def __init__(self, data, TARGET) -> None:\n",
    "        super().__init__()\n",
    "        \n",
    "        X = data.drop(columns=TARGET).values\n",
    "        y = data[TARGET].values\n",
    "        \n",
    "        self.X_train = torch.tensor(X, dtype=torch.float32)\n",
    "        self.y_train = torch.tensor(y, dtype=torch.float32)\n",
    "    \n",
    "    def __len__(self):\n",
    "        return len(self.X_train)\n",
    "    \n",
    "    def __getitem__(self, index):\n",
    "        return self.X_train[index], self.y_train[index]\n",
    "        "
   ]
  },
  {
   "cell_type": "markdown",
   "metadata": {},
   "source": [
    "# Create a Model"
   ]
  },
  {
   "cell_type": "code",
   "execution_count": 12,
   "metadata": {},
   "outputs": [],
   "source": [
    "len_train_data = len(train_data)\n",
    "input_size = len(train_data.columns) - 2\n",
    "\n",
    "train_amount = int(len_train_data * 0.25)\n",
    "test_amount = len_train_data - train_amount\n",
    "\n",
    "num_classes = 2\n",
    "# Hyperparametrs\n",
    "learning_rate = 0.001\n",
    "num_epoches = 40\n",
    "batch_size = 64"
   ]
  },
  {
   "cell_type": "code",
   "execution_count": 13,
   "metadata": {},
   "outputs": [],
   "source": [
    "\n",
    "test_train_data = KaggleData(train_data, [\"failure_true\", \"failure_false\"])\n",
    "train_amount = 20000\n",
    "test_amount = 26570 - train_amount\n",
    "train_set, test_set = torch.utils.data.random_split(test_train_data, [train_amount, test_amount])\n",
    "\n",
    "train_loader = DataLoader(dataset=train_set, batch_size=batch_size, shuffle=True)\n",
    "test_loader = DataLoader(dataset=test_set, batch_size=batch_size, shuffle=True)"
   ]
  },
  {
   "cell_type": "code",
   "execution_count": 14,
   "metadata": {},
   "outputs": [],
   "source": [
    "class NN(nn.Module):\n",
    "    def __init__(self, input_size, num_classes):\n",
    "        super().__init__()\n",
    "        \n",
    "        self.first_sequential = nn.Sequential(\n",
    "            nn.Linear(input_size, 70)\n",
    "            \n",
    "        )\n",
    "        \n",
    "        \n",
    "        self.fcs = nn.Sequential(\n",
    "            nn.Linear(input_size, 100),\n",
    "            # nn.BatchNorm1d(100),\n",
    "            nn.Sigmoid(),\n",
    "            nn.Dropout(p=0.5),\n",
    "            nn.Linear(100, 100),\n",
    "            nn.BatchNorm1d(100),\n",
    "            nn.Sigmoid(),\n",
    "            nn.Dropout(p=0.5),\n",
    "            nn.Linear(100, num_classes),\n",
    "            \n",
    "            nn.Softmax(dim=1)\n",
    "        )\n",
    "\n",
    "    def forward(self, x):\n",
    "        x = self.fcs(x)\n",
    "        return x\n"
   ]
  },
  {
   "cell_type": "code",
   "execution_count": 15,
   "metadata": {},
   "outputs": [],
   "source": [
    "# Initialize model\n",
    "model = NN(input_size=input_size, num_classes=num_classes).to(device=device)\n",
    "\n",
    "criterion = nn.CrossEntropyLoss(weight=torch.tensor([1, 5]).to(device=device))\n",
    "# criterion = nn.BCELoss(weight=torch.tensor([1, 10]).to(device=device))\n",
    "optimizer = optim.Adam(model.parameters(), lr=learning_rate)"
   ]
  },
  {
   "cell_type": "code",
   "execution_count": 16,
   "metadata": {},
   "outputs": [
    {
     "name": "stdout",
     "output_type": "stream",
     "text": [
      "[0.0, 1.0] [0.0, 1.0] 1.5324881076812744\n",
      "[0.0, 1.0] [1.0, 0.0] 1.496884822845459\n",
      "[0.0, 1.0] [0.0, 1.0] 1.5039927959442139\n",
      "[0.0, 1.0] [0.0, 1.0] 1.5112712383270264\n",
      "[0.0, 1.0] [1.0, 0.0] 1.5510326623916626\n",
      "[0.0, 1.0] [1.0, 0.0] 1.5112125873565674\n",
      "[0.0, 1.0] [0.0, 1.0] 1.479432463645935\n",
      "[0.0, 1.0] [1.0, 0.0] 1.5113861560821533\n",
      "[0.0, 1.0] [0.0, 1.0] 1.5110790729522705\n",
      "[0.0, 1.0] [0.0, 1.0] 1.5347487926483154\n",
      "[0.0, 1.0] [0.0, 1.0] 1.5505751371383667\n",
      "[0.0, 1.0] [0.0, 1.0] 1.5031092166900635\n",
      "[0.0, 1.0] [0.0, 1.0] 1.5348542928695679\n",
      "[0.0, 1.0] [0.0, 1.0] 1.5584700107574463\n",
      "[0.0, 1.0] [0.0, 1.0] 1.503065586090088\n",
      "[0.0, 1.0] [1.0, 0.0] 1.4556291103363037\n",
      "[0.0, 1.0] [0.0, 1.0] 1.5188791751861572\n",
      "[0.0, 1.0] [0.0, 1.0] 1.534698486328125\n",
      "[0.0, 1.0] [0.0, 1.0] 1.5346999168395996\n",
      "[0.0, 1.0] [1.0, 0.0] 1.5109754800796509\n",
      "[0.0, 1.0] [0.0, 1.0] 1.526779294013977\n",
      "[0.0, 1.0] [1.0, 0.0] 1.495152473449707\n",
      "[0.0, 1.0] [0.0, 1.0] 1.5188713073730469\n",
      "[0.0, 1.0] [0.0, 1.0] 1.5030553340911865\n",
      "[0.0, 1.0] [1.0, 0.0] 1.5030481815338135\n",
      "[0.0, 1.0] [1.0, 0.0] 1.495140552520752\n",
      "[0.0, 1.0] [1.0, 0.0] 1.5188655853271484\n",
      "[0.0, 1.0] [0.0, 1.0] 1.471418857574463\n",
      "[0.0, 1.0] [1.0, 0.0] 1.4556018114089966\n",
      "[0.0, 1.0] [0.0, 1.0] 1.5030488967895508\n",
      "[0.0, 1.0] [0.0, 1.0] 1.5267761945724487\n",
      "[0.0, 1.0] [0.0, 1.0] 1.495142936706543\n",
      "[0.0, 1.0] [0.0, 1.0] 1.4793239831924438\n",
      "[0.0, 1.0] [1.0, 0.0] 1.526772141456604\n",
      "[0.0, 1.0] [0.0, 1.0] 1.5188636779785156\n",
      "[0.0, 1.0] [1.0, 0.0] 1.5267729759216309\n",
      "[0.0, 1.0] [1.0, 0.0] 1.5188632011413574\n",
      "[0.0, 1.0] [0.0, 1.0] 1.5188629627227783\n",
      "[0.0, 1.0] [0.0, 1.0] 1.5188627243041992\n",
      "[0.0, 1.0] [0.0, 1.0] 1.5188630819320679\n"
     ]
    }
   ],
   "source": [
    "# Train model\n",
    "losses = []\n",
    "for epoch in range(num_epoches):\n",
    "    for batch_ind, (data, targets) in enumerate(train_loader):\n",
    "        # Data on cude\n",
    "        data = data.to(device=device)\n",
    "        # targets = targets.type(torch.LongTensor)\n",
    "        targets = targets.to(device=device)\n",
    "        \n",
    "        # Forawrd\n",
    "        scores = model(data) # Equal to model.forward(data)\n",
    "        loss = criterion(scores, targets)\n",
    "        # Backprop\n",
    "        optimizer.zero_grad()\n",
    "        loss.backward()\n",
    "\n",
    "        # Gradient descent or adam step\n",
    "        optimizer.step()\n",
    "        \n",
    "        if batch_ind % 100 == 0:\n",
    "            losses.append(loss.item())\n",
    "    print(scores[0].round().tolist(), targets[0].tolist(), loss.item())\n"
   ]
  },
  {
   "cell_type": "code",
   "execution_count": 17,
   "metadata": {},
   "outputs": [
    {
     "data": {
      "image/png": "[encoded data removed]",
      "text/plain": [
       "<Figure size 432x288 with 1 Axes>"
      ]
     },
     "metadata": {
      "needs_background": "light"
     },
     "output_type": "display_data"
    }
   ],
   "source": [
    "df = pd.DataFrame({\"loss\": losses})\n",
    "sns.set(rc={\"figure.figsize\": (13, 10)})\n",
    "df.plot()\n",
    "None"
   ]
  },
  {
   "cell_type": "code",
   "execution_count": 18,
   "metadata": {},
   "outputs": [
    {
     "name": "stdout",
     "output_type": "stream",
     "text": [
      "0.7946727549467275\n"
     ]
    }
   ],
   "source": [
    "def check_accuracy(loader, model):\n",
    "    num_correct = 0\n",
    "    num_samples = 0\n",
    "    model.eval()\n",
    "    res = 0\n",
    "    with torch.no_grad():\n",
    "        for i, (x, y) in enumerate(loader):\n",
    "            x = x.to(device=device)\n",
    "            y = y.to(device=device)\n",
    "            \n",
    "            pred = model(x).round()\n",
    "            score_tmp = (pred[:, 0] - y[:, 0]).abs()\n",
    "            res += score_tmp.sum()\n",
    "    print((test_amount - res.item()) / test_amount)\n",
    "\n",
    "    \n",
    "check_accuracy(test_loader, model)"
   ]
  },
  {
   "cell_type": "code",
   "execution_count": 19,
   "metadata": {},
   "outputs": [],
   "source": [
    "def create_submission(valid_data, model):\n",
    "    model.eval()\n",
    "    preds = torch.zeros(len(valid_data.values), 1)\n",
    "    with torch.no_grad():\n",
    "        for i, row in enumerate(valid_data.values):\n",
    "            row = torch.tensor([row], dtype=torch.float32).to(device=device)#.round()\n",
    "            score = model(row)\n",
    "            preds[i] = score[0][0]\n",
    "    return preds\n",
    "\n",
    "\n",
    "preds = create_submission(valid_data, model)\n"
   ]
  },
  {
   "cell_type": "code",
   "execution_count": 20,
   "metadata": {},
   "outputs": [],
   "source": [
    "res = preds.T.tolist()[0]"
   ]
  },
  {
   "cell_type": "code",
   "execution_count": 21,
   "metadata": {},
   "outputs": [
    {
     "data": {
      "text/html": [
       "<div>\n",
       "<style scoped>\n",
       "    .dataframe tbody tr th:only-of-type {\n",
       "        vertical-align: middle;\n",
       "    }\n",
       "\n",
       "    .dataframe tbody tr th {\n",
       "        vertical-align: top;\n",
       "    }\n",
       "\n",
       "    .dataframe thead th {\n",
       "        text-align: right;\n",
       "    }\n",
       "</style>\n",
       "<table border=\"1\" class=\"dataframe\">\n",
       "  <thead>\n",
       "    <tr style=\"text-align: right;\">\n",
       "      <th></th>\n",
       "      <th>id</th>\n",
       "      <th>failure</th>\n",
       "    </tr>\n",
       "  </thead>\n",
       "  <tbody>\n",
       "    <tr>\n",
       "      <th>0</th>\n",
       "      <td>26570</td>\n",
       "      <td>0</td>\n",
       "    </tr>\n",
       "    <tr>\n",
       "      <th>1</th>\n",
       "      <td>26571</td>\n",
       "      <td>0</td>\n",
       "    </tr>\n",
       "    <tr>\n",
       "      <th>2</th>\n",
       "      <td>26572</td>\n",
       "      <td>0</td>\n",
       "    </tr>\n",
       "    <tr>\n",
       "      <th>3</th>\n",
       "      <td>26573</td>\n",
       "      <td>0</td>\n",
       "    </tr>\n",
       "    <tr>\n",
       "      <th>4</th>\n",
       "      <td>26574</td>\n",
       "      <td>0</td>\n",
       "    </tr>\n",
       "  </tbody>\n",
       "</table>\n",
       "</div>"
      ],
      "text/plain": [
       "      id  failure\n",
       "0  26570        0\n",
       "1  26571        0\n",
       "2  26572        0\n",
       "3  26573        0\n",
       "4  26574        0"
      ]
     },
     "execution_count": 21,
     "metadata": {},
     "output_type": "execute_result"
    }
   ],
   "source": [
    "submission = pd.read_csv(\"./data/sample_submission.csv\")\n",
    "submission[TARGET] = res\n",
    "submission[TARGET] = submission[TARGET].astype(int)\n",
    "submission.head()"
   ]
  },
  {
   "cell_type": "code",
   "execution_count": 22,
   "metadata": {},
   "outputs": [],
   "source": [
    "submission[[\"id\", TARGET]].to_csv(\"./data/solution.csv\", index=False)"
   ]
  }
 ],
 "metadata": {
  "kernelspec": {
   "display_name": "Python 3.10.4 ('ml_general')",
   "language": "python",
   "name": "python3"
  },
  "language_info": {
   "codemirror_mode": {
    "name": "ipython",
    "version": 3
   },
   "file_extension": ".py",
   "mimetype": "text/x-python",
   "name": "python",
   "nbconvert_exporter": "python",
   "pygments_lexer": "ipython3",
   "version": "3.10.4"
  },
  "orig_nbformat": 4,
  "vscode": {
   "interpreter": {
    "hash": "67e5eb89067d95a1a0947a31028cf9465f21e77887e4ef01d6b8c2d726ae553b"
   }
  }
 },
 "nbformat": 4,
 "nbformat_minor": 2
}
