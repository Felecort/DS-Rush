{
 "cells": [
  {
   "cell_type": "markdown",
   "id": "ad3a59ea",
   "metadata": {
    "papermill": {
     "duration": 0.008102,
     "end_time": "2022-08-28T15:11:49.827939",
     "exception": false,
     "start_time": "2022-08-28T15:11:49.819837",
     "status": "completed"
    },
    "tags": []
   },
   "source": [
    "This notebook comes from [SARTH MIRASHI](http://www.kaggle.com/code/sarthmirashi07/soak-it-all-up-top-3-bagging-ensemble)"
   ]
  },
  {
   "cell_type": "markdown",
   "id": "958d75f6",
   "metadata": {
    "papermill": {
     "duration": 0.006589,
     "end_time": "2022-08-28T15:11:49.841602",
     "exception": false,
     "start_time": "2022-08-28T15:11:49.835013",
     "status": "completed"
    },
    "tags": []
   },
   "source": [
    "It has been slightly modified on its basis."
   ]
  },
  {
   "cell_type": "code",
   "execution_count": 1,
   "id": "99c3e94b",
   "metadata": {
    "execution": {
     "iopub.execute_input": "2022-08-28T15:11:49.858249Z",
     "iopub.status.busy": "2022-08-28T15:11:49.857335Z",
     "iopub.status.idle": "2022-08-28T15:11:51.540823Z",
     "shell.execute_reply": "2022-08-28T15:11:51.539594Z"
    },
    "papermill": {
     "duration": 1.695309,
     "end_time": "2022-08-28T15:11:51.543752",
     "exception": false,
     "start_time": "2022-08-28T15:11:49.848443",
     "status": "completed"
    },
    "tags": []
   },
   "outputs": [],
   "source": [
    "# ====================================================\n",
    "# Library\n",
    "# ====================================================\n",
    "\n",
    "import gc\n",
    "import warnings\n",
    "warnings.filterwarnings('ignore')\n",
    "import scipy as sp\n",
    "import numpy as np\n",
    "import pandas as pd\n",
    "pd.set_option('display.max_rows', 500)\n",
    "pd.set_option('display.max_columns', 500)\n",
    "pd.set_option('display.width', 1000)\n",
    "from tqdm.auto import tqdm\n",
    "import itertools\n",
    "from sklearn.preprocessing import StandardScaler, OrdinalEncoder, MinMaxScaler,LabelEncoder,OneHotEncoder\n",
    "from sklearn.metrics import roc_auc_score, roc_curve\n",
    "from imblearn.over_sampling import SMOTE"
   ]
  },
  {
   "cell_type": "code",
   "execution_count": 2,
   "id": "e8b1b134",
   "metadata": {
    "execution": {
     "iopub.execute_input": "2022-08-28T15:11:51.560243Z",
     "iopub.status.busy": "2022-08-28T15:11:51.559828Z",
     "iopub.status.idle": "2022-08-28T15:11:51.839602Z",
     "shell.execute_reply": "2022-08-28T15:11:51.838474Z"
    },
    "papermill": {
     "duration": 0.292024,
     "end_time": "2022-08-28T15:11:51.842963",
     "exception": false,
     "start_time": "2022-08-28T15:11:51.550939",
     "status": "completed"
    },
    "tags": []
   },
   "outputs": [],
   "source": [
    "# ====================================================\n",
    "# Import data\n",
    "# ====================================================\n",
    "\n",
    "\n",
    "train_data = pd.read_csv('../data/train.csv')\n",
    "target  = train_data['failure']\n",
    "test_data = pd.read_csv('../data/test.csv')\n",
    "sample_sub = pd.read_csv('../data/sample_submission.csv')\n",
    "\n"
   ]
  },
  {
   "cell_type": "code",
   "execution_count": 3,
   "id": "bf7c7156",
   "metadata": {
    "execution": {
     "iopub.execute_input": "2022-08-28T15:11:51.866734Z",
     "iopub.status.busy": "2022-08-28T15:11:51.866291Z",
     "iopub.status.idle": "2022-08-28T15:11:51.938734Z",
     "shell.execute_reply": "2022-08-28T15:11:51.937629Z"
    },
    "papermill": {
     "duration": 0.087992,
     "end_time": "2022-08-28T15:11:51.941621",
     "exception": false,
     "start_time": "2022-08-28T15:11:51.853629",
     "status": "completed"
    },
    "tags": []
   },
   "outputs": [],
   "source": [
    "meas_gr1_cols = [f\"measurement_{i:d}\" for i in list(range(3, 5)) + list(range(9, 17))]\n",
    "train_data['meas_gr1_avg'] = np.mean(train_data[meas_gr1_cols], axis=1)\n",
    "train_data['meas_gr1_std'] = np.std(train_data[meas_gr1_cols], axis=1)\n",
    "\n",
    "test_data['meas_gr1_avg'] = np.mean(test_data[meas_gr1_cols], axis=1)\n",
    "test_data['meas_gr1_std'] = np.std(test_data[meas_gr1_cols], axis=1) \n",
    "\n",
    "meas_gr2_cols = [f\"measurement_{i:d}\" for i in list(range(5, 9))]\n",
    "train_data['meas_gr2_avg'] = np.mean(train_data[meas_gr2_cols], axis=1)\n",
    "test_data['meas_gr2_avg'] = np.mean(test_data[meas_gr2_cols], axis=1)"
   ]
  },
  {
   "cell_type": "code",
   "execution_count": 4,
   "id": "db959a9b",
   "metadata": {
    "execution": {
     "iopub.execute_input": "2022-08-28T15:11:51.958314Z",
     "iopub.status.busy": "2022-08-28T15:11:51.957068Z",
     "iopub.status.idle": "2022-08-28T15:11:51.971175Z",
     "shell.execute_reply": "2022-08-28T15:11:51.970002Z"
    },
    "papermill": {
     "duration": 0.025417,
     "end_time": "2022-08-28T15:11:51.974113",
     "exception": false,
     "start_time": "2022-08-28T15:11:51.948696",
     "status": "completed"
    },
    "tags": []
   },
   "outputs": [],
   "source": [
    "train_data['attribute_2*3'] = train_data['attribute_2'] * train_data['attribute_3']\n",
    "test_data['attribute_2*3'] = test_data['attribute_2'] * test_data['attribute_3']\n",
    "\n",
    "\n",
    "train_data['meas17/attribute_2'] = train_data['measurement_17'] / train_data['attribute_2']\n",
    "test_data['meas17/attribute_2'] = test_data['measurement_17'] / test_data['attribute_2']\n",
    "\n",
    "train_data['attribute_23']= train_data['attribute_2'] / train_data['attribute_3']\n",
    "test_data['attribute_23'] = test_data['attribute_2'] / test_data['attribute_3']\n"
   ]
  },
  {
   "cell_type": "code",
   "execution_count": 5,
   "id": "50bb909d",
   "metadata": {
    "execution": {
     "iopub.execute_input": "2022-08-28T15:11:51.991815Z",
     "iopub.status.busy": "2022-08-28T15:11:51.989941Z",
     "iopub.status.idle": "2022-08-28T15:11:52.642671Z",
     "shell.execute_reply": "2022-08-28T15:11:52.641462Z"
    },
    "papermill": {
     "duration": 0.66412,
     "end_time": "2022-08-28T15:11:52.645332",
     "exception": false,
     "start_time": "2022-08-28T15:11:51.981212",
     "status": "completed"
    },
    "tags": []
   },
   "outputs": [],
   "source": [
    "train_data.fillna(train_data.mean(), inplace=True)\n",
    "test_data.fillna(train_data.mean(), inplace=True)"
   ]
  },
  {
   "cell_type": "code",
   "execution_count": 6,
   "id": "f094911f",
   "metadata": {
    "execution": {
     "iopub.execute_input": "2022-08-28T15:11:52.661845Z",
     "iopub.status.busy": "2022-08-28T15:11:52.660687Z",
     "iopub.status.idle": "2022-08-28T15:11:52.744628Z",
     "shell.execute_reply": "2022-08-28T15:11:52.743688Z"
    },
    "papermill": {
     "duration": 0.095018,
     "end_time": "2022-08-28T15:11:52.747466",
     "exception": false,
     "start_time": "2022-08-28T15:11:52.652448",
     "status": "completed"
    },
    "tags": []
   },
   "outputs": [
    {
     "data": {
      "text/plain": [
       "array([[0.2       , 0.27272727, 0.21428571, ..., 0.51092779, 0.61075484,\n",
       "        0.50997772],\n",
       "       [0.36666667, 0.24242424, 0.        , ..., 0.28532055, 0.54762605,\n",
       "        0.4313589 ],\n",
       "       [0.26666667, 0.36363636, 0.14285714, ..., 0.49406526, 0.57410131,\n",
       "        0.52962377],\n",
       "       ...,\n",
       "       [0.33333333, 0.33333333, 0.07142857, ..., 0.57733055, 0.66691181,\n",
       "        0.41943065],\n",
       "       [0.26666667, 0.48484848, 0.39285714, ..., 0.50045745, 0.66096958,\n",
       "        0.39894423],\n",
       "       [0.        , 0.33333333, 0.39285714, ..., 0.45773386, 0.57886686,\n",
       "        0.346717  ]])"
      ]
     },
     "execution_count": 6,
     "metadata": {},
     "output_type": "execute_result"
    }
   ],
   "source": [
    "from sklearn.preprocessing import StandardScaler\n",
    "cols = [col for col in train_data.columns if col not in [\"id\", \"product_code\", \"failure\", \"loading\",\n",
    "                                                         \"attribute_2\", \"attribute_3\", \"attribute_1\", \"attribute_0\", 'attribute_23', 'attribute_2*3']]\n",
    "attribute = [\"attribute_0\", \"attribute_1\", \"attribute_2\",\n",
    "             \"attribute_3\", 'attribute_23', 'attribute_2*3']\n",
    "\n",
    "enc = OneHotEncoder(handle_unknown='ignore')\n",
    "enc.fit(train_data[attribute])\n",
    "enc.fit(test_data[attribute])\n",
    "\n",
    "le = LabelEncoder()\n",
    "train_data[\"attribute_0\"] = le.fit_transform(train_data[\"attribute_0\"])\n",
    "train_data[\"attribute_1\"] = le.fit_transform(train_data[\"attribute_1\"])\n",
    "train_data[\"product_code\"] = le.fit_transform(train_data[\"product_code\"])\n",
    "test_data[\"attribute_0\"] = le.fit_transform(test_data[\"attribute_0\"])\n",
    "test_data[\"attribute_1\"] = le.fit_transform(test_data[\"attribute_1\"])\n",
    "test_data[\"product_code\"] = le.fit_transform(test_data[\"product_code\"])\n",
    "\n",
    "Mm = MinMaxScaler()\n",
    "Mm.fit_transform(train_data[cols])\n",
    "Mm.fit_transform(test_data[cols])\n"
   ]
  },
  {
   "cell_type": "code",
   "execution_count": 7,
   "id": "49fae8ef",
   "metadata": {
    "execution": {
     "iopub.execute_input": "2022-08-28T15:11:52.765668Z",
     "iopub.status.busy": "2022-08-28T15:11:52.764618Z",
     "iopub.status.idle": "2022-08-28T15:11:52.794562Z",
     "shell.execute_reply": "2022-08-28T15:11:52.793322Z"
    },
    "papermill": {
     "duration": 0.041769,
     "end_time": "2022-08-28T15:11:52.797335",
     "exception": false,
     "start_time": "2022-08-28T15:11:52.755566",
     "status": "completed"
    },
    "tags": []
   },
   "outputs": [],
   "source": [
    "cdata = pd.concat([train_data ,test_data], ignore_index = True)\n",
    "\n",
    "cdata.drop(['id','failure'], axis = 1, inplace = True)"
   ]
  },
  {
   "cell_type": "code",
   "execution_count": 8,
   "id": "d8ef5ada",
   "metadata": {
    "execution": {
     "iopub.execute_input": "2022-08-28T15:11:52.813989Z",
     "iopub.status.busy": "2022-08-28T15:11:52.812839Z",
     "iopub.status.idle": "2022-08-28T15:11:52.823722Z",
     "shell.execute_reply": "2022-08-28T15:11:52.822555Z"
    },
    "papermill": {
     "duration": 0.022383,
     "end_time": "2022-08-28T15:11:52.826954",
     "exception": false,
     "start_time": "2022-08-28T15:11:52.804571",
     "status": "completed"
    },
    "tags": []
   },
   "outputs": [],
   "source": [
    "# ====================================================\n",
    "# Dropping Categorical variables\n",
    "# ====================================================\n",
    "\n",
    "cdata2 = cdata.copy()\n",
    "# cdata2.drop(['product_code','attribute_0','attribute_1'],axis = 1, inplace = True)\n",
    "\n",
    "\n",
    "# numeric_features  = cdata2.select_dtypes(np.number)\n",
    "# na_numeric_features = [feat for feat in numeric_features if feat in cdata2.loc[:,cdata2.isna().sum()>0].columns ]"
   ]
  },
  {
   "cell_type": "code",
   "execution_count": 9,
   "id": "f18b53b5",
   "metadata": {
    "execution": {
     "iopub.execute_input": "2022-08-28T15:11:52.843355Z",
     "iopub.status.busy": "2022-08-28T15:11:52.842695Z",
     "iopub.status.idle": "2022-08-28T15:11:52.847532Z",
     "shell.execute_reply": "2022-08-28T15:11:52.846639Z"
    },
    "papermill": {
     "duration": 0.015616,
     "end_time": "2022-08-28T15:11:52.849821",
     "exception": false,
     "start_time": "2022-08-28T15:11:52.834205",
     "status": "completed"
    },
    "tags": []
   },
   "outputs": [],
   "source": [
    "# ====================================================\n",
    "# Imputing median \n",
    "# ====================================================\n",
    "\n",
    "\n",
    "# for feat in na_numeric_features:\n",
    "#      cdata2[feat].fillna(cdata2[feat].median(),inplace = True)"
   ]
  },
  {
   "cell_type": "code",
   "execution_count": 9,
   "id": "797095d2",
   "metadata": {
    "execution": {
     "iopub.execute_input": "2022-08-28T15:11:52.866116Z",
     "iopub.status.busy": "2022-08-28T15:11:52.865317Z",
     "iopub.status.idle": "2022-08-28T15:11:52.890924Z",
     "shell.execute_reply": "2022-08-28T15:11:52.889811Z"
    },
    "papermill": {
     "duration": 0.036717,
     "end_time": "2022-08-28T15:11:52.893547",
     "exception": false,
     "start_time": "2022-08-28T15:11:52.856830",
     "status": "completed"
    },
    "tags": []
   },
   "outputs": [],
   "source": [
    "cdata2 = pd.get_dummies(cdata2, drop_first = True)"
   ]
  },
  {
   "cell_type": "code",
   "execution_count": 10,
   "id": "61f68e4f",
   "metadata": {
    "execution": {
     "iopub.execute_input": "2022-08-28T15:11:52.909556Z",
     "iopub.status.busy": "2022-08-28T15:11:52.909168Z",
     "iopub.status.idle": "2022-08-28T15:11:52.964604Z",
     "shell.execute_reply": "2022-08-28T15:11:52.963746Z"
    },
    "papermill": {
     "duration": 0.066469,
     "end_time": "2022-08-28T15:11:52.967143",
     "exception": false,
     "start_time": "2022-08-28T15:11:52.900674",
     "status": "completed"
    },
    "tags": []
   },
   "outputs": [],
   "source": [
    "# ====================================================\n",
    "# Scaling \n",
    "# ====================================================\n",
    "\n",
    "cdata3 = cdata2.copy()\n",
    "\n",
    "scaler = StandardScaler()\n",
    "scaler.fit(cdata3)\n",
    "cdata3 = pd.DataFrame(scaler.transform(cdata3), index = cdata3.index, columns = cdata3.columns)"
   ]
  },
  {
   "cell_type": "code",
   "execution_count": 11,
   "id": "c43e4064",
   "metadata": {
    "execution": {
     "iopub.execute_input": "2022-08-28T15:11:52.986329Z",
     "iopub.status.busy": "2022-08-28T15:11:52.985578Z",
     "iopub.status.idle": "2022-08-28T15:11:53.922136Z",
     "shell.execute_reply": "2022-08-28T15:11:53.920828Z"
    },
    "papermill": {
     "duration": 0.94807,
     "end_time": "2022-08-28T15:11:53.924819",
     "exception": false,
     "start_time": "2022-08-28T15:11:52.976749",
     "status": "completed"
    },
    "tags": []
   },
   "outputs": [
    {
     "name": "stdout",
     "output_type": "stream",
     "text": [
      "(26570, 30)\n",
      "(41842, 30)\n"
     ]
    }
   ],
   "source": [
    "\n",
    "# ====================================================\n",
    "# Balancing the dataset\n",
    "# ====================================================\n",
    "\n",
    "\n",
    "x_train  = cdata3.iloc[:train_data.shape[0],:]\n",
    "x_test  = cdata3.iloc[train_data.shape[0]:,:]\n",
    "\n",
    "print(x_train.shape)\n",
    "oversample = SMOTE()\n",
    "x_train, target = oversample.fit_resample(x_train, target)\n",
    "print(x_train.shape)"
   ]
  },
  {
   "cell_type": "code",
   "execution_count": 12,
   "id": "e1abdbfd",
   "metadata": {
    "execution": {
     "iopub.execute_input": "2022-08-28T15:11:53.941641Z",
     "iopub.status.busy": "2022-08-28T15:11:53.941005Z",
     "iopub.status.idle": "2022-08-28T15:11:55.305266Z",
     "shell.execute_reply": "2022-08-28T15:11:55.304173Z"
    },
    "papermill": {
     "duration": 1.376073,
     "end_time": "2022-08-28T15:11:55.308299",
     "exception": false,
     "start_time": "2022-08-28T15:11:53.932226",
     "status": "completed"
    },
    "tags": []
   },
   "outputs": [],
   "source": [
    "from catboost import CatBoostClassifier\n",
    "from sklearn.ensemble import GradientBoostingClassifier, ExtraTreesClassifier\n",
    "from sklearn.linear_model import RidgeClassifier, LogisticRegression\n",
    "from lightgbm import LGBMClassifier\n",
    "from sklearn.svm import SVC\n",
    "from sklearn.discriminant_analysis import LinearDiscriminantAnalysis\n",
    "from sklearn.naive_bayes import CategoricalNB"
   ]
  },
  {
   "cell_type": "code",
   "execution_count": 13,
   "id": "d0119fa6",
   "metadata": {
    "execution": {
     "iopub.execute_input": "2022-08-28T15:11:55.325194Z",
     "iopub.status.busy": "2022-08-28T15:11:55.324722Z",
     "iopub.status.idle": "2022-08-28T15:11:55.331081Z",
     "shell.execute_reply": "2022-08-28T15:11:55.329929Z"
    },
    "papermill": {
     "duration": 0.017579,
     "end_time": "2022-08-28T15:11:55.333540",
     "exception": false,
     "start_time": "2022-08-28T15:11:55.315961",
     "status": "completed"
    },
    "tags": []
   },
   "outputs": [],
   "source": [
    "lgb_params = {\n",
    "        'seed': 42,\n",
    "        'n_jobs': -1,\n",
    "        'lambda_l2': 2,\n",
    "        'metric': \"auc\",\n",
    "        'max_depth': -1,\n",
    "        'num_leaves': 100,\n",
    "        'boosting': 'gbdt',\n",
    "        'bagging_freq': 10,\n",
    "        'learning_rate': 0.03,\n",
    "        'objective': 'binary',\n",
    "        'min_data_in_leaf': 40,\n",
    "        'num_boost_round': 1000,\n",
    "        'feature_fraction': 0.90,\n",
    "        'bagging_fraction': 0.90,\n",
    "    }"
   ]
  },
  {
   "cell_type": "code",
   "execution_count": 14,
   "id": "75661b5a",
   "metadata": {
    "execution": {
     "iopub.execute_input": "2022-08-28T15:11:55.350177Z",
     "iopub.status.busy": "2022-08-28T15:11:55.349755Z",
     "iopub.status.idle": "2022-08-28T15:11:55.355120Z",
     "shell.execute_reply": "2022-08-28T15:11:55.353912Z"
    },
    "papermill": {
     "duration": 0.016137,
     "end_time": "2022-08-28T15:11:55.357373",
     "exception": false,
     "start_time": "2022-08-28T15:11:55.341236",
     "status": "completed"
    },
    "tags": []
   },
   "outputs": [],
   "source": [
    "params = {\"max_iter\": 200, \"C\": 0.0001, \"penalty\": \"l2\", \"solver\": \"newton-cg\"}"
   ]
  },
  {
   "cell_type": "code",
   "execution_count": 15,
   "id": "079313e2",
   "metadata": {
    "execution": {
     "iopub.execute_input": "2022-08-28T15:11:55.374760Z",
     "iopub.status.busy": "2022-08-28T15:11:55.374019Z",
     "iopub.status.idle": "2022-08-28T15:11:55.383553Z",
     "shell.execute_reply": "2022-08-28T15:11:55.382654Z"
    },
    "papermill": {
     "duration": 0.020926,
     "end_time": "2022-08-28T15:11:55.385705",
     "exception": false,
     "start_time": "2022-08-28T15:11:55.364779",
     "status": "completed"
    },
    "tags": []
   },
   "outputs": [],
   "source": [
    "models = {\n",
    "            'catboost':CatBoostClassifier(verbose = 0),\n",
    "          'lgbm':LGBMClassifier(**lgb_params),\n",
    "           'lr':LogisticRegression(**params),\n",
    "         }"
   ]
  },
  {
   "cell_type": "code",
   "execution_count": 16,
   "id": "814bb7cf",
   "metadata": {
    "execution": {
     "iopub.execute_input": "2022-08-28T15:11:55.402703Z",
     "iopub.status.busy": "2022-08-28T15:11:55.401858Z",
     "iopub.status.idle": "2022-08-28T15:11:55.410994Z",
     "shell.execute_reply": "2022-08-28T15:11:55.410141Z"
    },
    "papermill": {
     "duration": 0.020368,
     "end_time": "2022-08-28T15:11:55.413533",
     "exception": false,
     "start_time": "2022-08-28T15:11:55.393165",
     "status": "completed"
    },
    "tags": []
   },
   "outputs": [],
   "source": [
    "from sklearn.model_selection import KFold, cross_val_score\n",
    "def kf_cross_val(model,X,y):\n",
    "    \n",
    "    scores,feature_imp, features = [],[], []\n",
    "    \n",
    "    kf = KFold(n_splits=5,shuffle = True, random_state=42)\n",
    "    \n",
    "    for fold, (train_index, test_index) in enumerate(kf.split(X, y)):\n",
    "        \n",
    "        x_train = X.iloc[train_index]\n",
    "        y_train = y.loc[train_index]\n",
    "        x_test = X.loc[test_index]\n",
    "        y_test = y.loc[test_index]\n",
    "        \n",
    "        model.fit(x_train,y_train)\n",
    "        \n",
    "        y_pred = model.predict_proba(x_test)[:,1]     # edit \n",
    "        scores.append(roc_auc_score(y_test,y_pred))\n",
    "        \n",
    "        try:\n",
    "            feature_imp.append(model.feature_importances_)\n",
    "            features.append(model.feature_names_)\n",
    "        except AttributeError: # if model does not have .feature_importances_ attribute\n",
    "            pass\n",
    "        \n",
    "    return feature_imp, scores, features"
   ]
  },
  {
   "cell_type": "code",
   "execution_count": 17,
   "id": "57adea9f",
   "metadata": {
    "execution": {
     "iopub.execute_input": "2022-08-28T15:11:55.430985Z",
     "iopub.status.busy": "2022-08-28T15:11:55.430226Z",
     "iopub.status.idle": "2022-08-28T15:14:01.228687Z",
     "shell.execute_reply": "2022-08-28T15:14:01.227158Z"
    },
    "papermill": {
     "duration": 125.814194,
     "end_time": "2022-08-28T15:14:01.235470",
     "exception": false,
     "start_time": "2022-08-28T15:11:55.421276",
     "status": "completed"
    },
    "tags": []
   },
   "outputs": [
    {
     "name": "stdout",
     "output_type": "stream",
     "text": [
      "[LightGBM] [Warning] boosting is set=gbdt, boosting_type=gbdt will be ignored. Current value: boosting=gbdt\n",
      "[LightGBM] [Warning] feature_fraction is set=0.9, colsample_bytree=1.0 will be ignored. Current value: feature_fraction=0.9\n",
      "[LightGBM] [Warning] min_data_in_leaf is set=40, min_child_samples=20 will be ignored. Current value: min_data_in_leaf=40\n",
      "[LightGBM] [Warning] bagging_fraction is set=0.9, subsample=1.0 will be ignored. Current value: bagging_fraction=0.9\n",
      "[LightGBM] [Warning] lambda_l2 is set=2, reg_lambda=0.0 will be ignored. Current value: lambda_l2=2\n",
      "[LightGBM] [Warning] bagging_freq is set=10, subsample_freq=0 will be ignored. Current value: bagging_freq=10\n",
      "[LightGBM] [Warning] num_iterations is set=1000, num_boost_round=1000 will be ignored. Current value: num_iterations=1000\n",
      "[LightGBM] [Warning] boosting is set=gbdt, boosting_type=gbdt will be ignored. Current value: boosting=gbdt\n",
      "[LightGBM] [Warning] feature_fraction is set=0.9, colsample_bytree=1.0 will be ignored. Current value: feature_fraction=0.9\n",
      "[LightGBM] [Warning] min_data_in_leaf is set=40, min_child_samples=20 will be ignored. Current value: min_data_in_leaf=40\n",
      "[LightGBM] [Warning] bagging_fraction is set=0.9, subsample=1.0 will be ignored. Current value: bagging_fraction=0.9\n",
      "[LightGBM] [Warning] lambda_l2 is set=2, reg_lambda=0.0 will be ignored. Current value: lambda_l2=2\n",
      "[LightGBM] [Warning] bagging_freq is set=10, subsample_freq=0 will be ignored. Current value: bagging_freq=10\n",
      "[LightGBM] [Warning] num_iterations is set=1000, num_boost_round=1000 will be ignored. Current value: num_iterations=1000\n",
      "[LightGBM] [Warning] boosting is set=gbdt, boosting_type=gbdt will be ignored. Current value: boosting=gbdt\n",
      "[LightGBM] [Warning] feature_fraction is set=0.9, colsample_bytree=1.0 will be ignored. Current value: feature_fraction=0.9\n",
      "[LightGBM] [Warning] min_data_in_leaf is set=40, min_child_samples=20 will be ignored. Current value: min_data_in_leaf=40\n",
      "[LightGBM] [Warning] bagging_fraction is set=0.9, subsample=1.0 will be ignored. Current value: bagging_fraction=0.9\n",
      "[LightGBM] [Warning] lambda_l2 is set=2, reg_lambda=0.0 will be ignored. Current value: lambda_l2=2\n",
      "[LightGBM] [Warning] bagging_freq is set=10, subsample_freq=0 will be ignored. Current value: bagging_freq=10\n",
      "[LightGBM] [Warning] num_iterations is set=1000, num_boost_round=1000 will be ignored. Current value: num_iterations=1000\n",
      "[LightGBM] [Warning] boosting is set=gbdt, boosting_type=gbdt will be ignored. Current value: boosting=gbdt\n",
      "[LightGBM] [Warning] feature_fraction is set=0.9, colsample_bytree=1.0 will be ignored. Current value: feature_fraction=0.9\n",
      "[LightGBM] [Warning] min_data_in_leaf is set=40, min_child_samples=20 will be ignored. Current value: min_data_in_leaf=40\n",
      "[LightGBM] [Warning] bagging_fraction is set=0.9, subsample=1.0 will be ignored. Current value: bagging_fraction=0.9\n",
      "[LightGBM] [Warning] lambda_l2 is set=2, reg_lambda=0.0 will be ignored. Current value: lambda_l2=2\n",
      "[LightGBM] [Warning] bagging_freq is set=10, subsample_freq=0 will be ignored. Current value: bagging_freq=10\n",
      "[LightGBM] [Warning] num_iterations is set=1000, num_boost_round=1000 will be ignored. Current value: num_iterations=1000\n",
      "[LightGBM] [Warning] boosting is set=gbdt, boosting_type=gbdt will be ignored. Current value: boosting=gbdt\n",
      "[LightGBM] [Warning] feature_fraction is set=0.9, colsample_bytree=1.0 will be ignored. Current value: feature_fraction=0.9\n",
      "[LightGBM] [Warning] min_data_in_leaf is set=40, min_child_samples=20 will be ignored. Current value: min_data_in_leaf=40\n",
      "[LightGBM] [Warning] bagging_fraction is set=0.9, subsample=1.0 will be ignored. Current value: bagging_fraction=0.9\n",
      "[LightGBM] [Warning] lambda_l2 is set=2, reg_lambda=0.0 will be ignored. Current value: lambda_l2=2\n",
      "[LightGBM] [Warning] bagging_freq is set=10, subsample_freq=0 will be ignored. Current value: bagging_freq=10\n",
      "[LightGBM] [Warning] num_iterations is set=1000, num_boost_round=1000 will be ignored. Current value: num_iterations=1000\n",
      "----------\n",
      "catboost\n",
      "0.8922521668965588\n",
      "0.002238144037479318\n",
      "[]\n",
      "----------\n",
      "lgbm\n",
      "0.9055334738167307\n",
      "0.002059128510186577\n",
      "[]\n",
      "----------\n",
      "lr\n",
      "0.5929489971743468\n",
      "0.0061682184979402884\n",
      "[]\n"
     ]
    }
   ],
   "source": [
    "# ====================================================\n",
    "# Cross Validation results / comparing models\n",
    "# ====================================================\n",
    "\n",
    "results  = {}\n",
    "\n",
    "\n",
    "for name,model in models.items():\n",
    "    \n",
    "    feature_imp,result,features = kf_cross_val(model, x_train, target)\n",
    "    results[name] = result\n",
    "\n",
    "for name, result in results.items():\n",
    "    print(\"----------\\n\" + name)\n",
    "    print(np.mean(result))\n",
    "    print(np.std(result))\n",
    "    print(feature_imp)\n",
    "    \n",
    "   "
   ]
  },
  {
   "cell_type": "code",
   "execution_count": 18,
   "id": "50f87323",
   "metadata": {
    "execution": {
     "iopub.execute_input": "2022-08-28T15:14:01.279172Z",
     "iopub.status.busy": "2022-08-28T15:14:01.278471Z",
     "iopub.status.idle": "2022-08-28T15:14:01.291011Z",
     "shell.execute_reply": "2022-08-28T15:14:01.289389Z"
    },
    "papermill": {
     "duration": 0.040343,
     "end_time": "2022-08-28T15:14:01.296317",
     "exception": false,
     "start_time": "2022-08-28T15:14:01.255974",
     "status": "completed"
    },
    "tags": []
   },
   "outputs": [],
   "source": [
    "# ====================================================\n",
    "# Ensemble weights \n",
    "# ====================================================\n",
    "\n",
    "weights = {'catboost':0.01,\n",
    "           'lr':0.99,\n",
    "           'lgbm':0.01,\n",
    "          }"
   ]
  },
  {
   "cell_type": "code",
   "execution_count": 19,
   "id": "929c8a0a",
   "metadata": {
    "execution": {
     "iopub.execute_input": "2022-08-28T15:14:01.337547Z",
     "iopub.status.busy": "2022-08-28T15:14:01.337162Z",
     "iopub.status.idle": "2022-08-28T15:14:30.224222Z",
     "shell.execute_reply": "2022-08-28T15:14:30.222579Z"
    },
    "papermill": {
     "duration": 28.912143,
     "end_time": "2022-08-28T15:14:30.228619",
     "exception": false,
     "start_time": "2022-08-28T15:14:01.316476",
     "status": "completed"
    },
    "tags": []
   },
   "outputs": [
    {
     "name": "stdout",
     "output_type": "stream",
     "text": [
      "[LightGBM] [Warning] boosting is set=gbdt, boosting_type=gbdt will be ignored. Current value: boosting=gbdt\n",
      "[LightGBM] [Warning] feature_fraction is set=0.9, colsample_bytree=1.0 will be ignored. Current value: feature_fraction=0.9\n",
      "[LightGBM] [Warning] min_data_in_leaf is set=40, min_child_samples=20 will be ignored. Current value: min_data_in_leaf=40\n",
      "[LightGBM] [Warning] bagging_fraction is set=0.9, subsample=1.0 will be ignored. Current value: bagging_fraction=0.9\n",
      "[LightGBM] [Warning] lambda_l2 is set=2, reg_lambda=0.0 will be ignored. Current value: lambda_l2=2\n",
      "[LightGBM] [Warning] bagging_freq is set=10, subsample_freq=0 will be ignored. Current value: bagging_freq=10\n",
      "[LightGBM] [Warning] num_iterations is set=1000, num_boost_round=1000 will be ignored. Current value: num_iterations=1000\n"
     ]
    }
   ],
   "source": [
    "for name,model in models.items():\n",
    "    model.fit(x_train, target)"
   ]
  },
  {
   "cell_type": "code",
   "execution_count": 20,
   "id": "c0a4216e",
   "metadata": {
    "execution": {
     "iopub.execute_input": "2022-08-28T15:14:30.271723Z",
     "iopub.status.busy": "2022-08-28T15:14:30.271001Z",
     "iopub.status.idle": "2022-08-28T15:14:31.394500Z",
     "shell.execute_reply": "2022-08-28T15:14:31.393363Z"
    },
    "papermill": {
     "duration": 1.148428,
     "end_time": "2022-08-28T15:14:31.397392",
     "exception": false,
     "start_time": "2022-08-28T15:14:30.248964",
     "status": "completed"
    },
    "tags": []
   },
   "outputs": [],
   "source": [
    "preds  = {}\n",
    "\n",
    "for name,model in models.items():\n",
    "    \n",
    "    pred = pd.DataFrame(model.predict_proba(x_test)).iloc[:,1]  # second column\n",
    "    preds[name] = pred"
   ]
  },
  {
   "cell_type": "code",
   "execution_count": 21,
   "id": "cb465ae6",
   "metadata": {
    "execution": {
     "iopub.execute_input": "2022-08-28T15:14:31.442191Z",
     "iopub.status.busy": "2022-08-28T15:14:31.441432Z",
     "iopub.status.idle": "2022-08-28T15:14:31.457992Z",
     "shell.execute_reply": "2022-08-28T15:14:31.456321Z"
    },
    "papermill": {
     "duration": 0.051431,
     "end_time": "2022-08-28T15:14:31.463483",
     "exception": false,
     "start_time": "2022-08-28T15:14:31.412052",
     "status": "completed"
    },
    "tags": []
   },
   "outputs": [],
   "source": [
    "y_pred  = np.zeros(x_test.shape[0])\n",
    "for name,pred in  preds.items():\n",
    "    y_pred = y_pred + weights[name] * pred\n"
   ]
  },
  {
   "cell_type": "code",
   "execution_count": 23,
   "id": "4a6d2290",
   "metadata": {
    "execution": {
     "iopub.execute_input": "2022-08-28T15:14:31.507764Z",
     "iopub.status.busy": "2022-08-28T15:14:31.506993Z",
     "iopub.status.idle": "2022-08-28T15:14:31.644634Z",
     "shell.execute_reply": "2022-08-28T15:14:31.643402Z"
    },
    "papermill": {
     "duration": 0.162865,
     "end_time": "2022-08-28T15:14:31.647480",
     "exception": false,
     "start_time": "2022-08-28T15:14:31.484615",
     "status": "completed"
    },
    "tags": []
   },
   "outputs": [],
   "source": [
    "# sub = pd.read_csv(\"../input/tps-rank-ensemble/submission.csv\")\n",
    "# subscore = pd.read_csv(\"../input/optimize-score-round/submission.csv\")\n",
    "\n",
    "y_pred = pd.Series(y_pred, name='failure')\n",
    "submission = sample_sub.copy()\n",
    "submission.to_csv('no_model_ensemble_submission.csv',index= False)\n",
    "\n",
    "\n",
    "sample_sub['failure'] = y_pred#*.5 #+ sub['failure']*.5\n",
    "sample_sub['failure'] = sample_sub['failure']#*.3 + subscore['failure']*.7\n",
    "\n",
    "copy = sample_sub['failure']\n",
    "\n",
    "submission = sample_sub.copy()\n",
    "submission.to_csv('sub_no_round.csv',index= False)"
   ]
  },
  {
   "cell_type": "code",
   "execution_count": 24,
   "id": "56622f65",
   "metadata": {
    "execution": {
     "iopub.execute_input": "2022-08-28T15:14:31.665499Z",
     "iopub.status.busy": "2022-08-28T15:14:31.665072Z",
     "iopub.status.idle": "2022-08-28T15:14:31.671393Z",
     "shell.execute_reply": "2022-08-28T15:14:31.670269Z"
    },
    "papermill": {
     "duration": 0.018372,
     "end_time": "2022-08-28T15:14:31.674188",
     "exception": false,
     "start_time": "2022-08-28T15:14:31.655816",
     "status": "completed"
    },
    "tags": []
   },
   "outputs": [],
   "source": [
    "copy = sample_sub['failure']"
   ]
  },
  {
   "cell_type": "code",
   "execution_count": 25,
   "id": "55c8f684",
   "metadata": {
    "execution": {
     "iopub.execute_input": "2022-08-28T15:14:31.692365Z",
     "iopub.status.busy": "2022-08-28T15:14:31.691935Z",
     "iopub.status.idle": "2022-08-28T15:14:31.702495Z",
     "shell.execute_reply": "2022-08-28T15:14:31.701573Z"
    },
    "papermill": {
     "duration": 0.022399,
     "end_time": "2022-08-28T15:14:31.704878",
     "exception": false,
     "start_time": "2022-08-28T15:14:31.682479",
     "status": "completed"
    },
    "tags": []
   },
   "outputs": [],
   "source": [
    "#quantile \n",
    "#for example, the quantiles 6826,9545,9973 are 1,2,3 in normal distribution \n",
    "q1,q2,q3,q4 = copy.quantile(0.0332),copy.quantile(0.341),copy.quantile(0.694),copy.quantile(0.936)"
   ]
  },
  {
   "cell_type": "code",
   "execution_count": 26,
   "id": "6a1fb37d",
   "metadata": {
    "execution": {
     "iopub.execute_input": "2022-08-28T15:14:31.724474Z",
     "iopub.status.busy": "2022-08-28T15:14:31.723472Z",
     "iopub.status.idle": "2022-08-28T15:14:32.117502Z",
     "shell.execute_reply": "2022-08-28T15:14:32.116515Z"
    },
    "papermill": {
     "duration": 0.406853,
     "end_time": "2022-08-28T15:14:32.120040",
     "exception": false,
     "start_time": "2022-08-28T15:14:31.713187",
     "status": "completed"
    },
    "tags": []
   },
   "outputs": [],
   "source": [
    "u1 = []\n",
    "l1 = []\n",
    "u2 = []\n",
    "l2 = []\n",
    "for i in range(len(copy)):\n",
    "    u1.append(copy[i]>=q3)\n",
    "    l1.append(copy[i]<=q2)\n",
    "    u2.append(copy[i]>=q4)\n",
    "    l2.append(copy[i]<=q1)"
   ]
  },
  {
   "cell_type": "code",
   "execution_count": 27,
   "id": "4d1ea631",
   "metadata": {
    "execution": {
     "iopub.execute_input": "2022-08-28T15:14:32.138660Z",
     "iopub.status.busy": "2022-08-28T15:14:32.138051Z",
     "iopub.status.idle": "2022-08-28T15:14:32.181502Z",
     "shell.execute_reply": "2022-08-28T15:14:32.180141Z"
    },
    "papermill": {
     "duration": 0.055877,
     "end_time": "2022-08-28T15:14:32.184211",
     "exception": false,
     "start_time": "2022-08-28T15:14:32.128334",
     "status": "completed"
    },
    "tags": []
   },
   "outputs": [],
   "source": [
    "prediction = copy.copy()\n",
    "prediction = prediction.apply(lambda x:x*1.1 if x>=q3 else x)\n",
    "prediction = prediction.apply(lambda x:x*0.9 if x<=q2 else x)\n",
    "prediction[u2] = 1\n",
    "prediction =  prediction.apply(lambda x:1 if x>1 else x)\n",
    "prediction[l2] = 0"
   ]
  },
  {
   "cell_type": "code",
   "execution_count": 28,
   "id": "ba002e19",
   "metadata": {
    "execution": {
     "iopub.execute_input": "2022-08-28T15:14:32.202514Z",
     "iopub.status.busy": "2022-08-28T15:14:32.202045Z",
     "iopub.status.idle": "2022-08-28T15:14:32.261867Z",
     "shell.execute_reply": "2022-08-28T15:14:32.260606Z"
    },
    "papermill": {
     "duration": 0.072111,
     "end_time": "2022-08-28T15:14:32.264685",
     "exception": false,
     "start_time": "2022-08-28T15:14:32.192574",
     "status": "completed"
    },
    "tags": []
   },
   "outputs": [
    {
     "ename": "NameError",
     "evalue": "name 'subscore' is not defined",
     "output_type": "error",
     "traceback": [
      "\u001b[1;31m---------------------------------------------------------------------------\u001b[0m",
      "\u001b[1;31mNameError\u001b[0m                                 Traceback (most recent call last)",
      "\u001b[1;32md:\\Projects\\PythonProjects\\DS-Rush\\src\\Kaggle\\TabularPlaygroundSeries\\users_solutions\\model-ensemble-round.ipynb Cell 30\u001b[0m in \u001b[0;36m<cell line: 4>\u001b[1;34m()\u001b[0m\n\u001b[0;32m      <a href='vscode-notebook-cell:/d%3A/Projects/PythonProjects/DS-Rush/src/Kaggle/TabularPlaygroundSeries/users_solutions/model-ensemble-round.ipynb#X41sZmlsZQ%3D%3D?line=0'>1</a>\u001b[0m submission \u001b[39m=\u001b[39m pd\u001b[39m.\u001b[39mread_csv(\u001b[39m'\u001b[39m\u001b[39m../data/sample_submission.csv\u001b[39m\u001b[39m'\u001b[39m)\n\u001b[0;32m      <a href='vscode-notebook-cell:/d%3A/Projects/PythonProjects/DS-Rush/src/Kaggle/TabularPlaygroundSeries/users_solutions/model-ensemble-round.ipynb#X41sZmlsZQ%3D%3D?line=1'>2</a>\u001b[0m submission[\u001b[39m'\u001b[39m\u001b[39mfailure\u001b[39m\u001b[39m'\u001b[39m] \u001b[39m=\u001b[39m np\u001b[39m.\u001b[39mround(prediction,\u001b[39m24\u001b[39m)\n\u001b[1;32m----> <a href='vscode-notebook-cell:/d%3A/Projects/PythonProjects/DS-Rush/src/Kaggle/TabularPlaygroundSeries/users_solutions/model-ensemble-round.ipynb#X41sZmlsZQ%3D%3D?line=3'>4</a>\u001b[0m submission[\u001b[39m'\u001b[39m\u001b[39mfailure\u001b[39m\u001b[39m'\u001b[39m] \u001b[39m=\u001b[39m subscore[\u001b[39m'\u001b[39m\u001b[39mfailure\u001b[39m\u001b[39m'\u001b[39m]\u001b[39m*\u001b[39m\u001b[39m.9\u001b[39m \u001b[39m+\u001b[39m submission[\u001b[39m'\u001b[39m\u001b[39mfailure\u001b[39m\u001b[39m'\u001b[39m]\u001b[39m*\u001b[39m\u001b[39m.1\u001b[39m\n\u001b[0;32m      <a href='vscode-notebook-cell:/d%3A/Projects/PythonProjects/DS-Rush/src/Kaggle/TabularPlaygroundSeries/users_solutions/model-ensemble-round.ipynb#X41sZmlsZQ%3D%3D?line=7'>8</a>\u001b[0m submission\u001b[39m.\u001b[39mto_csv(\u001b[39m'\u001b[39m\u001b[39msubmission.csv\u001b[39m\u001b[39m'\u001b[39m,index\u001b[39m=\u001b[39m\u001b[39mFalse\u001b[39;00m)\n",
      "\u001b[1;31mNameError\u001b[0m: name 'subscore' is not defined"
     ]
    }
   ],
   "source": [
    "submission = pd.read_csv('../data/sample_submission.csv')\n",
    "submission['failure'] = np.round(prediction,24)\n"
   ]
  },
  {
   "cell_type": "code",
   "execution_count": null,
   "id": "f8bc843f",
   "metadata": {},
   "outputs": [],
   "source": [
    "\n",
    "submission['failure'] =  submission['failure']*.1\n",
    "\n",
    "\n",
    "\n",
    "submission.to_csv('submission.csv',index=False)"
   ]
  }
 ],
 "metadata": {
  "kernelspec": {
   "display_name": "Python 3.10.4 ('ml_general')",
   "language": "python",
   "name": "python3"
  },
  "language_info": {
   "codemirror_mode": {
    "name": "ipython",
    "version": 3
   },
   "file_extension": ".py",
   "mimetype": "text/x-python",
   "name": "python",
   "nbconvert_exporter": "python",
   "pygments_lexer": "ipython3",
   "version": "3.10.4"
  },
  "papermill": {
   "default_parameters": {},
   "duration": 172.677048,
   "end_time": "2022-08-28T15:14:33.196838",
   "environment_variables": {},
   "exception": null,
   "input_path": "__notebook__.ipynb",
   "output_path": "__notebook__.ipynb",
   "parameters": {},
   "start_time": "2022-08-28T15:11:40.519790",
   "version": "2.3.4"
  },
  "vscode": {
   "interpreter": {
    "hash": "67e5eb89067d95a1a0947a31028cf9465f21e77887e4ef01d6b8c2d726ae553b"
   }
  }
 },
 "nbformat": 4,
 "nbformat_minor": 5
}
