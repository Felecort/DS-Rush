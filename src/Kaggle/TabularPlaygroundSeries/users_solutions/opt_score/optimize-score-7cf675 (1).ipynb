{
 "cells": [
  {
   "cell_type": "code",
   "execution_count": 1,
   "id": "4a6d1645",
   "metadata": {
    "_cell_guid": "b1076dfc-b9ad-4769-8c92-a6c4dae69d19",
    "_uuid": "8f2839f25d086af736a60e9eeb907d3b93b6e0e5",
    "execution": {
     "iopub.execute_input": "2022-08-23T21:55:21.021039Z",
     "iopub.status.busy": "2022-08-23T21:55:21.020042Z",
     "iopub.status.idle": "2022-08-23T21:55:21.047293Z",
     "shell.execute_reply": "2022-08-23T21:55:21.046432Z"
    },
    "papermill": {
     "duration": 0.038443,
     "end_time": "2022-08-23T21:55:21.051533",
     "exception": false,
     "start_time": "2022-08-23T21:55:21.013090",
     "status": "completed"
    },
    "tags": []
   },
   "outputs": [],
   "source": [
    "# This Python 3 environment comes with many helpful analytics libraries installed\n",
    "# It is defined by the kaggle/python Docker image: https://github.com/kaggle/docker-python\n",
    "# For example, here's several helpful packages to load\n",
    "\n",
    "import numpy as np # linear algebra\n",
    "import pandas as pd # data processing, CSV file I/O (e.g. pd.read_csv)\n",
    "\n",
    "# Input data files are available in the read-only \"../input/\" directory\n",
    "# For example, running this (by clicking run or pressing Shift+Enter) will list all files under the input directory\n",
    "\n",
    "# import os\n",
    "# for dirname, _, filenames in os.walk('/kaggle/input'):\n",
    "#     for filename in filenames:\n",
    "#         print(os.path.join(dirname, filename))\n",
    "\n",
    "# You can write up to 20GB to the current directory (/kaggle/working/) that gets preserved as output when you create a version using \"Save & Run All\" \n",
    "# You can also write temporary files to /kaggle/temp/, but they won't be saved outside of the current session"
   ]
  },
  {
   "cell_type": "code",
   "execution_count": 2,
   "id": "96967182",
   "metadata": {
    "execution": {
     "iopub.execute_input": "2022-08-23T21:55:21.061907Z",
     "iopub.status.busy": "2022-08-23T21:55:21.060654Z",
     "iopub.status.idle": "2022-08-23T21:55:21.095931Z",
     "shell.execute_reply": "2022-08-23T21:55:21.094696Z"
    },
    "papermill": {
     "duration": 0.043024,
     "end_time": "2022-08-23T21:55:21.098885",
     "exception": false,
     "start_time": "2022-08-23T21:55:21.055861",
     "status": "completed"
    },
    "tags": []
   },
   "outputs": [],
   "source": [
    "copy = pd.read_csv(\"submission.csv\")['failure']"
   ]
  },
  {
   "cell_type": "code",
   "execution_count": 3,
   "id": "6fac8d08",
   "metadata": {
    "execution": {
     "iopub.execute_input": "2022-08-23T21:55:21.108222Z",
     "iopub.status.busy": "2022-08-23T21:55:21.107241Z",
     "iopub.status.idle": "2022-08-23T21:55:21.121678Z",
     "shell.execute_reply": "2022-08-23T21:55:21.120783Z"
    },
    "papermill": {
     "duration": 0.021789,
     "end_time": "2022-08-23T21:55:21.124087",
     "exception": false,
     "start_time": "2022-08-23T21:55:21.102298",
     "status": "completed"
    },
    "tags": []
   },
   "outputs": [],
   "source": [
    "#quantile \n",
    "#for example, the quantiles 6826,9545,9973 are 1,2,3 in normal distribution \n",
    "q1,q2,q3,q4 = copy.quantile(0.04),copy.quantile(0.3),copy.quantile(0.7),copy.quantile(0.95)\n"
   ]
  },
  {
   "cell_type": "code",
   "execution_count": 4,
   "id": "6d157cab",
   "metadata": {
    "execution": {
     "iopub.execute_input": "2022-08-23T21:55:21.131350Z",
     "iopub.status.busy": "2022-08-23T21:55:21.130549Z",
     "iopub.status.idle": "2022-08-23T21:55:21.456116Z",
     "shell.execute_reply": "2022-08-23T21:55:21.454740Z"
    },
    "papermill": {
     "duration": 0.33207,
     "end_time": "2022-08-23T21:55:21.458856",
     "exception": false,
     "start_time": "2022-08-23T21:55:21.126786",
     "status": "completed"
    },
    "tags": []
   },
   "outputs": [],
   "source": [
    "u1 = []\n",
    "l1 = []\n",
    "u2 = []\n",
    "l2 = []\n",
    "for i in range(len(copy)):\n",
    "    u1.append(copy[i]>=q3)\n",
    "    l1.append(copy[i]<=q2)\n",
    "    u2.append(copy[i]>=q4)\n",
    "    l2.append(copy[i]<=q1)"
   ]
  },
  {
   "cell_type": "code",
   "execution_count": 5,
   "id": "aeb5b6b7",
   "metadata": {
    "execution": {
     "iopub.execute_input": "2022-08-23T21:55:21.466055Z",
     "iopub.status.busy": "2022-08-23T21:55:21.465628Z",
     "iopub.status.idle": "2022-08-23T21:55:21.505184Z",
     "shell.execute_reply": "2022-08-23T21:55:21.504016Z"
    },
    "papermill": {
     "duration": 0.046158,
     "end_time": "2022-08-23T21:55:21.507794",
     "exception": false,
     "start_time": "2022-08-23T21:55:21.461636",
     "status": "completed"
    },
    "tags": []
   },
   "outputs": [],
   "source": [
    "prediction = copy.copy()\n",
    "prediction = prediction.apply(lambda x:x*1.1 if x>=q3 else x)\n",
    "prediction = prediction.apply(lambda x:x*0.9 if x<=q2 else x)\n",
    "prediction[u2] = 1\n",
    "prediction =  prediction.apply(lambda x:1 if x>1 else x)\n",
    "# prediction[l2] = 0"
   ]
  },
  {
   "cell_type": "code",
   "execution_count": 6,
   "id": "cc25be0f",
   "metadata": {
    "execution": {
     "iopub.execute_input": "2022-08-23T21:55:21.515160Z",
     "iopub.status.busy": "2022-08-23T21:55:21.514675Z",
     "iopub.status.idle": "2022-08-23T21:55:21.568501Z",
     "shell.execute_reply": "2022-08-23T21:55:21.567469Z"
    },
    "papermill": {
     "duration": 0.0608,
     "end_time": "2022-08-23T21:55:21.571366",
     "exception": false,
     "start_time": "2022-08-23T21:55:21.510566",
     "status": "completed"
    },
    "tags": []
   },
   "outputs": [],
   "source": [
    "submission = pd.read_csv('D:\\Projects\\PythonProjects\\DS-Rush\\src\\Kaggle\\TabularPlaygroundSeries\\data\\sample_submission.csv')\n",
    "submission['failure'] = np.round(prediction,3)\n",
    "submission.to_csv('submission.csv',index=False)"
   ]
  }
 ],
 "metadata": {
  "kernelspec": {
   "display_name": "Python 3.10.4 ('ml_general')",
   "language": "python",
   "name": "python3"
  },
  "language_info": {
   "codemirror_mode": {
    "name": "ipython",
    "version": 3
   },
   "file_extension": ".py",
   "mimetype": "text/x-python",
   "name": "python",
   "nbconvert_exporter": "python",
   "pygments_lexer": "ipython3",
   "version": "3.10.4"
  },
  "papermill": {
   "default_parameters": {},
   "duration": 10.228592,
   "end_time": "2022-08-23T21:55:22.196478",
   "environment_variables": {},
   "exception": null,
   "input_path": "__notebook__.ipynb",
   "output_path": "__notebook__.ipynb",
   "parameters": {},
   "start_time": "2022-08-23T21:55:11.967886",
   "version": "2.3.4"
  },
  "vscode": {
   "interpreter": {
    "hash": "67e5eb89067d95a1a0947a31028cf9465f21e77887e4ef01d6b8c2d726ae553b"
   }
  }
 },
 "nbformat": 4,
 "nbformat_minor": 5
}
