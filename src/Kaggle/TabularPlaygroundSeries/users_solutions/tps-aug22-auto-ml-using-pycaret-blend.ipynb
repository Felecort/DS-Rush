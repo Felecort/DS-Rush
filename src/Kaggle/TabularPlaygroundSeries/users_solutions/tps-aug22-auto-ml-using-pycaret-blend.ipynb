{
 "cells": [
  {
   "cell_type": "markdown",
   "id": "15c29b0f",
   "metadata": {
    "papermill": {
     "duration": 0.014975,
     "end_time": "2022-08-28T02:50:38.361103",
     "exception": false,
     "start_time": "2022-08-28T02:50:38.346128",
     "status": "completed"
    },
    "tags": []
   },
   "source": [
    "# Blended Model Using PyCaret 🤖...\n",
    "..."
   ]
  },
  {
   "cell_type": "markdown",
   "id": "6bde2ee6",
   "metadata": {
    "papermill": {
     "duration": 0.013378,
     "end_time": "2022-08-28T02:50:38.387796",
     "exception": false,
     "start_time": "2022-08-28T02:50:38.374418",
     "status": "completed"
    },
    "tags": []
   },
   "source": [
    "## Installing Libraries..."
   ]
  },
  {
   "cell_type": "code",
   "execution_count": 1,
   "id": "7f420dce",
   "metadata": {
    "execution": {
     "iopub.execute_input": "2022-08-28T02:50:38.417607Z",
     "iopub.status.busy": "2022-08-28T02:50:38.416112Z",
     "iopub.status.idle": "2022-08-28T02:51:30.966456Z",
     "shell.execute_reply": "2022-08-28T02:51:30.965075Z"
    },
    "papermill": {
     "duration": 52.568458,
     "end_time": "2022-08-28T02:51:30.969711",
     "exception": false,
     "start_time": "2022-08-28T02:50:38.401253",
     "status": "completed"
    },
    "tags": []
   },
   "outputs": [],
   "source": [
    "%%capture\n",
    "# !pip install --pre pycaret"
   ]
  },
  {
   "cell_type": "markdown",
   "id": "921c0bc6",
   "metadata": {
    "papermill": {
     "duration": 0.012614,
     "end_time": "2022-08-28T02:51:30.997207",
     "exception": false,
     "start_time": "2022-08-28T02:51:30.984593",
     "status": "completed"
    },
    "tags": []
   },
   "source": [
    "---"
   ]
  },
  {
   "cell_type": "markdown",
   "id": "81766263",
   "metadata": {
    "papermill": {
     "duration": 0.013204,
     "end_time": "2022-08-28T02:51:31.023404",
     "exception": false,
     "start_time": "2022-08-28T02:51:31.010200",
     "status": "completed"
    },
    "tags": []
   },
   "source": [
    "## Loading Requiered Libraries..."
   ]
  },
  {
   "cell_type": "code",
   "execution_count": 2,
   "id": "15c3403c",
   "metadata": {
    "_cell_guid": "b1076dfc-b9ad-4769-8c92-a6c4dae69d19",
    "_uuid": "8f2839f25d086af736a60e9eeb907d3b93b6e0e5",
    "execution": {
     "iopub.execute_input": "2022-08-28T02:51:31.052768Z",
     "iopub.status.busy": "2022-08-28T02:51:31.051796Z",
     "iopub.status.idle": "2022-08-28T02:51:31.062952Z",
     "shell.execute_reply": "2022-08-28T02:51:31.061544Z"
    },
    "papermill": {
     "duration": 0.029541,
     "end_time": "2022-08-28T02:51:31.065965",
     "exception": false,
     "start_time": "2022-08-28T02:51:31.036424",
     "status": "completed"
    },
    "tags": []
   },
   "outputs": [],
   "source": [
    "# This Python 3 environment comes with many helpful analytics libraries installed\n",
    "# It is defined by the kaggle/python Docker image: https://github.com/kaggle/docker-python\n",
    "# For example, here's several helpful packages to load\n",
    "\n",
    "import numpy as np # linear algebra\n",
    "import pandas as pd # data processing, CSV file I/O (e.g. pd.read_csv)\n",
    "\n",
    "# Input data files are available in the read-only \"../input/\" directory\n",
    "# For example, running this (by clicking run or pressing Shift+Enter) will list all files under the input directory\n",
    "\n",
    "# import os\n",
    "# for dirname, _, filenames in os.walk('/kaggle/input'):\n",
    "#     for filename in filenames:\n",
    "#         print(os.path.join(dirname, filename))\n",
    "\n",
    "# You can write up to 20GB to the current directory (/kaggle/working/) that gets preserved as output when you create a version using \"Save & Run All\" \n",
    "# You can also write temporary files to /kaggle/temp/, but they won't be saved outside of the current session"
   ]
  },
  {
   "cell_type": "code",
   "execution_count": 3,
   "id": "1cdef294",
   "metadata": {
    "execution": {
     "iopub.execute_input": "2022-08-28T02:51:31.096743Z",
     "iopub.status.busy": "2022-08-28T02:51:31.096294Z",
     "iopub.status.idle": "2022-08-28T02:51:37.172663Z",
     "shell.execute_reply": "2022-08-28T02:51:37.171438Z"
    },
    "papermill": {
     "duration": 6.095308,
     "end_time": "2022-08-28T02:51:37.176446",
     "exception": false,
     "start_time": "2022-08-28T02:51:31.081138",
     "status": "completed"
    },
    "tags": []
   },
   "outputs": [
    {
     "name": "stdout",
     "output_type": "stream",
     "text": [
      "CPU times: total: 2.58 s\n",
      "Wall time: 3.18 s\n"
     ]
    }
   ],
   "source": [
    "%%time\n",
    "from sklearn.impute import KNNImputer, SimpleImputer\n",
    "from pycaret.classification import *\n",
    "from imblearn.over_sampling import ADASYN, BorderlineSMOTE, KMeansSMOTE, RandomOverSampler, SMOTE, SMOTENC, SVMSMOTE"
   ]
  },
  {
   "cell_type": "markdown",
   "id": "fc50ae27",
   "metadata": {
    "papermill": {
     "duration": 0.021726,
     "end_time": "2022-08-28T02:51:37.227582",
     "exception": false,
     "start_time": "2022-08-28T02:51:37.205856",
     "status": "completed"
    },
    "tags": []
   },
   "source": [
    "---"
   ]
  },
  {
   "cell_type": "markdown",
   "id": "5dbf1b8c",
   "metadata": {
    "papermill": {
     "duration": 0.01315,
     "end_time": "2022-08-28T02:51:37.254330",
     "exception": false,
     "start_time": "2022-08-28T02:51:37.241180",
     "status": "completed"
    },
    "tags": []
   },
   "source": [
    "## Configuring the Notebook..."
   ]
  },
  {
   "cell_type": "code",
   "execution_count": 4,
   "id": "a215e496",
   "metadata": {
    "execution": {
     "iopub.execute_input": "2022-08-28T02:51:37.284660Z",
     "iopub.status.busy": "2022-08-28T02:51:37.283993Z",
     "iopub.status.idle": "2022-08-28T02:51:37.294579Z",
     "shell.execute_reply": "2022-08-28T02:51:37.293574Z"
    },
    "papermill": {
     "duration": 0.032257,
     "end_time": "2022-08-28T02:51:37.300107",
     "exception": false,
     "start_time": "2022-08-28T02:51:37.267850",
     "status": "completed"
    },
    "tags": []
   },
   "outputs": [
    {
     "name": "stdout",
     "output_type": "stream",
     "text": [
      "CPU times: total: 0 ns\n",
      "Wall time: 0 ns\n"
     ]
    }
   ],
   "source": [
    "%%time\n",
    "# I like to disable my Notebook Warnings To Reduce Noice.\n",
    "import warnings\n",
    "warnings.filterwarnings('ignore')"
   ]
  },
  {
   "cell_type": "code",
   "execution_count": 5,
   "id": "566a4a70",
   "metadata": {
    "execution": {
     "iopub.execute_input": "2022-08-28T02:51:37.336695Z",
     "iopub.status.busy": "2022-08-28T02:51:37.334655Z",
     "iopub.status.idle": "2022-08-28T02:51:37.346048Z",
     "shell.execute_reply": "2022-08-28T02:51:37.344322Z"
    },
    "papermill": {
     "duration": 0.030531,
     "end_time": "2022-08-28T02:51:37.349641",
     "exception": false,
     "start_time": "2022-08-28T02:51:37.319110",
     "status": "completed"
    },
    "tags": []
   },
   "outputs": [
    {
     "name": "stdout",
     "output_type": "stream",
     "text": [
      "CPU times: total: 0 ns\n",
      "Wall time: 0 ns\n"
     ]
    }
   ],
   "source": [
    "%%time\n",
    "# Notebook Configuration...\n",
    "\n",
    "# Amount of data we want to load into the Model...\n",
    "DATA_ROWS = None\n",
    "# Dataframe, the amount of rows and cols to visualize...\n",
    "NROWS = 100\n",
    "NCOLS = 15\n",
    "\n",
    "# Main data location path...\n",
    "BASE_PATH = '...'"
   ]
  },
  {
   "cell_type": "code",
   "execution_count": 6,
   "id": "a0da523e",
   "metadata": {
    "execution": {
     "iopub.execute_input": "2022-08-28T02:51:37.380623Z",
     "iopub.status.busy": "2022-08-28T02:51:37.379870Z",
     "iopub.status.idle": "2022-08-28T02:51:37.386217Z",
     "shell.execute_reply": "2022-08-28T02:51:37.385363Z"
    },
    "papermill": {
     "duration": 0.025541,
     "end_time": "2022-08-28T02:51:37.389792",
     "exception": false,
     "start_time": "2022-08-28T02:51:37.364251",
     "status": "completed"
    },
    "tags": []
   },
   "outputs": [
    {
     "name": "stdout",
     "output_type": "stream",
     "text": [
      "CPU times: total: 0 ns\n",
      "Wall time: 0 ns\n"
     ]
    }
   ],
   "source": [
    "%%time\n",
    "# Configure notebook display settings to only use 2 decimal places, tables look nicer.\n",
    "pd.options.display.float_format = '{:,.2f}'.format\n",
    "pd.set_option('display.max_columns', NCOLS) \n",
    "pd.set_option('display.max_rows', NROWS)"
   ]
  },
  {
   "cell_type": "markdown",
   "id": "d5415527",
   "metadata": {
    "papermill": {
     "duration": 0.013446,
     "end_time": "2022-08-28T02:51:37.428034",
     "exception": false,
     "start_time": "2022-08-28T02:51:37.414588",
     "status": "completed"
    },
    "tags": []
   },
   "source": [
    "---"
   ]
  },
  {
   "cell_type": "markdown",
   "id": "8995b5dd",
   "metadata": {
    "papermill": {
     "duration": 0.013629,
     "end_time": "2022-08-28T02:51:37.455604",
     "exception": false,
     "start_time": "2022-08-28T02:51:37.441975",
     "status": "completed"
    },
    "tags": []
   },
   "source": [
    "## Loading the Datasets..."
   ]
  },
  {
   "cell_type": "code",
   "execution_count": 7,
   "id": "6b717527",
   "metadata": {
    "execution": {
     "iopub.execute_input": "2022-08-28T02:51:37.485896Z",
     "iopub.status.busy": "2022-08-28T02:51:37.485006Z",
     "iopub.status.idle": "2022-08-28T02:51:37.832705Z",
     "shell.execute_reply": "2022-08-28T02:51:37.830169Z"
    },
    "papermill": {
     "duration": 0.365672,
     "end_time": "2022-08-28T02:51:37.835360",
     "exception": false,
     "start_time": "2022-08-28T02:51:37.469688",
     "status": "completed"
    },
    "tags": []
   },
   "outputs": [
    {
     "name": "stdout",
     "output_type": "stream",
     "text": [
      "CPU times: total: 188 ms\n",
      "Wall time: 731 ms\n"
     ]
    }
   ],
   "source": [
    "%%time\n",
    "# Loading the datsets into Pandas\n",
    "trn_data = pd.read_csv('../data/train.csv')\n",
    "tst_data = pd.read_csv('../data/test.csv')\n",
    "submission = pd.read_csv('../data/sample_submission.csv')"
   ]
  },
  {
   "cell_type": "markdown",
   "id": "f42b87dc",
   "metadata": {
    "papermill": {
     "duration": 0.013199,
     "end_time": "2022-08-28T02:51:37.862703",
     "exception": false,
     "start_time": "2022-08-28T02:51:37.849504",
     "status": "completed"
    },
    "tags": []
   },
   "source": [
    "---"
   ]
  },
  {
   "cell_type": "markdown",
   "id": "f8b39118",
   "metadata": {
    "papermill": {
     "duration": 0.013255,
     "end_time": "2022-08-28T02:51:37.889316",
     "exception": false,
     "start_time": "2022-08-28T02:51:37.876061",
     "status": "completed"
    },
    "tags": []
   },
   "source": [
    "## Exploring the Loaded Dataset..."
   ]
  },
  {
   "cell_type": "code",
   "execution_count": 8,
   "id": "3376fdd6",
   "metadata": {
    "execution": {
     "iopub.execute_input": "2022-08-28T02:51:37.918081Z",
     "iopub.status.busy": "2022-08-28T02:51:37.917628Z",
     "iopub.status.idle": "2022-08-28T02:51:37.948139Z",
     "shell.execute_reply": "2022-08-28T02:51:37.947287Z"
    },
    "papermill": {
     "duration": 0.047746,
     "end_time": "2022-08-28T02:51:37.950366",
     "exception": false,
     "start_time": "2022-08-28T02:51:37.902620",
     "status": "completed"
    },
    "tags": []
   },
   "outputs": [
    {
     "data": {
      "text/html": [
       "<div>\n",
       "<style scoped>\n",
       "    .dataframe tbody tr th:only-of-type {\n",
       "        vertical-align: middle;\n",
       "    }\n",
       "\n",
       "    .dataframe tbody tr th {\n",
       "        vertical-align: top;\n",
       "    }\n",
       "\n",
       "    .dataframe thead th {\n",
       "        text-align: right;\n",
       "    }\n",
       "</style>\n",
       "<table border=\"1\" class=\"dataframe\">\n",
       "  <thead>\n",
       "    <tr style=\"text-align: right;\">\n",
       "      <th></th>\n",
       "      <th>id</th>\n",
       "      <th>product_code</th>\n",
       "      <th>loading</th>\n",
       "      <th>attribute_0</th>\n",
       "      <th>attribute_1</th>\n",
       "      <th>attribute_2</th>\n",
       "      <th>attribute_3</th>\n",
       "      <th>...</th>\n",
       "      <th>measurement_12</th>\n",
       "      <th>measurement_13</th>\n",
       "      <th>measurement_14</th>\n",
       "      <th>measurement_15</th>\n",
       "      <th>measurement_16</th>\n",
       "      <th>measurement_17</th>\n",
       "      <th>failure</th>\n",
       "    </tr>\n",
       "  </thead>\n",
       "  <tbody>\n",
       "    <tr>\n",
       "      <th>0</th>\n",
       "      <td>0</td>\n",
       "      <td>A</td>\n",
       "      <td>80.10</td>\n",
       "      <td>material_7</td>\n",
       "      <td>material_8</td>\n",
       "      <td>9</td>\n",
       "      <td>5</td>\n",
       "      <td>...</td>\n",
       "      <td>15.19</td>\n",
       "      <td>15.03</td>\n",
       "      <td>NaN</td>\n",
       "      <td>13.03</td>\n",
       "      <td>14.68</td>\n",
       "      <td>764.10</td>\n",
       "      <td>0</td>\n",
       "    </tr>\n",
       "    <tr>\n",
       "      <th>1</th>\n",
       "      <td>1</td>\n",
       "      <td>A</td>\n",
       "      <td>84.89</td>\n",
       "      <td>material_7</td>\n",
       "      <td>material_8</td>\n",
       "      <td>9</td>\n",
       "      <td>5</td>\n",
       "      <td>...</td>\n",
       "      <td>11.76</td>\n",
       "      <td>14.73</td>\n",
       "      <td>15.43</td>\n",
       "      <td>14.39</td>\n",
       "      <td>15.63</td>\n",
       "      <td>682.06</td>\n",
       "      <td>0</td>\n",
       "    </tr>\n",
       "    <tr>\n",
       "      <th>2</th>\n",
       "      <td>2</td>\n",
       "      <td>A</td>\n",
       "      <td>82.43</td>\n",
       "      <td>material_7</td>\n",
       "      <td>material_8</td>\n",
       "      <td>9</td>\n",
       "      <td>5</td>\n",
       "      <td>...</td>\n",
       "      <td>13.80</td>\n",
       "      <td>16.71</td>\n",
       "      <td>18.63</td>\n",
       "      <td>14.09</td>\n",
       "      <td>17.95</td>\n",
       "      <td>663.38</td>\n",
       "      <td>0</td>\n",
       "    </tr>\n",
       "    <tr>\n",
       "      <th>3</th>\n",
       "      <td>3</td>\n",
       "      <td>A</td>\n",
       "      <td>101.07</td>\n",
       "      <td>material_7</td>\n",
       "      <td>material_8</td>\n",
       "      <td>9</td>\n",
       "      <td>5</td>\n",
       "      <td>...</td>\n",
       "      <td>10.02</td>\n",
       "      <td>15.25</td>\n",
       "      <td>15.56</td>\n",
       "      <td>16.15</td>\n",
       "      <td>17.17</td>\n",
       "      <td>826.28</td>\n",
       "      <td>0</td>\n",
       "    </tr>\n",
       "    <tr>\n",
       "      <th>4</th>\n",
       "      <td>4</td>\n",
       "      <td>A</td>\n",
       "      <td>188.06</td>\n",
       "      <td>material_7</td>\n",
       "      <td>material_8</td>\n",
       "      <td>9</td>\n",
       "      <td>5</td>\n",
       "      <td>...</td>\n",
       "      <td>12.43</td>\n",
       "      <td>16.18</td>\n",
       "      <td>12.76</td>\n",
       "      <td>13.15</td>\n",
       "      <td>16.41</td>\n",
       "      <td>579.88</td>\n",
       "      <td>0</td>\n",
       "    </tr>\n",
       "  </tbody>\n",
       "</table>\n",
       "<p>5 rows × 26 columns</p>\n",
       "</div>"
      ],
      "text/plain": [
       "   id product_code  loading attribute_0 attribute_1  attribute_2  attribute_3  \\\n",
       "0   0            A    80.10  material_7  material_8            9            5   \n",
       "1   1            A    84.89  material_7  material_8            9            5   \n",
       "2   2            A    82.43  material_7  material_8            9            5   \n",
       "3   3            A   101.07  material_7  material_8            9            5   \n",
       "4   4            A   188.06  material_7  material_8            9            5   \n",
       "\n",
       "   ...  measurement_12  measurement_13  measurement_14  measurement_15  \\\n",
       "0  ...           15.19           15.03             NaN           13.03   \n",
       "1  ...           11.76           14.73           15.43           14.39   \n",
       "2  ...           13.80           16.71           18.63           14.09   \n",
       "3  ...           10.02           15.25           15.56           16.15   \n",
       "4  ...           12.43           16.18           12.76           13.15   \n",
       "\n",
       "   measurement_16  measurement_17  failure  \n",
       "0           14.68          764.10        0  \n",
       "1           15.63          682.06        0  \n",
       "2           17.95          663.38        0  \n",
       "3           17.17          826.28        0  \n",
       "4           16.41          579.88        0  \n",
       "\n",
       "[5 rows x 26 columns]"
      ]
     },
     "execution_count": 8,
     "metadata": {},
     "output_type": "execute_result"
    }
   ],
   "source": [
    "trn_data.head()"
   ]
  },
  {
   "cell_type": "code",
   "execution_count": 9,
   "id": "8601f67a",
   "metadata": {
    "execution": {
     "iopub.execute_input": "2022-08-28T02:51:37.980202Z",
     "iopub.status.busy": "2022-08-28T02:51:37.979473Z",
     "iopub.status.idle": "2022-08-28T02:51:38.009275Z",
     "shell.execute_reply": "2022-08-28T02:51:38.007836Z"
    },
    "papermill": {
     "duration": 0.047798,
     "end_time": "2022-08-28T02:51:38.012027",
     "exception": false,
     "start_time": "2022-08-28T02:51:37.964229",
     "status": "completed"
    },
    "tags": []
   },
   "outputs": [
    {
     "name": "stdout",
     "output_type": "stream",
     "text": [
      "Categorical Features: ['attribute_0', 'attribute_1', 'attribute_2', 'attribute_3']\n",
      "Numerical Features: ['loading', 'measurement_0', 'measurement_1', 'measurement_2', 'measurement_3', 'measurement_4', 'measurement_5', 'measurement_6', 'measurement_7', 'measurement_8', 'measurement_9', 'measurement_10', 'measurement_11', 'measurement_12', 'measurement_13', 'measurement_14', 'measurement_15', 'measurement_16', 'measurement_17'] ...\n",
      "CPU times: total: 15.6 ms\n",
      "Wall time: 21 ms\n"
     ]
    }
   ],
   "source": [
    "%%time\n",
    "# Identifying Categorical Faetures...\n",
    "limit = 10 # Anything with more than 50 unique values is considered a category...\n",
    "cat_feat = [feat for feat in trn_data.columns if trn_data[feat].nunique() < limit and feat not in ['failure', 'id', 'product_code']]\n",
    "num_feat = [feat for feat in trn_data.columns if feat not in cat_feat and feat not in ['failure', 'id', 'product_code']]\n",
    "\n",
    "print(f'Categorical Features: {cat_feat}')\n",
    "print(f'Numerical Features: {num_feat} ...')"
   ]
  },
  {
   "cell_type": "code",
   "execution_count": 10,
   "id": "5245fe26",
   "metadata": {
    "execution": {
     "iopub.execute_input": "2022-08-28T02:51:38.042659Z",
     "iopub.status.busy": "2022-08-28T02:51:38.041333Z",
     "iopub.status.idle": "2022-08-28T02:51:38.047444Z",
     "shell.execute_reply": "2022-08-28T02:51:38.046558Z"
    },
    "papermill": {
     "duration": 0.023823,
     "end_time": "2022-08-28T02:51:38.049700",
     "exception": false,
     "start_time": "2022-08-28T02:51:38.025877",
     "status": "completed"
    },
    "tags": []
   },
   "outputs": [],
   "source": [
    "cat_feat = ['attribute_0', 'attribute_1']\n",
    "num_feat = ['loading', 'measurement_0', 'measurement_1', 'measurement_2', 'measurement_3', 'measurement_4', 'measurement_5', \n",
    "            'measurement_6', 'measurement_7', 'measurement_8', 'measurement_9', 'measurement_10', 'measurement_11', \n",
    "            'measurement_12', 'measurement_13', 'measurement_14', 'measurement_15', 'measurement_16', 'measurement_17','attribute_2', 'attribute_3']"
   ]
  },
  {
   "cell_type": "code",
   "execution_count": 11,
   "id": "eb1d98c7",
   "metadata": {
    "execution": {
     "iopub.execute_input": "2022-08-28T02:51:38.079773Z",
     "iopub.status.busy": "2022-08-28T02:51:38.078535Z",
     "iopub.status.idle": "2022-08-28T02:51:38.088120Z",
     "shell.execute_reply": "2022-08-28T02:51:38.086422Z"
    },
    "papermill": {
     "duration": 0.027943,
     "end_time": "2022-08-28T02:51:38.091385",
     "exception": false,
     "start_time": "2022-08-28T02:51:38.063442",
     "status": "completed"
    },
    "tags": []
   },
   "outputs": [
    {
     "name": "stdout",
     "output_type": "stream",
     "text": [
      "CPU times: total: 0 ns\n",
      "Wall time: 0 ns\n"
     ]
    },
    {
     "data": {
      "text/plain": [
       "['measurement_0',\n",
       " 'measurement_1',\n",
       " 'measurement_2',\n",
       " 'measurement_3',\n",
       " 'measurement_4',\n",
       " 'measurement_5',\n",
       " 'measurement_6',\n",
       " 'measurement_7',\n",
       " 'measurement_8',\n",
       " 'measurement_9',\n",
       " 'measurement_10',\n",
       " 'measurement_11',\n",
       " 'measurement_12',\n",
       " 'measurement_13',\n",
       " 'measurement_14',\n",
       " 'measurement_15',\n",
       " 'measurement_16',\n",
       " 'measurement_17',\n",
       " 'loading']"
      ]
     },
     "execution_count": 11,
     "metadata": {},
     "output_type": "execute_result"
    }
   ],
   "source": [
    "%%time\n",
    "# Identifying numeric columns\n",
    "measure_cols = [col for col in trn_data.columns if 'meas' in col] + ['loading']\n",
    "measure_cols"
   ]
  },
  {
   "cell_type": "markdown",
   "id": "91344e46",
   "metadata": {
    "papermill": {
     "duration": 0.013859,
     "end_time": "2022-08-28T02:51:38.119679",
     "exception": false,
     "start_time": "2022-08-28T02:51:38.105820",
     "status": "completed"
    },
    "tags": []
   },
   "source": [
    "---"
   ]
  },
  {
   "cell_type": "markdown",
   "id": "a54e8aed",
   "metadata": {
    "papermill": {
     "duration": 0.013979,
     "end_time": "2022-08-28T02:51:38.147876",
     "exception": false,
     "start_time": "2022-08-28T02:51:38.133897",
     "status": "completed"
    },
    "tags": []
   },
   "source": [
    "## Pre-processing The Dataset..."
   ]
  },
  {
   "cell_type": "code",
   "execution_count": 12,
   "id": "ff7698ac",
   "metadata": {
    "execution": {
     "iopub.execute_input": "2022-08-28T02:51:38.179151Z",
     "iopub.status.busy": "2022-08-28T02:51:38.177771Z",
     "iopub.status.idle": "2022-08-28T02:51:38.345229Z",
     "shell.execute_reply": "2022-08-28T02:51:38.343804Z"
    },
    "papermill": {
     "duration": 0.186337,
     "end_time": "2022-08-28T02:51:38.348543",
     "exception": false,
     "start_time": "2022-08-28T02:51:38.162206",
     "status": "completed"
    },
    "tags": []
   },
   "outputs": [
    {
     "name": "stdout",
     "output_type": "stream",
     "text": [
      "Imputing for Product: A...\n",
      "Imputing for Product: B...\n",
      "Imputing for Product: C...\n",
      "Imputing for Product: D...\n",
      "Imputing for Product: E...\n",
      "........... \n",
      "\n",
      "Imputing for Product: F...\n",
      "Imputing for Product: G...\n",
      "Imputing for Product: H...\n",
      "Imputing for Product: I...\n",
      "........... \n",
      "\n",
      "CPU times: total: 125 ms\n",
      "Wall time: 284 ms\n"
     ]
    }
   ],
   "source": [
    "%%time\n",
    "# Create a fill missing values function using the Simple Imputer\n",
    "def imputer_numeric(df, cols, group_code = 'product_code'):\n",
    "    '''\n",
    "    \n",
    "    '''\n",
    "    product_list = list(df[group_code].unique())\n",
    "    result_df = pd.DataFrame()\n",
    "    for product in product_list:\n",
    "        tmp = df[df[group_code] == product]\n",
    "        print(f'Imputing for Product: {product}...')\n",
    "        imputer = SimpleImputer(strategy = \"mean\")\n",
    "        imputer.fit(tmp[cols])\n",
    "\n",
    "        tmp[cols] = imputer.transform(tmp[cols])\n",
    "        result_df = result_df.append(tmp)\n",
    "        \n",
    "    print('...........', '\\n')\n",
    "    return result_df\n",
    "\n",
    "trn_data = imputer_numeric(trn_data, measure_cols, group_code = 'product_code')\n",
    "tst_data = imputer_numeric(tst_data, measure_cols, group_code = 'product_code')"
   ]
  },
  {
   "cell_type": "markdown",
   "id": "da04baa9",
   "metadata": {
    "papermill": {
     "duration": 0.01387,
     "end_time": "2022-08-28T02:51:38.376775",
     "exception": false,
     "start_time": "2022-08-28T02:51:38.362905",
     "status": "completed"
    },
    "tags": []
   },
   "source": [
    "---"
   ]
  },
  {
   "cell_type": "markdown",
   "id": "8e627ae2",
   "metadata": {
    "papermill": {
     "duration": 0.014072,
     "end_time": "2022-08-28T02:51:38.405060",
     "exception": false,
     "start_time": "2022-08-28T02:51:38.390988",
     "status": "completed"
    },
    "tags": []
   },
   "source": [
    "## Building a Parameter file for PyCaret..."
   ]
  },
  {
   "cell_type": "code",
   "execution_count": 13,
   "id": "8fe9aa87",
   "metadata": {
    "execution": {
     "iopub.execute_input": "2022-08-28T02:51:38.436180Z",
     "iopub.status.busy": "2022-08-28T02:51:38.435732Z",
     "iopub.status.idle": "2022-08-28T02:51:44.765502Z",
     "shell.execute_reply": "2022-08-28T02:51:44.764323Z"
    },
    "papermill": {
     "duration": 6.348597,
     "end_time": "2022-08-28T02:51:44.768360",
     "exception": false,
     "start_time": "2022-08-28T02:51:38.419763",
     "status": "completed"
    },
    "tags": []
   },
   "outputs": [
    {
     "data": {
      "text/html": [
       "<style type=\"text/css\">\n",
       "#T_9e276_row11_col1, #T_9e276_row18_col1 {\n",
       "  background-color: lightgreen;\n",
       "}\n",
       "</style>\n",
       "<table id=\"T_9e276\">\n",
       "  <thead>\n",
       "    <tr>\n",
       "      <th class=\"blank level0\" >&nbsp;</th>\n",
       "      <th id=\"T_9e276_level0_col0\" class=\"col_heading level0 col0\" >Description</th>\n",
       "      <th id=\"T_9e276_level0_col1\" class=\"col_heading level0 col1\" >Value</th>\n",
       "    </tr>\n",
       "  </thead>\n",
       "  <tbody>\n",
       "    <tr>\n",
       "      <th id=\"T_9e276_level0_row0\" class=\"row_heading level0 row0\" >0</th>\n",
       "      <td id=\"T_9e276_row0_col0\" class=\"data row0 col0\" >Session id</td>\n",
       "      <td id=\"T_9e276_row0_col1\" class=\"data row0 col1\" >123</td>\n",
       "    </tr>\n",
       "    <tr>\n",
       "      <th id=\"T_9e276_level0_row1\" class=\"row_heading level0 row1\" >1</th>\n",
       "      <td id=\"T_9e276_row1_col0\" class=\"data row1 col0\" >Target</td>\n",
       "      <td id=\"T_9e276_row1_col1\" class=\"data row1 col1\" >failure</td>\n",
       "    </tr>\n",
       "    <tr>\n",
       "      <th id=\"T_9e276_level0_row2\" class=\"row_heading level0 row2\" >2</th>\n",
       "      <td id=\"T_9e276_row2_col0\" class=\"data row2 col0\" >Target type</td>\n",
       "      <td id=\"T_9e276_row2_col1\" class=\"data row2 col1\" >Binary</td>\n",
       "    </tr>\n",
       "    <tr>\n",
       "      <th id=\"T_9e276_level0_row3\" class=\"row_heading level0 row3\" >3</th>\n",
       "      <td id=\"T_9e276_row3_col0\" class=\"data row3 col0\" >Original data shape</td>\n",
       "      <td id=\"T_9e276_row3_col1\" class=\"data row3 col1\" >(26570, 24)</td>\n",
       "    </tr>\n",
       "    <tr>\n",
       "      <th id=\"T_9e276_level0_row4\" class=\"row_heading level0 row4\" >4</th>\n",
       "      <td id=\"T_9e276_row4_col0\" class=\"data row4 col0\" >Transformed data shape</td>\n",
       "      <td id=\"T_9e276_row4_col1\" class=\"data row4 col1\" >(26570, 26)</td>\n",
       "    </tr>\n",
       "    <tr>\n",
       "      <th id=\"T_9e276_level0_row5\" class=\"row_heading level0 row5\" >5</th>\n",
       "      <td id=\"T_9e276_row5_col0\" class=\"data row5 col0\" >Transformed train set shape</td>\n",
       "      <td id=\"T_9e276_row5_col1\" class=\"data row5 col1\" >(18598, 26)</td>\n",
       "    </tr>\n",
       "    <tr>\n",
       "      <th id=\"T_9e276_level0_row6\" class=\"row_heading level0 row6\" >6</th>\n",
       "      <td id=\"T_9e276_row6_col0\" class=\"data row6 col0\" >Transformed test set shape</td>\n",
       "      <td id=\"T_9e276_row6_col1\" class=\"data row6 col1\" >(7972, 26)</td>\n",
       "    </tr>\n",
       "    <tr>\n",
       "      <th id=\"T_9e276_level0_row7\" class=\"row_heading level0 row7\" >7</th>\n",
       "      <td id=\"T_9e276_row7_col0\" class=\"data row7 col0\" >Ignore features</td>\n",
       "      <td id=\"T_9e276_row7_col1\" class=\"data row7 col1\" >2</td>\n",
       "    </tr>\n",
       "    <tr>\n",
       "      <th id=\"T_9e276_level0_row8\" class=\"row_heading level0 row8\" >8</th>\n",
       "      <td id=\"T_9e276_row8_col0\" class=\"data row8 col0\" >Ordinal features</td>\n",
       "      <td id=\"T_9e276_row8_col1\" class=\"data row8 col1\" >1</td>\n",
       "    </tr>\n",
       "    <tr>\n",
       "      <th id=\"T_9e276_level0_row9\" class=\"row_heading level0 row9\" >9</th>\n",
       "      <td id=\"T_9e276_row9_col0\" class=\"data row9 col0\" >Numeric features</td>\n",
       "      <td id=\"T_9e276_row9_col1\" class=\"data row9 col1\" >21</td>\n",
       "    </tr>\n",
       "    <tr>\n",
       "      <th id=\"T_9e276_level0_row10\" class=\"row_heading level0 row10\" >10</th>\n",
       "      <td id=\"T_9e276_row10_col0\" class=\"data row10 col0\" >Categorical features</td>\n",
       "      <td id=\"T_9e276_row10_col1\" class=\"data row10 col1\" >2</td>\n",
       "    </tr>\n",
       "    <tr>\n",
       "      <th id=\"T_9e276_level0_row11\" class=\"row_heading level0 row11\" >11</th>\n",
       "      <td id=\"T_9e276_row11_col0\" class=\"data row11 col0\" >Preprocess</td>\n",
       "      <td id=\"T_9e276_row11_col1\" class=\"data row11 col1\" >True</td>\n",
       "    </tr>\n",
       "    <tr>\n",
       "      <th id=\"T_9e276_level0_row12\" class=\"row_heading level0 row12\" >12</th>\n",
       "      <td id=\"T_9e276_row12_col0\" class=\"data row12 col0\" >Imputation type</td>\n",
       "      <td id=\"T_9e276_row12_col1\" class=\"data row12 col1\" >simple</td>\n",
       "    </tr>\n",
       "    <tr>\n",
       "      <th id=\"T_9e276_level0_row13\" class=\"row_heading level0 row13\" >13</th>\n",
       "      <td id=\"T_9e276_row13_col0\" class=\"data row13 col0\" >Numeric imputation</td>\n",
       "      <td id=\"T_9e276_row13_col1\" class=\"data row13 col1\" >mean</td>\n",
       "    </tr>\n",
       "    <tr>\n",
       "      <th id=\"T_9e276_level0_row14\" class=\"row_heading level0 row14\" >14</th>\n",
       "      <td id=\"T_9e276_row14_col0\" class=\"data row14 col0\" >Categorical imputation</td>\n",
       "      <td id=\"T_9e276_row14_col1\" class=\"data row14 col1\" >constant</td>\n",
       "    </tr>\n",
       "    <tr>\n",
       "      <th id=\"T_9e276_level0_row15\" class=\"row_heading level0 row15\" >15</th>\n",
       "      <td id=\"T_9e276_row15_col0\" class=\"data row15 col0\" >Maximum one-hot encoding</td>\n",
       "      <td id=\"T_9e276_row15_col1\" class=\"data row15 col1\" >5</td>\n",
       "    </tr>\n",
       "    <tr>\n",
       "      <th id=\"T_9e276_level0_row16\" class=\"row_heading level0 row16\" >16</th>\n",
       "      <td id=\"T_9e276_row16_col0\" class=\"data row16 col0\" >Encoding method</td>\n",
       "      <td id=\"T_9e276_row16_col1\" class=\"data row16 col1\" >None</td>\n",
       "    </tr>\n",
       "    <tr>\n",
       "      <th id=\"T_9e276_level0_row17\" class=\"row_heading level0 row17\" >17</th>\n",
       "      <td id=\"T_9e276_row17_col0\" class=\"data row17 col0\" >Low variance threshold</td>\n",
       "      <td id=\"T_9e276_row17_col1\" class=\"data row17 col1\" >0</td>\n",
       "    </tr>\n",
       "    <tr>\n",
       "      <th id=\"T_9e276_level0_row18\" class=\"row_heading level0 row18\" >18</th>\n",
       "      <td id=\"T_9e276_row18_col0\" class=\"data row18 col0\" >Normalize</td>\n",
       "      <td id=\"T_9e276_row18_col1\" class=\"data row18 col1\" >True</td>\n",
       "    </tr>\n",
       "    <tr>\n",
       "      <th id=\"T_9e276_level0_row19\" class=\"row_heading level0 row19\" >19</th>\n",
       "      <td id=\"T_9e276_row19_col0\" class=\"data row19 col0\" >Normalize method</td>\n",
       "      <td id=\"T_9e276_row19_col1\" class=\"data row19 col1\" >robust</td>\n",
       "    </tr>\n",
       "    <tr>\n",
       "      <th id=\"T_9e276_level0_row20\" class=\"row_heading level0 row20\" >20</th>\n",
       "      <td id=\"T_9e276_row20_col0\" class=\"data row20 col0\" >Fold Generator</td>\n",
       "      <td id=\"T_9e276_row20_col1\" class=\"data row20 col1\" >StratifiedKFold</td>\n",
       "    </tr>\n",
       "    <tr>\n",
       "      <th id=\"T_9e276_level0_row21\" class=\"row_heading level0 row21\" >21</th>\n",
       "      <td id=\"T_9e276_row21_col0\" class=\"data row21 col0\" >Fold Number</td>\n",
       "      <td id=\"T_9e276_row21_col1\" class=\"data row21 col1\" >10</td>\n",
       "    </tr>\n",
       "    <tr>\n",
       "      <th id=\"T_9e276_level0_row22\" class=\"row_heading level0 row22\" >22</th>\n",
       "      <td id=\"T_9e276_row22_col0\" class=\"data row22 col0\" >CPU Jobs</td>\n",
       "      <td id=\"T_9e276_row22_col1\" class=\"data row22 col1\" >-1</td>\n",
       "    </tr>\n",
       "    <tr>\n",
       "      <th id=\"T_9e276_level0_row23\" class=\"row_heading level0 row23\" >23</th>\n",
       "      <td id=\"T_9e276_row23_col0\" class=\"data row23 col0\" >Use GPU</td>\n",
       "      <td id=\"T_9e276_row23_col1\" class=\"data row23 col1\" >False</td>\n",
       "    </tr>\n",
       "    <tr>\n",
       "      <th id=\"T_9e276_level0_row24\" class=\"row_heading level0 row24\" >24</th>\n",
       "      <td id=\"T_9e276_row24_col0\" class=\"data row24 col0\" >Log Experiment</td>\n",
       "      <td id=\"T_9e276_row24_col1\" class=\"data row24 col1\" >False</td>\n",
       "    </tr>\n",
       "    <tr>\n",
       "      <th id=\"T_9e276_level0_row25\" class=\"row_heading level0 row25\" >25</th>\n",
       "      <td id=\"T_9e276_row25_col0\" class=\"data row25 col0\" >Experiment Name</td>\n",
       "      <td id=\"T_9e276_row25_col1\" class=\"data row25 col1\" >clf-default-name</td>\n",
       "    </tr>\n",
       "    <tr>\n",
       "      <th id=\"T_9e276_level0_row26\" class=\"row_heading level0 row26\" >26</th>\n",
       "      <td id=\"T_9e276_row26_col0\" class=\"data row26 col0\" >USI</td>\n",
       "      <td id=\"T_9e276_row26_col1\" class=\"data row26 col1\" >9e3c</td>\n",
       "    </tr>\n",
       "  </tbody>\n",
       "</table>\n"
      ],
      "text/plain": [
       "<pandas.io.formats.style.Styler at 0x1ba0157fca0>"
      ]
     },
     "metadata": {},
     "output_type": "display_data"
    }
   ],
   "source": [
    "clf101 = setup(data = trn_data,\n",
    "               target = 'failure',\n",
    "               categorical_features = cat_feat,\n",
    "               numeric_features = num_feat,\n",
    "               normalize = True,\n",
    "               normalize_method = 'robust',\n",
    "               #pca = True,\n",
    "               #polynomial_features = True,\n",
    "               #feature_selection = True,\n",
    "               #fix_imbalance = True,\n",
    "               #fix_imbalance_method = SMOTE(),\n",
    "               ignore_features = ['id', 'product_code'],\n",
    "               session_id = 123) "
   ]
  },
  {
   "cell_type": "markdown",
   "id": "051fcda3",
   "metadata": {
    "papermill": {
     "duration": 0.014406,
     "end_time": "2022-08-28T02:51:44.797609",
     "exception": false,
     "start_time": "2022-08-28T02:51:44.783203",
     "status": "completed"
    },
    "tags": []
   },
   "source": [
    "---"
   ]
  },
  {
   "cell_type": "markdown",
   "id": "157872f9",
   "metadata": {
    "papermill": {
     "duration": 0.014408,
     "end_time": "2022-08-28T02:51:44.826682",
     "exception": false,
     "start_time": "2022-08-28T02:51:44.812274",
     "status": "completed"
    },
    "tags": []
   },
   "source": [
    "## Fit Multiple Models, Select the Best..."
   ]
  },
  {
   "cell_type": "code",
   "execution_count": 14,
   "id": "4aa96709",
   "metadata": {
    "execution": {
     "iopub.execute_input": "2022-08-28T02:51:44.857998Z",
     "iopub.status.busy": "2022-08-28T02:51:44.857552Z",
     "iopub.status.idle": "2022-08-28T02:56:25.840279Z",
     "shell.execute_reply": "2022-08-28T02:56:25.839240Z"
    },
    "papermill": {
     "duration": 281.001726,
     "end_time": "2022-08-28T02:56:25.843110",
     "exception": false,
     "start_time": "2022-08-28T02:51:44.841384",
     "status": "completed"
    },
    "tags": []
   },
   "outputs": [
    {
     "data": {
      "text/html": [],
      "text/plain": [
       "<IPython.core.display.HTML object>"
      ]
     },
     "metadata": {},
     "output_type": "display_data"
    },
    {
     "data": {
      "text/html": [
       "<style type=\"text/css\">\n",
       "#T_dc0af th {\n",
       "  text-align: left;\n",
       "}\n",
       "#T_dc0af_row0_col0, #T_dc0af_row0_col1, #T_dc0af_row0_col3, #T_dc0af_row0_col4, #T_dc0af_row0_col5, #T_dc0af_row0_col6, #T_dc0af_row0_col7, #T_dc0af_row1_col0, #T_dc0af_row1_col1, #T_dc0af_row1_col2, #T_dc0af_row1_col3, #T_dc0af_row1_col4, #T_dc0af_row1_col5, #T_dc0af_row1_col6, #T_dc0af_row1_col7, #T_dc0af_row2_col0, #T_dc0af_row2_col1, #T_dc0af_row2_col2, #T_dc0af_row2_col3, #T_dc0af_row2_col4, #T_dc0af_row2_col5, #T_dc0af_row2_col6, #T_dc0af_row2_col7, #T_dc0af_row3_col0, #T_dc0af_row3_col1, #T_dc0af_row3_col2, #T_dc0af_row3_col3, #T_dc0af_row3_col4, #T_dc0af_row3_col5, #T_dc0af_row3_col6, #T_dc0af_row3_col7, #T_dc0af_row4_col0, #T_dc0af_row4_col1, #T_dc0af_row4_col2, #T_dc0af_row4_col3, #T_dc0af_row4_col5, #T_dc0af_row5_col0, #T_dc0af_row5_col1, #T_dc0af_row5_col2, #T_dc0af_row5_col3, #T_dc0af_row5_col4, #T_dc0af_row5_col5, #T_dc0af_row5_col6, #T_dc0af_row5_col7, #T_dc0af_row6_col0, #T_dc0af_row6_col1, #T_dc0af_row6_col2, #T_dc0af_row6_col3, #T_dc0af_row6_col4, #T_dc0af_row6_col5, #T_dc0af_row6_col6, #T_dc0af_row6_col7, #T_dc0af_row7_col0, #T_dc0af_row7_col1, #T_dc0af_row7_col2, #T_dc0af_row7_col3, #T_dc0af_row7_col4, #T_dc0af_row7_col5, #T_dc0af_row7_col6, #T_dc0af_row7_col7, #T_dc0af_row8_col0, #T_dc0af_row8_col1, #T_dc0af_row8_col2, #T_dc0af_row8_col3, #T_dc0af_row8_col4, #T_dc0af_row8_col5, #T_dc0af_row8_col6, #T_dc0af_row8_col7, #T_dc0af_row9_col0, #T_dc0af_row9_col1, #T_dc0af_row9_col2, #T_dc0af_row9_col3, #T_dc0af_row9_col4, #T_dc0af_row9_col5, #T_dc0af_row9_col6, #T_dc0af_row9_col7, #T_dc0af_row10_col0, #T_dc0af_row10_col1, #T_dc0af_row10_col2, #T_dc0af_row10_col4, #T_dc0af_row10_col6, #T_dc0af_row10_col7, #T_dc0af_row11_col0, #T_dc0af_row11_col2, #T_dc0af_row11_col3, #T_dc0af_row11_col4, #T_dc0af_row11_col5, #T_dc0af_row11_col6, #T_dc0af_row11_col7, #T_dc0af_row12_col0, #T_dc0af_row12_col2, #T_dc0af_row12_col3, #T_dc0af_row12_col4, #T_dc0af_row12_col5, #T_dc0af_row12_col6, #T_dc0af_row12_col7, #T_dc0af_row13_col0, #T_dc0af_row13_col1, #T_dc0af_row13_col2, #T_dc0af_row13_col3, #T_dc0af_row13_col4, #T_dc0af_row13_col5, #T_dc0af_row13_col6, #T_dc0af_row13_col7 {\n",
       "  text-align: left;\n",
       "}\n",
       "#T_dc0af_row0_col2, #T_dc0af_row4_col4, #T_dc0af_row4_col6, #T_dc0af_row4_col7, #T_dc0af_row10_col3, #T_dc0af_row10_col5, #T_dc0af_row11_col1, #T_dc0af_row12_col1 {\n",
       "  text-align: left;\n",
       "  background-color: yellow;\n",
       "}\n",
       "#T_dc0af_row0_col8, #T_dc0af_row1_col8, #T_dc0af_row2_col8, #T_dc0af_row3_col8, #T_dc0af_row4_col8, #T_dc0af_row5_col8, #T_dc0af_row6_col8, #T_dc0af_row7_col8, #T_dc0af_row8_col8, #T_dc0af_row9_col8, #T_dc0af_row10_col8, #T_dc0af_row12_col8, #T_dc0af_row13_col8 {\n",
       "  text-align: left;\n",
       "  background-color: lightgrey;\n",
       "}\n",
       "#T_dc0af_row11_col8 {\n",
       "  text-align: left;\n",
       "  background-color: yellow;\n",
       "  background-color: lightgrey;\n",
       "}\n",
       "</style>\n",
       "<table id=\"T_dc0af\">\n",
       "  <thead>\n",
       "    <tr>\n",
       "      <th class=\"blank level0\" >&nbsp;</th>\n",
       "      <th id=\"T_dc0af_level0_col0\" class=\"col_heading level0 col0\" >Model</th>\n",
       "      <th id=\"T_dc0af_level0_col1\" class=\"col_heading level0 col1\" >Accuracy</th>\n",
       "      <th id=\"T_dc0af_level0_col2\" class=\"col_heading level0 col2\" >AUC</th>\n",
       "      <th id=\"T_dc0af_level0_col3\" class=\"col_heading level0 col3\" >Recall</th>\n",
       "      <th id=\"T_dc0af_level0_col4\" class=\"col_heading level0 col4\" >Prec.</th>\n",
       "      <th id=\"T_dc0af_level0_col5\" class=\"col_heading level0 col5\" >F1</th>\n",
       "      <th id=\"T_dc0af_level0_col6\" class=\"col_heading level0 col6\" >Kappa</th>\n",
       "      <th id=\"T_dc0af_level0_col7\" class=\"col_heading level0 col7\" >MCC</th>\n",
       "      <th id=\"T_dc0af_level0_col8\" class=\"col_heading level0 col8\" >TT (Sec)</th>\n",
       "    </tr>\n",
       "  </thead>\n",
       "  <tbody>\n",
       "    <tr>\n",
       "      <th id=\"T_dc0af_level0_row0\" class=\"row_heading level0 row0\" >lda</th>\n",
       "      <td id=\"T_dc0af_row0_col0\" class=\"data row0 col0\" >Linear Discriminant Analysis</td>\n",
       "      <td id=\"T_dc0af_row0_col1\" class=\"data row0 col1\" >0.7869</td>\n",
       "      <td id=\"T_dc0af_row0_col2\" class=\"data row0 col2\" >0.5838</td>\n",
       "      <td id=\"T_dc0af_row0_col3\" class=\"data row0 col3\" >0.0030</td>\n",
       "      <td id=\"T_dc0af_row0_col4\" class=\"data row0 col4\" >0.2600</td>\n",
       "      <td id=\"T_dc0af_row0_col5\" class=\"data row0 col5\" >0.0060</td>\n",
       "      <td id=\"T_dc0af_row0_col6\" class=\"data row0 col6\" >0.0024</td>\n",
       "      <td id=\"T_dc0af_row0_col7\" class=\"data row0 col7\" >0.0119</td>\n",
       "      <td id=\"T_dc0af_row0_col8\" class=\"data row0 col8\" >0.1540</td>\n",
       "    </tr>\n",
       "    <tr>\n",
       "      <th id=\"T_dc0af_level0_row1\" class=\"row_heading level0 row1\" >lr</th>\n",
       "      <td id=\"T_dc0af_row1_col0\" class=\"data row1 col0\" >Logistic Regression</td>\n",
       "      <td id=\"T_dc0af_row1_col1\" class=\"data row1 col1\" >0.7869</td>\n",
       "      <td id=\"T_dc0af_row1_col2\" class=\"data row1 col2\" >0.5833</td>\n",
       "      <td id=\"T_dc0af_row1_col3\" class=\"data row1 col3\" >0.0015</td>\n",
       "      <td id=\"T_dc0af_row1_col4\" class=\"data row1 col4\" >0.2167</td>\n",
       "      <td id=\"T_dc0af_row1_col5\" class=\"data row1 col5\" >0.0030</td>\n",
       "      <td id=\"T_dc0af_row1_col6\" class=\"data row1 col6\" >0.0008</td>\n",
       "      <td id=\"T_dc0af_row1_col7\" class=\"data row1 col7\" >0.0050</td>\n",
       "      <td id=\"T_dc0af_row1_col8\" class=\"data row1 col8\" >1.0300</td>\n",
       "    </tr>\n",
       "    <tr>\n",
       "      <th id=\"T_dc0af_level0_row2\" class=\"row_heading level0 row2\" >gbc</th>\n",
       "      <td id=\"T_dc0af_row2_col0\" class=\"data row2 col0\" >Gradient Boosting Classifier</td>\n",
       "      <td id=\"T_dc0af_row2_col1\" class=\"data row2 col1\" >0.7868</td>\n",
       "      <td id=\"T_dc0af_row2_col2\" class=\"data row2 col2\" >0.5772</td>\n",
       "      <td id=\"T_dc0af_row2_col3\" class=\"data row2 col3\" >0.0028</td>\n",
       "      <td id=\"T_dc0af_row2_col4\" class=\"data row2 col4\" >0.2833</td>\n",
       "      <td id=\"T_dc0af_row2_col5\" class=\"data row2 col5\" >0.0055</td>\n",
       "      <td id=\"T_dc0af_row2_col6\" class=\"data row2 col6\" >0.0019</td>\n",
       "      <td id=\"T_dc0af_row2_col7\" class=\"data row2 col7\" >0.0099</td>\n",
       "      <td id=\"T_dc0af_row2_col8\" class=\"data row2 col8\" >2.8040</td>\n",
       "    </tr>\n",
       "    <tr>\n",
       "      <th id=\"T_dc0af_level0_row3\" class=\"row_heading level0 row3\" >ada</th>\n",
       "      <td id=\"T_dc0af_row3_col0\" class=\"data row3 col0\" >Ada Boost Classifier</td>\n",
       "      <td id=\"T_dc0af_row3_col1\" class=\"data row3 col1\" >0.7861</td>\n",
       "      <td id=\"T_dc0af_row3_col2\" class=\"data row3 col2\" >0.5717</td>\n",
       "      <td id=\"T_dc0af_row3_col3\" class=\"data row3 col3\" >0.0048</td>\n",
       "      <td id=\"T_dc0af_row3_col4\" class=\"data row3 col4\" >0.3092</td>\n",
       "      <td id=\"T_dc0af_row3_col5\" class=\"data row3 col5\" >0.0094</td>\n",
       "      <td id=\"T_dc0af_row3_col6\" class=\"data row3 col6\" >0.0028</td>\n",
       "      <td id=\"T_dc0af_row3_col7\" class=\"data row3 col7\" >0.0126</td>\n",
       "      <td id=\"T_dc0af_row3_col8\" class=\"data row3 col8\" >0.7120</td>\n",
       "    </tr>\n",
       "    <tr>\n",
       "      <th id=\"T_dc0af_level0_row4\" class=\"row_heading level0 row4\" >nb</th>\n",
       "      <td id=\"T_dc0af_row4_col0\" class=\"data row4 col0\" >Naive Bayes</td>\n",
       "      <td id=\"T_dc0af_row4_col1\" class=\"data row4 col1\" >0.7823</td>\n",
       "      <td id=\"T_dc0af_row4_col2\" class=\"data row4 col2\" >0.5711</td>\n",
       "      <td id=\"T_dc0af_row4_col3\" class=\"data row4 col3\" >0.0316</td>\n",
       "      <td id=\"T_dc0af_row4_col4\" class=\"data row4 col4\" >0.3689</td>\n",
       "      <td id=\"T_dc0af_row4_col5\" class=\"data row4 col5\" >0.0582</td>\n",
       "      <td id=\"T_dc0af_row4_col6\" class=\"data row4 col6\" >0.0250</td>\n",
       "      <td id=\"T_dc0af_row4_col7\" class=\"data row4 col7\" >0.0514</td>\n",
       "      <td id=\"T_dc0af_row4_col8\" class=\"data row4 col8\" >0.1230</td>\n",
       "    </tr>\n",
       "    <tr>\n",
       "      <th id=\"T_dc0af_level0_row5\" class=\"row_heading level0 row5\" >lightgbm</th>\n",
       "      <td id=\"T_dc0af_row5_col0\" class=\"data row5 col0\" >Light Gradient Boosting Machine</td>\n",
       "      <td id=\"T_dc0af_row5_col1\" class=\"data row5 col1\" >0.7861</td>\n",
       "      <td id=\"T_dc0af_row5_col2\" class=\"data row5 col2\" >0.5593</td>\n",
       "      <td id=\"T_dc0af_row5_col3\" class=\"data row5 col3\" >0.0046</td>\n",
       "      <td id=\"T_dc0af_row5_col4\" class=\"data row5 col4\" >0.2610</td>\n",
       "      <td id=\"T_dc0af_row5_col5\" class=\"data row5 col5\" >0.0089</td>\n",
       "      <td id=\"T_dc0af_row5_col6\" class=\"data row5 col6\" >0.0025</td>\n",
       "      <td id=\"T_dc0af_row5_col7\" class=\"data row5 col7\" >0.0094</td>\n",
       "      <td id=\"T_dc0af_row5_col8\" class=\"data row5 col8\" >0.2950</td>\n",
       "    </tr>\n",
       "    <tr>\n",
       "      <th id=\"T_dc0af_level0_row6\" class=\"row_heading level0 row6\" >rf</th>\n",
       "      <td id=\"T_dc0af_row6_col0\" class=\"data row6 col0\" >Random Forest Classifier</td>\n",
       "      <td id=\"T_dc0af_row6_col1\" class=\"data row6 col1\" >0.7870</td>\n",
       "      <td id=\"T_dc0af_row6_col2\" class=\"data row6 col2\" >0.5459</td>\n",
       "      <td id=\"T_dc0af_row6_col3\" class=\"data row6 col3\" >0.0010</td>\n",
       "      <td id=\"T_dc0af_row6_col4\" class=\"data row6 col4\" >0.2500</td>\n",
       "      <td id=\"T_dc0af_row6_col5\" class=\"data row6 col5\" >0.0020</td>\n",
       "      <td id=\"T_dc0af_row6_col6\" class=\"data row6 col6\" >0.0004</td>\n",
       "      <td id=\"T_dc0af_row6_col7\" class=\"data row6 col7\" >0.0040</td>\n",
       "      <td id=\"T_dc0af_row6_col8\" class=\"data row6 col8\" >2.2550</td>\n",
       "    </tr>\n",
       "    <tr>\n",
       "      <th id=\"T_dc0af_level0_row7\" class=\"row_heading level0 row7\" >et</th>\n",
       "      <td id=\"T_dc0af_row7_col0\" class=\"data row7 col0\" >Extra Trees Classifier</td>\n",
       "      <td id=\"T_dc0af_row7_col1\" class=\"data row7 col1\" >0.7871</td>\n",
       "      <td id=\"T_dc0af_row7_col2\" class=\"data row7 col2\" >0.5448</td>\n",
       "      <td id=\"T_dc0af_row7_col3\" class=\"data row7 col3\" >0.0003</td>\n",
       "      <td id=\"T_dc0af_row7_col4\" class=\"data row7 col4\" >0.0500</td>\n",
       "      <td id=\"T_dc0af_row7_col5\" class=\"data row7 col5\" >0.0005</td>\n",
       "      <td id=\"T_dc0af_row7_col6\" class=\"data row7 col6\" >-0.0002</td>\n",
       "      <td id=\"T_dc0af_row7_col7\" class=\"data row7 col7\" >-0.0030</td>\n",
       "      <td id=\"T_dc0af_row7_col8\" class=\"data row7 col8\" >0.9710</td>\n",
       "    </tr>\n",
       "    <tr>\n",
       "      <th id=\"T_dc0af_level0_row8\" class=\"row_heading level0 row8\" >knn</th>\n",
       "      <td id=\"T_dc0af_row8_col0\" class=\"data row8 col0\" >K Neighbors Classifier</td>\n",
       "      <td id=\"T_dc0af_row8_col1\" class=\"data row8 col1\" >0.7486</td>\n",
       "      <td id=\"T_dc0af_row8_col2\" class=\"data row8 col2\" >0.5116</td>\n",
       "      <td id=\"T_dc0af_row8_col3\" class=\"data row8 col3\" >0.0787</td>\n",
       "      <td id=\"T_dc0af_row8_col4\" class=\"data row8 col4\" >0.2316</td>\n",
       "      <td id=\"T_dc0af_row8_col5\" class=\"data row8 col5\" >0.1173</td>\n",
       "      <td id=\"T_dc0af_row8_col6\" class=\"data row8 col6\" >0.0107</td>\n",
       "      <td id=\"T_dc0af_row8_col7\" class=\"data row8 col7\" >0.0129</td>\n",
       "      <td id=\"T_dc0af_row8_col8\" class=\"data row8 col8\" >0.3060</td>\n",
       "    </tr>\n",
       "    <tr>\n",
       "      <th id=\"T_dc0af_level0_row9\" class=\"row_heading level0 row9\" >dt</th>\n",
       "      <td id=\"T_dc0af_row9_col0\" class=\"data row9 col0\" >Decision Tree Classifier</td>\n",
       "      <td id=\"T_dc0af_row9_col1\" class=\"data row9 col1\" >0.6570</td>\n",
       "      <td id=\"T_dc0af_row9_col2\" class=\"data row9 col2\" >0.5061</td>\n",
       "      <td id=\"T_dc0af_row9_col3\" class=\"data row9 col3\" >0.2435</td>\n",
       "      <td id=\"T_dc0af_row9_col4\" class=\"data row9 col4\" >0.2212</td>\n",
       "      <td id=\"T_dc0af_row9_col5\" class=\"data row9 col5\" >0.2318</td>\n",
       "      <td id=\"T_dc0af_row9_col6\" class=\"data row9 col6\" >0.0116</td>\n",
       "      <td id=\"T_dc0af_row9_col7\" class=\"data row9 col7\" >0.0117</td>\n",
       "      <td id=\"T_dc0af_row9_col8\" class=\"data row9 col8\" >0.3060</td>\n",
       "    </tr>\n",
       "    <tr>\n",
       "      <th id=\"T_dc0af_level0_row10\" class=\"row_heading level0 row10\" >qda</th>\n",
       "      <td id=\"T_dc0af_row10_col0\" class=\"data row10 col0\" >Quadratic Discriminant Analysis</td>\n",
       "      <td id=\"T_dc0af_row10_col1\" class=\"data row10 col1\" >0.6009</td>\n",
       "      <td id=\"T_dc0af_row10_col2\" class=\"data row10 col2\" >0.5057</td>\n",
       "      <td id=\"T_dc0af_row10_col3\" class=\"data row10 col3\" >0.3432</td>\n",
       "      <td id=\"T_dc0af_row10_col4\" class=\"data row10 col4\" >0.2200</td>\n",
       "      <td id=\"T_dc0af_row10_col5\" class=\"data row10 col5\" >0.2515</td>\n",
       "      <td id=\"T_dc0af_row10_col6\" class=\"data row10 col6\" >0.0120</td>\n",
       "      <td id=\"T_dc0af_row10_col7\" class=\"data row10 col7\" >0.0124</td>\n",
       "      <td id=\"T_dc0af_row10_col8\" class=\"data row10 col8\" >0.1340</td>\n",
       "    </tr>\n",
       "    <tr>\n",
       "      <th id=\"T_dc0af_level0_row11\" class=\"row_heading level0 row11\" >dummy</th>\n",
       "      <td id=\"T_dc0af_row11_col0\" class=\"data row11 col0\" >Dummy Classifier</td>\n",
       "      <td id=\"T_dc0af_row11_col1\" class=\"data row11 col1\" >0.7874</td>\n",
       "      <td id=\"T_dc0af_row11_col2\" class=\"data row11 col2\" >0.5000</td>\n",
       "      <td id=\"T_dc0af_row11_col3\" class=\"data row11 col3\" >0.0000</td>\n",
       "      <td id=\"T_dc0af_row11_col4\" class=\"data row11 col4\" >0.0000</td>\n",
       "      <td id=\"T_dc0af_row11_col5\" class=\"data row11 col5\" >0.0000</td>\n",
       "      <td id=\"T_dc0af_row11_col6\" class=\"data row11 col6\" >0.0000</td>\n",
       "      <td id=\"T_dc0af_row11_col7\" class=\"data row11 col7\" >0.0000</td>\n",
       "      <td id=\"T_dc0af_row11_col8\" class=\"data row11 col8\" >0.1070</td>\n",
       "    </tr>\n",
       "    <tr>\n",
       "      <th id=\"T_dc0af_level0_row12\" class=\"row_heading level0 row12\" >svm</th>\n",
       "      <td id=\"T_dc0af_row12_col0\" class=\"data row12 col0\" >SVM - Linear Kernel</td>\n",
       "      <td id=\"T_dc0af_row12_col1\" class=\"data row12 col1\" >0.7874</td>\n",
       "      <td id=\"T_dc0af_row12_col2\" class=\"data row12 col2\" >0.0000</td>\n",
       "      <td id=\"T_dc0af_row12_col3\" class=\"data row12 col3\" >0.0000</td>\n",
       "      <td id=\"T_dc0af_row12_col4\" class=\"data row12 col4\" >0.0000</td>\n",
       "      <td id=\"T_dc0af_row12_col5\" class=\"data row12 col5\" >0.0000</td>\n",
       "      <td id=\"T_dc0af_row12_col6\" class=\"data row12 col6\" >0.0000</td>\n",
       "      <td id=\"T_dc0af_row12_col7\" class=\"data row12 col7\" >0.0000</td>\n",
       "      <td id=\"T_dc0af_row12_col8\" class=\"data row12 col8\" >0.1640</td>\n",
       "    </tr>\n",
       "    <tr>\n",
       "      <th id=\"T_dc0af_level0_row13\" class=\"row_heading level0 row13\" >ridge</th>\n",
       "      <td id=\"T_dc0af_row13_col0\" class=\"data row13 col0\" >Ridge Classifier</td>\n",
       "      <td id=\"T_dc0af_row13_col1\" class=\"data row13 col1\" >0.7873</td>\n",
       "      <td id=\"T_dc0af_row13_col2\" class=\"data row13 col2\" >0.0000</td>\n",
       "      <td id=\"T_dc0af_row13_col3\" class=\"data row13 col3\" >0.0005</td>\n",
       "      <td id=\"T_dc0af_row13_col4\" class=\"data row13 col4\" >0.1000</td>\n",
       "      <td id=\"T_dc0af_row13_col5\" class=\"data row13 col5\" >0.0010</td>\n",
       "      <td id=\"T_dc0af_row13_col6\" class=\"data row13 col6\" >0.0004</td>\n",
       "      <td id=\"T_dc0af_row13_col7\" class=\"data row13 col7\" >0.0022</td>\n",
       "      <td id=\"T_dc0af_row13_col8\" class=\"data row13 col8\" >0.1250</td>\n",
       "    </tr>\n",
       "  </tbody>\n",
       "</table>\n"
      ],
      "text/plain": [
       "<pandas.io.formats.style.Styler at 0x1ba01bc6fa0>"
      ]
     },
     "metadata": {},
     "output_type": "display_data"
    },
    {
     "data": {
      "application/vnd.jupyter.widget-view+json": {
       "model_id": "de98c8fb42274232803737bcb2f16ee3",
       "version_major": 2,
       "version_minor": 0
      },
      "text/plain": [
       "Processing:   0%|          | 0/61 [00:00<?, ?it/s]"
      ]
     },
     "metadata": {},
     "output_type": "display_data"
    }
   ],
   "source": [
    "best_model = compare_models(sort = 'AUC', fold = 10)"
   ]
  },
  {
   "cell_type": "code",
   "execution_count": 15,
   "id": "d028e8e4",
   "metadata": {
    "execution": {
     "iopub.execute_input": "2022-08-28T02:56:25.876429Z",
     "iopub.status.busy": "2022-08-28T02:56:25.876039Z",
     "iopub.status.idle": "2022-08-28T02:56:25.882755Z",
     "shell.execute_reply": "2022-08-28T02:56:25.881491Z"
    },
    "papermill": {
     "duration": 0.026799,
     "end_time": "2022-08-28T02:56:25.885919",
     "exception": false,
     "start_time": "2022-08-28T02:56:25.859120",
     "status": "completed"
    },
    "tags": []
   },
   "outputs": [
    {
     "name": "stdout",
     "output_type": "stream",
     "text": [
      "LinearDiscriminantAnalysis(covariance_estimator=None, n_components=None,\n",
      "                           priors=None, shrinkage=None, solver='svd',\n",
      "                           store_covariance=False, tol=0.0001)\n"
     ]
    }
   ],
   "source": [
    "print(best_model)"
   ]
  },
  {
   "cell_type": "markdown",
   "id": "8e6558d6",
   "metadata": {
    "papermill": {
     "duration": 0.015574,
     "end_time": "2022-08-28T02:56:25.918349",
     "exception": false,
     "start_time": "2022-08-28T02:56:25.902775",
     "status": "completed"
    },
    "tags": []
   },
   "source": [
    "---"
   ]
  },
  {
   "cell_type": "markdown",
   "id": "24e2a0b7",
   "metadata": {
    "papermill": {
     "duration": 0.015792,
     "end_time": "2022-08-28T02:56:25.949830",
     "exception": false,
     "start_time": "2022-08-28T02:56:25.934038",
     "status": "completed"
    },
    "tags": []
   },
   "source": [
    "## Fit a Machine Learning Model LDA..."
   ]
  },
  {
   "cell_type": "code",
   "execution_count": 16,
   "id": "d83ac3c3",
   "metadata": {
    "execution": {
     "iopub.execute_input": "2022-08-28T02:56:25.983703Z",
     "iopub.status.busy": "2022-08-28T02:56:25.982815Z",
     "iopub.status.idle": "2022-08-28T02:56:28.819001Z",
     "shell.execute_reply": "2022-08-28T02:56:28.817699Z"
    },
    "papermill": {
     "duration": 2.856324,
     "end_time": "2022-08-28T02:56:28.822013",
     "exception": false,
     "start_time": "2022-08-28T02:56:25.965689",
     "status": "completed"
    },
    "tags": []
   },
   "outputs": [
    {
     "data": {
      "text/html": [],
      "text/plain": [
       "<IPython.core.display.HTML object>"
      ]
     },
     "metadata": {},
     "output_type": "display_data"
    },
    {
     "data": {
      "text/html": [
       "<style type=\"text/css\">\n",
       "#T_d0efd_row10_col0, #T_d0efd_row10_col1, #T_d0efd_row10_col2, #T_d0efd_row10_col3, #T_d0efd_row10_col4, #T_d0efd_row10_col5, #T_d0efd_row10_col6 {\n",
       "  background: yellow;\n",
       "}\n",
       "</style>\n",
       "<table id=\"T_d0efd\">\n",
       "  <thead>\n",
       "    <tr>\n",
       "      <th class=\"blank level0\" >&nbsp;</th>\n",
       "      <th id=\"T_d0efd_level0_col0\" class=\"col_heading level0 col0\" >Accuracy</th>\n",
       "      <th id=\"T_d0efd_level0_col1\" class=\"col_heading level0 col1\" >AUC</th>\n",
       "      <th id=\"T_d0efd_level0_col2\" class=\"col_heading level0 col2\" >Recall</th>\n",
       "      <th id=\"T_d0efd_level0_col3\" class=\"col_heading level0 col3\" >Prec.</th>\n",
       "      <th id=\"T_d0efd_level0_col4\" class=\"col_heading level0 col4\" >F1</th>\n",
       "      <th id=\"T_d0efd_level0_col5\" class=\"col_heading level0 col5\" >Kappa</th>\n",
       "      <th id=\"T_d0efd_level0_col6\" class=\"col_heading level0 col6\" >MCC</th>\n",
       "    </tr>\n",
       "    <tr>\n",
       "      <th class=\"index_name level0\" >Fold</th>\n",
       "      <th class=\"blank col0\" >&nbsp;</th>\n",
       "      <th class=\"blank col1\" >&nbsp;</th>\n",
       "      <th class=\"blank col2\" >&nbsp;</th>\n",
       "      <th class=\"blank col3\" >&nbsp;</th>\n",
       "      <th class=\"blank col4\" >&nbsp;</th>\n",
       "      <th class=\"blank col5\" >&nbsp;</th>\n",
       "      <th class=\"blank col6\" >&nbsp;</th>\n",
       "    </tr>\n",
       "  </thead>\n",
       "  <tbody>\n",
       "    <tr>\n",
       "      <th id=\"T_d0efd_level0_row0\" class=\"row_heading level0 row0\" >0</th>\n",
       "      <td id=\"T_d0efd_row0_col0\" class=\"data row0 col0\" >0.7871</td>\n",
       "      <td id=\"T_d0efd_row0_col1\" class=\"data row0 col1\" >0.5836</td>\n",
       "      <td id=\"T_d0efd_row0_col2\" class=\"data row0 col2\" >0.0051</td>\n",
       "      <td id=\"T_d0efd_row0_col3\" class=\"data row0 col3\" >0.5000</td>\n",
       "      <td id=\"T_d0efd_row0_col4\" class=\"data row0 col4\" >0.0100</td>\n",
       "      <td id=\"T_d0efd_row0_col5\" class=\"data row0 col5\" >0.0058</td>\n",
       "      <td id=\"T_d0efd_row0_col6\" class=\"data row0 col6\" >0.0326</td>\n",
       "    </tr>\n",
       "    <tr>\n",
       "      <th id=\"T_d0efd_level0_row1\" class=\"row_heading level0 row1\" >1</th>\n",
       "      <td id=\"T_d0efd_row1_col0\" class=\"data row1 col0\" >0.7849</td>\n",
       "      <td id=\"T_d0efd_row1_col1\" class=\"data row1 col1\" >0.5580</td>\n",
       "      <td id=\"T_d0efd_row1_col2\" class=\"data row1 col2\" >0.0000</td>\n",
       "      <td id=\"T_d0efd_row1_col3\" class=\"data row1 col3\" >0.0000</td>\n",
       "      <td id=\"T_d0efd_row1_col4\" class=\"data row1 col4\" >0.0000</td>\n",
       "      <td id=\"T_d0efd_row1_col5\" class=\"data row1 col5\" >-0.0043</td>\n",
       "      <td id=\"T_d0efd_row1_col6\" class=\"data row1 col6\" >-0.0241</td>\n",
       "    </tr>\n",
       "    <tr>\n",
       "      <th id=\"T_d0efd_level0_row2\" class=\"row_heading level0 row2\" >2</th>\n",
       "      <td id=\"T_d0efd_row2_col0\" class=\"data row2 col0\" >0.7860</td>\n",
       "      <td id=\"T_d0efd_row2_col1\" class=\"data row2 col1\" >0.5924</td>\n",
       "      <td id=\"T_d0efd_row2_col2\" class=\"data row2 col2\" >0.0000</td>\n",
       "      <td id=\"T_d0efd_row2_col3\" class=\"data row2 col3\" >0.0000</td>\n",
       "      <td id=\"T_d0efd_row2_col4\" class=\"data row2 col4\" >0.0000</td>\n",
       "      <td id=\"T_d0efd_row2_col5\" class=\"data row2 col5\" >-0.0021</td>\n",
       "      <td id=\"T_d0efd_row2_col6\" class=\"data row2 col6\" >-0.0171</td>\n",
       "    </tr>\n",
       "    <tr>\n",
       "      <th id=\"T_d0efd_level0_row3\" class=\"row_heading level0 row3\" >3</th>\n",
       "      <td id=\"T_d0efd_row3_col0\" class=\"data row3 col0\" >0.7855</td>\n",
       "      <td id=\"T_d0efd_row3_col1\" class=\"data row3 col1\" >0.5563</td>\n",
       "      <td id=\"T_d0efd_row3_col2\" class=\"data row3 col2\" >0.0025</td>\n",
       "      <td id=\"T_d0efd_row3_col3\" class=\"data row3 col3\" >0.2000</td>\n",
       "      <td id=\"T_d0efd_row3_col4\" class=\"data row3 col4\" >0.0050</td>\n",
       "      <td id=\"T_d0efd_row3_col5\" class=\"data row3 col5\" >-0.0003</td>\n",
       "      <td id=\"T_d0efd_row3_col6\" class=\"data row3 col6\" >-0.0016</td>\n",
       "    </tr>\n",
       "    <tr>\n",
       "      <th id=\"T_d0efd_level0_row4\" class=\"row_heading level0 row4\" >4</th>\n",
       "      <td id=\"T_d0efd_row4_col0\" class=\"data row4 col0\" >0.7871</td>\n",
       "      <td id=\"T_d0efd_row4_col1\" class=\"data row4 col1\" >0.5882</td>\n",
       "      <td id=\"T_d0efd_row4_col2\" class=\"data row4 col2\" >0.0051</td>\n",
       "      <td id=\"T_d0efd_row4_col3\" class=\"data row4 col3\" >0.4000</td>\n",
       "      <td id=\"T_d0efd_row4_col4\" class=\"data row4 col4\" >0.0100</td>\n",
       "      <td id=\"T_d0efd_row4_col5\" class=\"data row4 col5\" >0.0047</td>\n",
       "      <td id=\"T_d0efd_row4_col6\" class=\"data row4 col6\" >0.0238</td>\n",
       "    </tr>\n",
       "    <tr>\n",
       "      <th id=\"T_d0efd_level0_row5\" class=\"row_heading level0 row5\" >5</th>\n",
       "      <td id=\"T_d0efd_row5_col0\" class=\"data row5 col0\" >0.7876</td>\n",
       "      <td id=\"T_d0efd_row5_col1\" class=\"data row5 col1\" >0.5856</td>\n",
       "      <td id=\"T_d0efd_row5_col2\" class=\"data row5 col2\" >0.0051</td>\n",
       "      <td id=\"T_d0efd_row5_col3\" class=\"data row5 col3\" >0.5000</td>\n",
       "      <td id=\"T_d0efd_row5_col4\" class=\"data row5 col4\" >0.0100</td>\n",
       "      <td id=\"T_d0efd_row5_col5\" class=\"data row5 col5\" >0.0058</td>\n",
       "      <td id=\"T_d0efd_row5_col6\" class=\"data row5 col6\" >0.0326</td>\n",
       "    </tr>\n",
       "    <tr>\n",
       "      <th id=\"T_d0efd_level0_row6\" class=\"row_heading level0 row6\" >6</th>\n",
       "      <td id=\"T_d0efd_row6_col0\" class=\"data row6 col0\" >0.7876</td>\n",
       "      <td id=\"T_d0efd_row6_col1\" class=\"data row6 col1\" >0.5856</td>\n",
       "      <td id=\"T_d0efd_row6_col2\" class=\"data row6 col2\" >0.0076</td>\n",
       "      <td id=\"T_d0efd_row6_col3\" class=\"data row6 col3\" >0.5000</td>\n",
       "      <td id=\"T_d0efd_row6_col4\" class=\"data row6 col4\" >0.0150</td>\n",
       "      <td id=\"T_d0efd_row6_col5\" class=\"data row6 col5\" >0.0087</td>\n",
       "      <td id=\"T_d0efd_row6_col6\" class=\"data row6 col6\" >0.0400</td>\n",
       "    </tr>\n",
       "    <tr>\n",
       "      <th id=\"T_d0efd_level0_row7\" class=\"row_heading level0 row7\" >7</th>\n",
       "      <td id=\"T_d0efd_row7_col0\" class=\"data row7 col0\" >0.7876</td>\n",
       "      <td id=\"T_d0efd_row7_col1\" class=\"data row7 col1\" >0.6151</td>\n",
       "      <td id=\"T_d0efd_row7_col2\" class=\"data row7 col2\" >0.0051</td>\n",
       "      <td id=\"T_d0efd_row7_col3\" class=\"data row7 col3\" >0.5000</td>\n",
       "      <td id=\"T_d0efd_row7_col4\" class=\"data row7 col4\" >0.0100</td>\n",
       "      <td id=\"T_d0efd_row7_col5\" class=\"data row7 col5\" >0.0058</td>\n",
       "      <td id=\"T_d0efd_row7_col6\" class=\"data row7 col6\" >0.0326</td>\n",
       "    </tr>\n",
       "    <tr>\n",
       "      <th id=\"T_d0efd_level0_row8\" class=\"row_heading level0 row8\" >8</th>\n",
       "      <td id=\"T_d0efd_row8_col0\" class=\"data row8 col0\" >0.7875</td>\n",
       "      <td id=\"T_d0efd_row8_col1\" class=\"data row8 col1\" >0.6032</td>\n",
       "      <td id=\"T_d0efd_row8_col2\" class=\"data row8 col2\" >0.0000</td>\n",
       "      <td id=\"T_d0efd_row8_col3\" class=\"data row8 col3\" >0.0000</td>\n",
       "      <td id=\"T_d0efd_row8_col4\" class=\"data row8 col4\" >0.0000</td>\n",
       "      <td id=\"T_d0efd_row8_col5\" class=\"data row8 col5\" >0.0000</td>\n",
       "      <td id=\"T_d0efd_row8_col6\" class=\"data row8 col6\" >0.0000</td>\n",
       "    </tr>\n",
       "    <tr>\n",
       "      <th id=\"T_d0efd_level0_row9\" class=\"row_heading level0 row9\" >9</th>\n",
       "      <td id=\"T_d0efd_row9_col0\" class=\"data row9 col0\" >0.7875</td>\n",
       "      <td id=\"T_d0efd_row9_col1\" class=\"data row9 col1\" >0.5700</td>\n",
       "      <td id=\"T_d0efd_row9_col2\" class=\"data row9 col2\" >0.0000</td>\n",
       "      <td id=\"T_d0efd_row9_col3\" class=\"data row9 col3\" >0.0000</td>\n",
       "      <td id=\"T_d0efd_row9_col4\" class=\"data row9 col4\" >0.0000</td>\n",
       "      <td id=\"T_d0efd_row9_col5\" class=\"data row9 col5\" >0.0000</td>\n",
       "      <td id=\"T_d0efd_row9_col6\" class=\"data row9 col6\" >0.0000</td>\n",
       "    </tr>\n",
       "    <tr>\n",
       "      <th id=\"T_d0efd_level0_row10\" class=\"row_heading level0 row10\" >Mean</th>\n",
       "      <td id=\"T_d0efd_row10_col0\" class=\"data row10 col0\" >0.7869</td>\n",
       "      <td id=\"T_d0efd_row10_col1\" class=\"data row10 col1\" >0.5838</td>\n",
       "      <td id=\"T_d0efd_row10_col2\" class=\"data row10 col2\" >0.0030</td>\n",
       "      <td id=\"T_d0efd_row10_col3\" class=\"data row10 col3\" >0.2600</td>\n",
       "      <td id=\"T_d0efd_row10_col4\" class=\"data row10 col4\" >0.0060</td>\n",
       "      <td id=\"T_d0efd_row10_col5\" class=\"data row10 col5\" >0.0024</td>\n",
       "      <td id=\"T_d0efd_row10_col6\" class=\"data row10 col6\" >0.0119</td>\n",
       "    </tr>\n",
       "    <tr>\n",
       "      <th id=\"T_d0efd_level0_row11\" class=\"row_heading level0 row11\" >Std</th>\n",
       "      <td id=\"T_d0efd_row11_col0\" class=\"data row11 col0\" >0.0010</td>\n",
       "      <td id=\"T_d0efd_row11_col1\" class=\"data row11 col1\" >0.0175</td>\n",
       "      <td id=\"T_d0efd_row11_col2\" class=\"data row11 col2\" >0.0027</td>\n",
       "      <td id=\"T_d0efd_row11_col3\" class=\"data row11 col3\" >0.2289</td>\n",
       "      <td id=\"T_d0efd_row11_col4\" class=\"data row11 col4\" >0.0054</td>\n",
       "      <td id=\"T_d0efd_row11_col5\" class=\"data row11 col5\" >0.0040</td>\n",
       "      <td id=\"T_d0efd_row11_col6\" class=\"data row11 col6\" >0.0220</td>\n",
       "    </tr>\n",
       "  </tbody>\n",
       "</table>\n"
      ],
      "text/plain": [
       "<pandas.io.formats.style.Styler at 0x1ba01984f40>"
      ]
     },
     "metadata": {},
     "output_type": "display_data"
    },
    {
     "data": {
      "application/vnd.jupyter.widget-view+json": {
       "model_id": "28f99210a35245edb1c57dbfe661ecc5",
       "version_major": 2,
       "version_minor": 0
      },
      "text/plain": [
       "Processing:   0%|          | 0/4 [00:00<?, ?it/s]"
      ]
     },
     "metadata": {},
     "output_type": "display_data"
    }
   ],
   "source": [
    "lda = create_model('lda')"
   ]
  },
  {
   "cell_type": "markdown",
   "id": "2f3e3894",
   "metadata": {
    "papermill": {
     "duration": 0.015973,
     "end_time": "2022-08-28T02:56:28.854576",
     "exception": false,
     "start_time": "2022-08-28T02:56:28.838603",
     "status": "completed"
    },
    "tags": []
   },
   "source": [
    "---"
   ]
  },
  {
   "cell_type": "markdown",
   "id": "689084a5",
   "metadata": {
    "papermill": {
     "duration": 0.015983,
     "end_time": "2022-08-28T02:56:28.886825",
     "exception": false,
     "start_time": "2022-08-28T02:56:28.870842",
     "status": "completed"
    },
    "tags": []
   },
   "source": [
    "## Fit a Machine Learning Model LR..."
   ]
  },
  {
   "cell_type": "code",
   "execution_count": 17,
   "id": "71f1970e",
   "metadata": {
    "execution": {
     "iopub.execute_input": "2022-08-28T02:56:28.921704Z",
     "iopub.status.busy": "2022-08-28T02:56:28.920662Z",
     "iopub.status.idle": "2022-08-28T02:56:31.736302Z",
     "shell.execute_reply": "2022-08-28T02:56:31.735070Z"
    },
    "papermill": {
     "duration": 2.836259,
     "end_time": "2022-08-28T02:56:31.739372",
     "exception": false,
     "start_time": "2022-08-28T02:56:28.903113",
     "status": "completed"
    },
    "tags": []
   },
   "outputs": [
    {
     "data": {
      "text/html": [],
      "text/plain": [
       "<IPython.core.display.HTML object>"
      ]
     },
     "metadata": {},
     "output_type": "display_data"
    },
    {
     "data": {
      "text/html": [
       "<style type=\"text/css\">\n",
       "#T_41730_row10_col0, #T_41730_row10_col1, #T_41730_row10_col2, #T_41730_row10_col3, #T_41730_row10_col4, #T_41730_row10_col5, #T_41730_row10_col6 {\n",
       "  background: yellow;\n",
       "}\n",
       "</style>\n",
       "<table id=\"T_41730\">\n",
       "  <thead>\n",
       "    <tr>\n",
       "      <th class=\"blank level0\" >&nbsp;</th>\n",
       "      <th id=\"T_41730_level0_col0\" class=\"col_heading level0 col0\" >Accuracy</th>\n",
       "      <th id=\"T_41730_level0_col1\" class=\"col_heading level0 col1\" >AUC</th>\n",
       "      <th id=\"T_41730_level0_col2\" class=\"col_heading level0 col2\" >Recall</th>\n",
       "      <th id=\"T_41730_level0_col3\" class=\"col_heading level0 col3\" >Prec.</th>\n",
       "      <th id=\"T_41730_level0_col4\" class=\"col_heading level0 col4\" >F1</th>\n",
       "      <th id=\"T_41730_level0_col5\" class=\"col_heading level0 col5\" >Kappa</th>\n",
       "      <th id=\"T_41730_level0_col6\" class=\"col_heading level0 col6\" >MCC</th>\n",
       "    </tr>\n",
       "    <tr>\n",
       "      <th class=\"index_name level0\" >Fold</th>\n",
       "      <th class=\"blank col0\" >&nbsp;</th>\n",
       "      <th class=\"blank col1\" >&nbsp;</th>\n",
       "      <th class=\"blank col2\" >&nbsp;</th>\n",
       "      <th class=\"blank col3\" >&nbsp;</th>\n",
       "      <th class=\"blank col4\" >&nbsp;</th>\n",
       "      <th class=\"blank col5\" >&nbsp;</th>\n",
       "      <th class=\"blank col6\" >&nbsp;</th>\n",
       "    </tr>\n",
       "  </thead>\n",
       "  <tbody>\n",
       "    <tr>\n",
       "      <th id=\"T_41730_level0_row0\" class=\"row_heading level0 row0\" >0</th>\n",
       "      <td id=\"T_41730_row0_col0\" class=\"data row0 col0\" >0.7866</td>\n",
       "      <td id=\"T_41730_row0_col1\" class=\"data row0 col1\" >0.5836</td>\n",
       "      <td id=\"T_41730_row0_col2\" class=\"data row0 col2\" >0.0000</td>\n",
       "      <td id=\"T_41730_row0_col3\" class=\"data row0 col3\" >0.0000</td>\n",
       "      <td id=\"T_41730_row0_col4\" class=\"data row0 col4\" >0.0000</td>\n",
       "      <td id=\"T_41730_row0_col5\" class=\"data row0 col5\" >-0.0011</td>\n",
       "      <td id=\"T_41730_row0_col6\" class=\"data row0 col6\" >-0.0121</td>\n",
       "    </tr>\n",
       "    <tr>\n",
       "      <th id=\"T_41730_level0_row1\" class=\"row_heading level0 row1\" >1</th>\n",
       "      <td id=\"T_41730_row1_col0\" class=\"data row1 col0\" >0.7855</td>\n",
       "      <td id=\"T_41730_row1_col1\" class=\"data row1 col1\" >0.5568</td>\n",
       "      <td id=\"T_41730_row1_col2\" class=\"data row1 col2\" >0.0000</td>\n",
       "      <td id=\"T_41730_row1_col3\" class=\"data row1 col3\" >0.0000</td>\n",
       "      <td id=\"T_41730_row1_col4\" class=\"data row1 col4\" >0.0000</td>\n",
       "      <td id=\"T_41730_row1_col5\" class=\"data row1 col5\" >-0.0032</td>\n",
       "      <td id=\"T_41730_row1_col6\" class=\"data row1 col6\" >-0.0209</td>\n",
       "    </tr>\n",
       "    <tr>\n",
       "      <th id=\"T_41730_level0_row2\" class=\"row_heading level0 row2\" >2</th>\n",
       "      <td id=\"T_41730_row2_col0\" class=\"data row2 col0\" >0.7866</td>\n",
       "      <td id=\"T_41730_row2_col1\" class=\"data row2 col1\" >0.5919</td>\n",
       "      <td id=\"T_41730_row2_col2\" class=\"data row2 col2\" >0.0000</td>\n",
       "      <td id=\"T_41730_row2_col3\" class=\"data row2 col3\" >0.0000</td>\n",
       "      <td id=\"T_41730_row2_col4\" class=\"data row2 col4\" >0.0000</td>\n",
       "      <td id=\"T_41730_row2_col5\" class=\"data row2 col5\" >-0.0011</td>\n",
       "      <td id=\"T_41730_row2_col6\" class=\"data row2 col6\" >-0.0121</td>\n",
       "    </tr>\n",
       "    <tr>\n",
       "      <th id=\"T_41730_level0_row3\" class=\"row_heading level0 row3\" >3</th>\n",
       "      <td id=\"T_41730_row3_col0\" class=\"data row3 col0\" >0.7860</td>\n",
       "      <td id=\"T_41730_row3_col1\" class=\"data row3 col1\" >0.5558</td>\n",
       "      <td id=\"T_41730_row3_col2\" class=\"data row3 col2\" >0.0025</td>\n",
       "      <td id=\"T_41730_row3_col3\" class=\"data row3 col3\" >0.2500</td>\n",
       "      <td id=\"T_41730_row3_col4\" class=\"data row3 col4\" >0.0050</td>\n",
       "      <td id=\"T_41730_row3_col5\" class=\"data row3 col5\" >0.0007</td>\n",
       "      <td id=\"T_41730_row3_col6\" class=\"data row3 col6\" >0.0042</td>\n",
       "    </tr>\n",
       "    <tr>\n",
       "      <th id=\"T_41730_level0_row4\" class=\"row_heading level0 row4\" >4</th>\n",
       "      <td id=\"T_41730_row4_col0\" class=\"data row4 col0\" >0.7887</td>\n",
       "      <td id=\"T_41730_row4_col1\" class=\"data row4 col1\" >0.5877</td>\n",
       "      <td id=\"T_41730_row4_col2\" class=\"data row4 col2\" >0.0051</td>\n",
       "      <td id=\"T_41730_row4_col3\" class=\"data row4 col3\" >1.0000</td>\n",
       "      <td id=\"T_41730_row4_col4\" class=\"data row4 col4\" >0.0101</td>\n",
       "      <td id=\"T_41730_row4_col5\" class=\"data row4 col5\" >0.0080</td>\n",
       "      <td id=\"T_41730_row4_col6\" class=\"data row4 col6\" >0.0632</td>\n",
       "    </tr>\n",
       "    <tr>\n",
       "      <th id=\"T_41730_level0_row5\" class=\"row_heading level0 row5\" >5</th>\n",
       "      <td id=\"T_41730_row5_col0\" class=\"data row5 col0\" >0.7871</td>\n",
       "      <td id=\"T_41730_row5_col1\" class=\"data row5 col1\" >0.5849</td>\n",
       "      <td id=\"T_41730_row5_col2\" class=\"data row5 col2\" >0.0025</td>\n",
       "      <td id=\"T_41730_row5_col3\" class=\"data row5 col3\" >0.3333</td>\n",
       "      <td id=\"T_41730_row5_col4\" class=\"data row5 col4\" >0.0050</td>\n",
       "      <td id=\"T_41730_row5_col5\" class=\"data row5 col5\" >0.0018</td>\n",
       "      <td id=\"T_41730_row5_col6\" class=\"data row5 col6\" >0.0119</td>\n",
       "    </tr>\n",
       "    <tr>\n",
       "      <th id=\"T_41730_level0_row6\" class=\"row_heading level0 row6\" >6</th>\n",
       "      <td id=\"T_41730_row6_col0\" class=\"data row6 col0\" >0.7866</td>\n",
       "      <td id=\"T_41730_row6_col1\" class=\"data row6 col1\" >0.5847</td>\n",
       "      <td id=\"T_41730_row6_col2\" class=\"data row6 col2\" >0.0025</td>\n",
       "      <td id=\"T_41730_row6_col3\" class=\"data row6 col3\" >0.2500</td>\n",
       "      <td id=\"T_41730_row6_col4\" class=\"data row6 col4\" >0.0050</td>\n",
       "      <td id=\"T_41730_row6_col5\" class=\"data row6 col5\" >0.0008</td>\n",
       "      <td id=\"T_41730_row6_col6\" class=\"data row6 col6\" >0.0043</td>\n",
       "    </tr>\n",
       "    <tr>\n",
       "      <th id=\"T_41730_level0_row7\" class=\"row_heading level0 row7\" >7</th>\n",
       "      <td id=\"T_41730_row7_col0\" class=\"data row7 col0\" >0.7871</td>\n",
       "      <td id=\"T_41730_row7_col1\" class=\"data row7 col1\" >0.6146</td>\n",
       "      <td id=\"T_41730_row7_col2\" class=\"data row7 col2\" >0.0025</td>\n",
       "      <td id=\"T_41730_row7_col3\" class=\"data row7 col3\" >0.3333</td>\n",
       "      <td id=\"T_41730_row7_col4\" class=\"data row7 col4\" >0.0050</td>\n",
       "      <td id=\"T_41730_row7_col5\" class=\"data row7 col5\" >0.0018</td>\n",
       "      <td id=\"T_41730_row7_col6\" class=\"data row7 col6\" >0.0119</td>\n",
       "    </tr>\n",
       "    <tr>\n",
       "      <th id=\"T_41730_level0_row8\" class=\"row_heading level0 row8\" >8</th>\n",
       "      <td id=\"T_41730_row8_col0\" class=\"data row8 col0\" >0.7875</td>\n",
       "      <td id=\"T_41730_row8_col1\" class=\"data row8 col1\" >0.6033</td>\n",
       "      <td id=\"T_41730_row8_col2\" class=\"data row8 col2\" >0.0000</td>\n",
       "      <td id=\"T_41730_row8_col3\" class=\"data row8 col3\" >0.0000</td>\n",
       "      <td id=\"T_41730_row8_col4\" class=\"data row8 col4\" >0.0000</td>\n",
       "      <td id=\"T_41730_row8_col5\" class=\"data row8 col5\" >0.0000</td>\n",
       "      <td id=\"T_41730_row8_col6\" class=\"data row8 col6\" >0.0000</td>\n",
       "    </tr>\n",
       "    <tr>\n",
       "      <th id=\"T_41730_level0_row9\" class=\"row_heading level0 row9\" >9</th>\n",
       "      <td id=\"T_41730_row9_col0\" class=\"data row9 col0\" >0.7875</td>\n",
       "      <td id=\"T_41730_row9_col1\" class=\"data row9 col1\" >0.5698</td>\n",
       "      <td id=\"T_41730_row9_col2\" class=\"data row9 col2\" >0.0000</td>\n",
       "      <td id=\"T_41730_row9_col3\" class=\"data row9 col3\" >0.0000</td>\n",
       "      <td id=\"T_41730_row9_col4\" class=\"data row9 col4\" >0.0000</td>\n",
       "      <td id=\"T_41730_row9_col5\" class=\"data row9 col5\" >0.0000</td>\n",
       "      <td id=\"T_41730_row9_col6\" class=\"data row9 col6\" >0.0000</td>\n",
       "    </tr>\n",
       "    <tr>\n",
       "      <th id=\"T_41730_level0_row10\" class=\"row_heading level0 row10\" >Mean</th>\n",
       "      <td id=\"T_41730_row10_col0\" class=\"data row10 col0\" >0.7869</td>\n",
       "      <td id=\"T_41730_row10_col1\" class=\"data row10 col1\" >0.5833</td>\n",
       "      <td id=\"T_41730_row10_col2\" class=\"data row10 col2\" >0.0015</td>\n",
       "      <td id=\"T_41730_row10_col3\" class=\"data row10 col3\" >0.2167</td>\n",
       "      <td id=\"T_41730_row10_col4\" class=\"data row10 col4\" >0.0030</td>\n",
       "      <td id=\"T_41730_row10_col5\" class=\"data row10 col5\" >0.0008</td>\n",
       "      <td id=\"T_41730_row10_col6\" class=\"data row10 col6\" >0.0050</td>\n",
       "    </tr>\n",
       "    <tr>\n",
       "      <th id=\"T_41730_level0_row11\" class=\"row_heading level0 row11\" >Std</th>\n",
       "      <td id=\"T_41730_row11_col0\" class=\"data row11 col0\" >0.0009</td>\n",
       "      <td id=\"T_41730_row11_col1\" class=\"data row11 col1\" >0.0177</td>\n",
       "      <td id=\"T_41730_row11_col2\" class=\"data row11 col2\" >0.0017</td>\n",
       "      <td id=\"T_41730_row11_col3\" class=\"data row11 col3\" >0.2963</td>\n",
       "      <td id=\"T_41730_row11_col4\" class=\"data row11 col4\" >0.0033</td>\n",
       "      <td id=\"T_41730_row11_col5\" class=\"data row11 col5\" >0.0028</td>\n",
       "      <td id=\"T_41730_row11_col6\" class=\"data row11 col6\" >0.0219</td>\n",
       "    </tr>\n",
       "  </tbody>\n",
       "</table>\n"
      ],
      "text/plain": [
       "<pandas.io.formats.style.Styler at 0x1ba01984220>"
      ]
     },
     "metadata": {},
     "output_type": "display_data"
    },
    {
     "data": {
      "application/vnd.jupyter.widget-view+json": {
       "model_id": "54760d6ac05c4d758927e551d68fd580",
       "version_major": 2,
       "version_minor": 0
      },
      "text/plain": [
       "Processing:   0%|          | 0/4 [00:00<?, ?it/s]"
      ]
     },
     "metadata": {},
     "output_type": "display_data"
    }
   ],
   "source": [
    "lr = create_model('lr')"
   ]
  },
  {
   "cell_type": "code",
   "execution_count": 18,
   "id": "916f9a32",
   "metadata": {
    "execution": {
     "iopub.execute_input": "2022-08-28T02:56:31.775488Z",
     "iopub.status.busy": "2022-08-28T02:56:31.775037Z",
     "iopub.status.idle": "2022-08-28T02:56:31.781106Z",
     "shell.execute_reply": "2022-08-28T02:56:31.779941Z"
    },
    "papermill": {
     "duration": 0.027018,
     "end_time": "2022-08-28T02:56:31.783647",
     "exception": false,
     "start_time": "2022-08-28T02:56:31.756629",
     "status": "completed"
    },
    "tags": []
   },
   "outputs": [
    {
     "name": "stdout",
     "output_type": "stream",
     "text": [
      "LinearDiscriminantAnalysis(covariance_estimator=None, n_components=None,\n",
      "                           priors=None, shrinkage=None, solver='svd',\n",
      "                           store_covariance=False, tol=0.0001)\n"
     ]
    }
   ],
   "source": [
    "# trained model object is stored in the variable 'dt'. \n",
    "print(lda)"
   ]
  },
  {
   "cell_type": "code",
   "execution_count": 19,
   "id": "1130255d",
   "metadata": {
    "execution": {
     "iopub.execute_input": "2022-08-28T02:56:31.821012Z",
     "iopub.status.busy": "2022-08-28T02:56:31.820335Z",
     "iopub.status.idle": "2022-08-28T02:56:31.826401Z",
     "shell.execute_reply": "2022-08-28T02:56:31.824892Z"
    },
    "papermill": {
     "duration": 0.027531,
     "end_time": "2022-08-28T02:56:31.828533",
     "exception": false,
     "start_time": "2022-08-28T02:56:31.801002",
     "status": "completed"
    },
    "tags": []
   },
   "outputs": [
    {
     "name": "stdout",
     "output_type": "stream",
     "text": [
      "LogisticRegression(C=1.0, class_weight=None, dual=False, fit_intercept=True,\n",
      "                   intercept_scaling=1, l1_ratio=None, max_iter=1000,\n",
      "                   multi_class='auto', n_jobs=None, penalty='l2',\n",
      "                   random_state=123, solver='lbfgs', tol=0.0001, verbose=0,\n",
      "                   warm_start=False)\n"
     ]
    }
   ],
   "source": [
    "# trained model object is stored in the variable 'dt'. \n",
    "print(lr)"
   ]
  },
  {
   "cell_type": "markdown",
   "id": "5b48dafc",
   "metadata": {
    "papermill": {
     "duration": 0.017742,
     "end_time": "2022-08-28T02:56:31.863816",
     "exception": false,
     "start_time": "2022-08-28T02:56:31.846074",
     "status": "completed"
    },
    "tags": []
   },
   "source": [
    "---"
   ]
  },
  {
   "cell_type": "markdown",
   "id": "08e0b60d",
   "metadata": {
    "papermill": {
     "duration": 0.016852,
     "end_time": "2022-08-28T02:56:31.898102",
     "exception": false,
     "start_time": "2022-08-28T02:56:31.881250",
     "status": "completed"
    },
    "tags": []
   },
   "source": [
    "## Optimize the Models, LDA & LR"
   ]
  },
  {
   "cell_type": "code",
   "execution_count": 20,
   "id": "c22048eb",
   "metadata": {
    "execution": {
     "iopub.execute_input": "2022-08-28T02:56:31.934357Z",
     "iopub.status.busy": "2022-08-28T02:56:31.933931Z",
     "iopub.status.idle": "2022-08-28T02:56:53.620504Z",
     "shell.execute_reply": "2022-08-28T02:56:53.619525Z"
    },
    "papermill": {
     "duration": 21.708092,
     "end_time": "2022-08-28T02:56:53.623390",
     "exception": false,
     "start_time": "2022-08-28T02:56:31.915298",
     "status": "completed"
    },
    "tags": []
   },
   "outputs": [
    {
     "data": {
      "text/html": [],
      "text/plain": [
       "<IPython.core.display.HTML object>"
      ]
     },
     "metadata": {},
     "output_type": "display_data"
    },
    {
     "data": {
      "text/html": [
       "<style type=\"text/css\">\n",
       "#T_ff0b5_row10_col0, #T_ff0b5_row10_col1, #T_ff0b5_row10_col2, #T_ff0b5_row10_col3, #T_ff0b5_row10_col4, #T_ff0b5_row10_col5, #T_ff0b5_row10_col6 {\n",
       "  background: yellow;\n",
       "}\n",
       "</style>\n",
       "<table id=\"T_ff0b5\">\n",
       "  <thead>\n",
       "    <tr>\n",
       "      <th class=\"blank level0\" >&nbsp;</th>\n",
       "      <th id=\"T_ff0b5_level0_col0\" class=\"col_heading level0 col0\" >Accuracy</th>\n",
       "      <th id=\"T_ff0b5_level0_col1\" class=\"col_heading level0 col1\" >AUC</th>\n",
       "      <th id=\"T_ff0b5_level0_col2\" class=\"col_heading level0 col2\" >Recall</th>\n",
       "      <th id=\"T_ff0b5_level0_col3\" class=\"col_heading level0 col3\" >Prec.</th>\n",
       "      <th id=\"T_ff0b5_level0_col4\" class=\"col_heading level0 col4\" >F1</th>\n",
       "      <th id=\"T_ff0b5_level0_col5\" class=\"col_heading level0 col5\" >Kappa</th>\n",
       "      <th id=\"T_ff0b5_level0_col6\" class=\"col_heading level0 col6\" >MCC</th>\n",
       "    </tr>\n",
       "    <tr>\n",
       "      <th class=\"index_name level0\" >Fold</th>\n",
       "      <th class=\"blank col0\" >&nbsp;</th>\n",
       "      <th class=\"blank col1\" >&nbsp;</th>\n",
       "      <th class=\"blank col2\" >&nbsp;</th>\n",
       "      <th class=\"blank col3\" >&nbsp;</th>\n",
       "      <th class=\"blank col4\" >&nbsp;</th>\n",
       "      <th class=\"blank col5\" >&nbsp;</th>\n",
       "      <th class=\"blank col6\" >&nbsp;</th>\n",
       "    </tr>\n",
       "  </thead>\n",
       "  <tbody>\n",
       "    <tr>\n",
       "      <th id=\"T_ff0b5_level0_row0\" class=\"row_heading level0 row0\" >0</th>\n",
       "      <td id=\"T_ff0b5_row0_col0\" class=\"data row0 col0\" >0.7876</td>\n",
       "      <td id=\"T_ff0b5_row0_col1\" class=\"data row0 col1\" >0.5837</td>\n",
       "      <td id=\"T_ff0b5_row0_col2\" class=\"data row0 col2\" >0.0076</td>\n",
       "      <td id=\"T_ff0b5_row0_col3\" class=\"data row0 col3\" >0.6000</td>\n",
       "      <td id=\"T_ff0b5_row0_col4\" class=\"data row0 col4\" >0.0150</td>\n",
       "      <td id=\"T_ff0b5_row0_col5\" class=\"data row0 col5\" >0.0097</td>\n",
       "      <td id=\"T_ff0b5_row0_col6\" class=\"data row0 col6\" >0.0491</td>\n",
       "    </tr>\n",
       "    <tr>\n",
       "      <th id=\"T_ff0b5_level0_row1\" class=\"row_heading level0 row1\" >1</th>\n",
       "      <td id=\"T_ff0b5_row1_col0\" class=\"data row1 col0\" >0.7849</td>\n",
       "      <td id=\"T_ff0b5_row1_col1\" class=\"data row1 col1\" >0.5584</td>\n",
       "      <td id=\"T_ff0b5_row1_col2\" class=\"data row1 col2\" >0.0000</td>\n",
       "      <td id=\"T_ff0b5_row1_col3\" class=\"data row1 col3\" >0.0000</td>\n",
       "      <td id=\"T_ff0b5_row1_col4\" class=\"data row1 col4\" >0.0000</td>\n",
       "      <td id=\"T_ff0b5_row1_col5\" class=\"data row1 col5\" >-0.0043</td>\n",
       "      <td id=\"T_ff0b5_row1_col6\" class=\"data row1 col6\" >-0.0241</td>\n",
       "    </tr>\n",
       "    <tr>\n",
       "      <th id=\"T_ff0b5_level0_row2\" class=\"row_heading level0 row2\" >2</th>\n",
       "      <td id=\"T_ff0b5_row2_col0\" class=\"data row2 col0\" >0.7860</td>\n",
       "      <td id=\"T_ff0b5_row2_col1\" class=\"data row2 col1\" >0.5930</td>\n",
       "      <td id=\"T_ff0b5_row2_col2\" class=\"data row2 col2\" >0.0000</td>\n",
       "      <td id=\"T_ff0b5_row2_col3\" class=\"data row2 col3\" >0.0000</td>\n",
       "      <td id=\"T_ff0b5_row2_col4\" class=\"data row2 col4\" >0.0000</td>\n",
       "      <td id=\"T_ff0b5_row2_col5\" class=\"data row2 col5\" >-0.0021</td>\n",
       "      <td id=\"T_ff0b5_row2_col6\" class=\"data row2 col6\" >-0.0171</td>\n",
       "    </tr>\n",
       "    <tr>\n",
       "      <th id=\"T_ff0b5_level0_row3\" class=\"row_heading level0 row3\" >3</th>\n",
       "      <td id=\"T_ff0b5_row3_col0\" class=\"data row3 col0\" >0.7860</td>\n",
       "      <td id=\"T_ff0b5_row3_col1\" class=\"data row3 col1\" >0.5568</td>\n",
       "      <td id=\"T_ff0b5_row3_col2\" class=\"data row3 col2\" >0.0051</td>\n",
       "      <td id=\"T_ff0b5_row3_col3\" class=\"data row3 col3\" >0.3333</td>\n",
       "      <td id=\"T_ff0b5_row3_col4\" class=\"data row3 col4\" >0.0100</td>\n",
       "      <td id=\"T_ff0b5_row3_col5\" class=\"data row3 col5\" >0.0036</td>\n",
       "      <td id=\"T_ff0b5_row3_col6\" class=\"data row3 col6\" >0.0167</td>\n",
       "    </tr>\n",
       "    <tr>\n",
       "      <th id=\"T_ff0b5_level0_row4\" class=\"row_heading level0 row4\" >4</th>\n",
       "      <td id=\"T_ff0b5_row4_col0\" class=\"data row4 col0\" >0.7876</td>\n",
       "      <td id=\"T_ff0b5_row4_col1\" class=\"data row4 col1\" >0.5881</td>\n",
       "      <td id=\"T_ff0b5_row4_col2\" class=\"data row4 col2\" >0.0076</td>\n",
       "      <td id=\"T_ff0b5_row4_col3\" class=\"data row4 col3\" >0.5000</td>\n",
       "      <td id=\"T_ff0b5_row4_col4\" class=\"data row4 col4\" >0.0150</td>\n",
       "      <td id=\"T_ff0b5_row4_col5\" class=\"data row4 col5\" >0.0087</td>\n",
       "      <td id=\"T_ff0b5_row4_col6\" class=\"data row4 col6\" >0.0400</td>\n",
       "    </tr>\n",
       "    <tr>\n",
       "      <th id=\"T_ff0b5_level0_row5\" class=\"row_heading level0 row5\" >5</th>\n",
       "      <td id=\"T_ff0b5_row5_col0\" class=\"data row5 col0\" >0.7876</td>\n",
       "      <td id=\"T_ff0b5_row5_col1\" class=\"data row5 col1\" >0.5862</td>\n",
       "      <td id=\"T_ff0b5_row5_col2\" class=\"data row5 col2\" >0.0051</td>\n",
       "      <td id=\"T_ff0b5_row5_col3\" class=\"data row5 col3\" >0.5000</td>\n",
       "      <td id=\"T_ff0b5_row5_col4\" class=\"data row5 col4\" >0.0100</td>\n",
       "      <td id=\"T_ff0b5_row5_col5\" class=\"data row5 col5\" >0.0058</td>\n",
       "      <td id=\"T_ff0b5_row5_col6\" class=\"data row5 col6\" >0.0326</td>\n",
       "    </tr>\n",
       "    <tr>\n",
       "      <th id=\"T_ff0b5_level0_row6\" class=\"row_heading level0 row6\" >6</th>\n",
       "      <td id=\"T_ff0b5_row6_col0\" class=\"data row6 col0\" >0.7876</td>\n",
       "      <td id=\"T_ff0b5_row6_col1\" class=\"data row6 col1\" >0.5849</td>\n",
       "      <td id=\"T_ff0b5_row6_col2\" class=\"data row6 col2\" >0.0076</td>\n",
       "      <td id=\"T_ff0b5_row6_col3\" class=\"data row6 col3\" >0.5000</td>\n",
       "      <td id=\"T_ff0b5_row6_col4\" class=\"data row6 col4\" >0.0150</td>\n",
       "      <td id=\"T_ff0b5_row6_col5\" class=\"data row6 col5\" >0.0087</td>\n",
       "      <td id=\"T_ff0b5_row6_col6\" class=\"data row6 col6\" >0.0400</td>\n",
       "    </tr>\n",
       "    <tr>\n",
       "      <th id=\"T_ff0b5_level0_row7\" class=\"row_heading level0 row7\" >7</th>\n",
       "      <td id=\"T_ff0b5_row7_col0\" class=\"data row7 col0\" >0.7876</td>\n",
       "      <td id=\"T_ff0b5_row7_col1\" class=\"data row7 col1\" >0.6150</td>\n",
       "      <td id=\"T_ff0b5_row7_col2\" class=\"data row7 col2\" >0.0051</td>\n",
       "      <td id=\"T_ff0b5_row7_col3\" class=\"data row7 col3\" >0.5000</td>\n",
       "      <td id=\"T_ff0b5_row7_col4\" class=\"data row7 col4\" >0.0100</td>\n",
       "      <td id=\"T_ff0b5_row7_col5\" class=\"data row7 col5\" >0.0058</td>\n",
       "      <td id=\"T_ff0b5_row7_col6\" class=\"data row7 col6\" >0.0326</td>\n",
       "    </tr>\n",
       "    <tr>\n",
       "      <th id=\"T_ff0b5_level0_row8\" class=\"row_heading level0 row8\" >8</th>\n",
       "      <td id=\"T_ff0b5_row8_col0\" class=\"data row8 col0\" >0.7870</td>\n",
       "      <td id=\"T_ff0b5_row8_col1\" class=\"data row8 col1\" >0.6032</td>\n",
       "      <td id=\"T_ff0b5_row8_col2\" class=\"data row8 col2\" >0.0000</td>\n",
       "      <td id=\"T_ff0b5_row8_col3\" class=\"data row8 col3\" >0.0000</td>\n",
       "      <td id=\"T_ff0b5_row8_col4\" class=\"data row8 col4\" >0.0000</td>\n",
       "      <td id=\"T_ff0b5_row8_col5\" class=\"data row8 col5\" >-0.0011</td>\n",
       "      <td id=\"T_ff0b5_row8_col6\" class=\"data row8 col6\" >-0.0121</td>\n",
       "    </tr>\n",
       "    <tr>\n",
       "      <th id=\"T_ff0b5_level0_row9\" class=\"row_heading level0 row9\" >9</th>\n",
       "      <td id=\"T_ff0b5_row9_col0\" class=\"data row9 col0\" >0.7875</td>\n",
       "      <td id=\"T_ff0b5_row9_col1\" class=\"data row9 col1\" >0.5708</td>\n",
       "      <td id=\"T_ff0b5_row9_col2\" class=\"data row9 col2\" >0.0000</td>\n",
       "      <td id=\"T_ff0b5_row9_col3\" class=\"data row9 col3\" >0.0000</td>\n",
       "      <td id=\"T_ff0b5_row9_col4\" class=\"data row9 col4\" >0.0000</td>\n",
       "      <td id=\"T_ff0b5_row9_col5\" class=\"data row9 col5\" >0.0000</td>\n",
       "      <td id=\"T_ff0b5_row9_col6\" class=\"data row9 col6\" >0.0000</td>\n",
       "    </tr>\n",
       "    <tr>\n",
       "      <th id=\"T_ff0b5_level0_row10\" class=\"row_heading level0 row10\" >Mean</th>\n",
       "      <td id=\"T_ff0b5_row10_col0\" class=\"data row10 col0\" >0.7870</td>\n",
       "      <td id=\"T_ff0b5_row10_col1\" class=\"data row10 col1\" >0.5840</td>\n",
       "      <td id=\"T_ff0b5_row10_col2\" class=\"data row10 col2\" >0.0038</td>\n",
       "      <td id=\"T_ff0b5_row10_col3\" class=\"data row10 col3\" >0.2933</td>\n",
       "      <td id=\"T_ff0b5_row10_col4\" class=\"data row10 col4\" >0.0075</td>\n",
       "      <td id=\"T_ff0b5_row10_col5\" class=\"data row10 col5\" >0.0035</td>\n",
       "      <td id=\"T_ff0b5_row10_col6\" class=\"data row10 col6\" >0.0158</td>\n",
       "    </tr>\n",
       "    <tr>\n",
       "      <th id=\"T_ff0b5_level0_row11\" class=\"row_heading level0 row11\" >Std</th>\n",
       "      <td id=\"T_ff0b5_row11_col0\" class=\"data row11 col0\" >0.0009</td>\n",
       "      <td id=\"T_ff0b5_row11_col1\" class=\"data row11 col1\" >0.0173</td>\n",
       "      <td id=\"T_ff0b5_row11_col2\" class=\"data row11 col2\" >0.0032</td>\n",
       "      <td id=\"T_ff0b5_row11_col3\" class=\"data row11 col3\" >0.2471</td>\n",
       "      <td id=\"T_ff0b5_row11_col4\" class=\"data row11 col4\" >0.0064</td>\n",
       "      <td id=\"T_ff0b5_row11_col5\" class=\"data row11 col5\" >0.0048</td>\n",
       "      <td id=\"T_ff0b5_row11_col6\" class=\"data row11 col6\" >0.0256</td>\n",
       "    </tr>\n",
       "  </tbody>\n",
       "</table>\n"
      ],
      "text/plain": [
       "<pandas.io.formats.style.Styler at 0x1ba01781e20>"
      ]
     },
     "metadata": {},
     "output_type": "display_data"
    },
    {
     "data": {
      "application/vnd.jupyter.widget-view+json": {
       "model_id": "649d90c36b9345fd9919d4a3eb3791a9",
       "version_major": 2,
       "version_minor": 0
      },
      "text/plain": [
       "Processing:   0%|          | 0/7 [00:00<?, ?it/s]"
      ]
     },
     "metadata": {},
     "output_type": "display_data"
    },
    {
     "name": "stdout",
     "output_type": "stream",
     "text": [
      "Fitting 10 folds for each of 10 candidates, totalling 100 fits\n"
     ]
    }
   ],
   "source": [
    "tuned_lda = tune_model(lda)"
   ]
  },
  {
   "cell_type": "code",
   "execution_count": 21,
   "id": "4aa11835",
   "metadata": {
    "execution": {
     "iopub.execute_input": "2022-08-28T02:56:53.661435Z",
     "iopub.status.busy": "2022-08-28T02:56:53.660653Z",
     "iopub.status.idle": "2022-08-28T02:57:14.028101Z",
     "shell.execute_reply": "2022-08-28T02:57:14.026867Z"
    },
    "papermill": {
     "duration": 20.38954,
     "end_time": "2022-08-28T02:57:14.031030",
     "exception": false,
     "start_time": "2022-08-28T02:56:53.641490",
     "status": "completed"
    },
    "tags": []
   },
   "outputs": [
    {
     "data": {
      "text/html": [],
      "text/plain": [
       "<IPython.core.display.HTML object>"
      ]
     },
     "metadata": {},
     "output_type": "display_data"
    },
    {
     "data": {
      "text/html": [
       "<style type=\"text/css\">\n",
       "#T_fae6a_row10_col0, #T_fae6a_row10_col1, #T_fae6a_row10_col2, #T_fae6a_row10_col3, #T_fae6a_row10_col4, #T_fae6a_row10_col5, #T_fae6a_row10_col6 {\n",
       "  background: yellow;\n",
       "}\n",
       "</style>\n",
       "<table id=\"T_fae6a\">\n",
       "  <thead>\n",
       "    <tr>\n",
       "      <th class=\"blank level0\" >&nbsp;</th>\n",
       "      <th id=\"T_fae6a_level0_col0\" class=\"col_heading level0 col0\" >Accuracy</th>\n",
       "      <th id=\"T_fae6a_level0_col1\" class=\"col_heading level0 col1\" >AUC</th>\n",
       "      <th id=\"T_fae6a_level0_col2\" class=\"col_heading level0 col2\" >Recall</th>\n",
       "      <th id=\"T_fae6a_level0_col3\" class=\"col_heading level0 col3\" >Prec.</th>\n",
       "      <th id=\"T_fae6a_level0_col4\" class=\"col_heading level0 col4\" >F1</th>\n",
       "      <th id=\"T_fae6a_level0_col5\" class=\"col_heading level0 col5\" >Kappa</th>\n",
       "      <th id=\"T_fae6a_level0_col6\" class=\"col_heading level0 col6\" >MCC</th>\n",
       "    </tr>\n",
       "    <tr>\n",
       "      <th class=\"index_name level0\" >Fold</th>\n",
       "      <th class=\"blank col0\" >&nbsp;</th>\n",
       "      <th class=\"blank col1\" >&nbsp;</th>\n",
       "      <th class=\"blank col2\" >&nbsp;</th>\n",
       "      <th class=\"blank col3\" >&nbsp;</th>\n",
       "      <th class=\"blank col4\" >&nbsp;</th>\n",
       "      <th class=\"blank col5\" >&nbsp;</th>\n",
       "      <th class=\"blank col6\" >&nbsp;</th>\n",
       "    </tr>\n",
       "  </thead>\n",
       "  <tbody>\n",
       "    <tr>\n",
       "      <th id=\"T_fae6a_level0_row0\" class=\"row_heading level0 row0\" >0</th>\n",
       "      <td id=\"T_fae6a_row0_col0\" class=\"data row0 col0\" >0.7866</td>\n",
       "      <td id=\"T_fae6a_row0_col1\" class=\"data row0 col1\" >0.5836</td>\n",
       "      <td id=\"T_fae6a_row0_col2\" class=\"data row0 col2\" >0.0000</td>\n",
       "      <td id=\"T_fae6a_row0_col3\" class=\"data row0 col3\" >0.0000</td>\n",
       "      <td id=\"T_fae6a_row0_col4\" class=\"data row0 col4\" >0.0000</td>\n",
       "      <td id=\"T_fae6a_row0_col5\" class=\"data row0 col5\" >-0.0011</td>\n",
       "      <td id=\"T_fae6a_row0_col6\" class=\"data row0 col6\" >-0.0121</td>\n",
       "    </tr>\n",
       "    <tr>\n",
       "      <th id=\"T_fae6a_level0_row1\" class=\"row_heading level0 row1\" >1</th>\n",
       "      <td id=\"T_fae6a_row1_col0\" class=\"data row1 col0\" >0.7855</td>\n",
       "      <td id=\"T_fae6a_row1_col1\" class=\"data row1 col1\" >0.5568</td>\n",
       "      <td id=\"T_fae6a_row1_col2\" class=\"data row1 col2\" >0.0000</td>\n",
       "      <td id=\"T_fae6a_row1_col3\" class=\"data row1 col3\" >0.0000</td>\n",
       "      <td id=\"T_fae6a_row1_col4\" class=\"data row1 col4\" >0.0000</td>\n",
       "      <td id=\"T_fae6a_row1_col5\" class=\"data row1 col5\" >-0.0032</td>\n",
       "      <td id=\"T_fae6a_row1_col6\" class=\"data row1 col6\" >-0.0209</td>\n",
       "    </tr>\n",
       "    <tr>\n",
       "      <th id=\"T_fae6a_level0_row2\" class=\"row_heading level0 row2\" >2</th>\n",
       "      <td id=\"T_fae6a_row2_col0\" class=\"data row2 col0\" >0.7866</td>\n",
       "      <td id=\"T_fae6a_row2_col1\" class=\"data row2 col1\" >0.5919</td>\n",
       "      <td id=\"T_fae6a_row2_col2\" class=\"data row2 col2\" >0.0000</td>\n",
       "      <td id=\"T_fae6a_row2_col3\" class=\"data row2 col3\" >0.0000</td>\n",
       "      <td id=\"T_fae6a_row2_col4\" class=\"data row2 col4\" >0.0000</td>\n",
       "      <td id=\"T_fae6a_row2_col5\" class=\"data row2 col5\" >-0.0011</td>\n",
       "      <td id=\"T_fae6a_row2_col6\" class=\"data row2 col6\" >-0.0121</td>\n",
       "    </tr>\n",
       "    <tr>\n",
       "      <th id=\"T_fae6a_level0_row3\" class=\"row_heading level0 row3\" >3</th>\n",
       "      <td id=\"T_fae6a_row3_col0\" class=\"data row3 col0\" >0.7860</td>\n",
       "      <td id=\"T_fae6a_row3_col1\" class=\"data row3 col1\" >0.5559</td>\n",
       "      <td id=\"T_fae6a_row3_col2\" class=\"data row3 col2\" >0.0025</td>\n",
       "      <td id=\"T_fae6a_row3_col3\" class=\"data row3 col3\" >0.2500</td>\n",
       "      <td id=\"T_fae6a_row3_col4\" class=\"data row3 col4\" >0.0050</td>\n",
       "      <td id=\"T_fae6a_row3_col5\" class=\"data row3 col5\" >0.0007</td>\n",
       "      <td id=\"T_fae6a_row3_col6\" class=\"data row3 col6\" >0.0042</td>\n",
       "    </tr>\n",
       "    <tr>\n",
       "      <th id=\"T_fae6a_level0_row4\" class=\"row_heading level0 row4\" >4</th>\n",
       "      <td id=\"T_fae6a_row4_col0\" class=\"data row4 col0\" >0.7887</td>\n",
       "      <td id=\"T_fae6a_row4_col1\" class=\"data row4 col1\" >0.5877</td>\n",
       "      <td id=\"T_fae6a_row4_col2\" class=\"data row4 col2\" >0.0051</td>\n",
       "      <td id=\"T_fae6a_row4_col3\" class=\"data row4 col3\" >1.0000</td>\n",
       "      <td id=\"T_fae6a_row4_col4\" class=\"data row4 col4\" >0.0101</td>\n",
       "      <td id=\"T_fae6a_row4_col5\" class=\"data row4 col5\" >0.0080</td>\n",
       "      <td id=\"T_fae6a_row4_col6\" class=\"data row4 col6\" >0.0632</td>\n",
       "    </tr>\n",
       "    <tr>\n",
       "      <th id=\"T_fae6a_level0_row5\" class=\"row_heading level0 row5\" >5</th>\n",
       "      <td id=\"T_fae6a_row5_col0\" class=\"data row5 col0\" >0.7871</td>\n",
       "      <td id=\"T_fae6a_row5_col1\" class=\"data row5 col1\" >0.5849</td>\n",
       "      <td id=\"T_fae6a_row5_col2\" class=\"data row5 col2\" >0.0025</td>\n",
       "      <td id=\"T_fae6a_row5_col3\" class=\"data row5 col3\" >0.3333</td>\n",
       "      <td id=\"T_fae6a_row5_col4\" class=\"data row5 col4\" >0.0050</td>\n",
       "      <td id=\"T_fae6a_row5_col5\" class=\"data row5 col5\" >0.0018</td>\n",
       "      <td id=\"T_fae6a_row5_col6\" class=\"data row5 col6\" >0.0119</td>\n",
       "    </tr>\n",
       "    <tr>\n",
       "      <th id=\"T_fae6a_level0_row6\" class=\"row_heading level0 row6\" >6</th>\n",
       "      <td id=\"T_fae6a_row6_col0\" class=\"data row6 col0\" >0.7871</td>\n",
       "      <td id=\"T_fae6a_row6_col1\" class=\"data row6 col1\" >0.5847</td>\n",
       "      <td id=\"T_fae6a_row6_col2\" class=\"data row6 col2\" >0.0051</td>\n",
       "      <td id=\"T_fae6a_row6_col3\" class=\"data row6 col3\" >0.4000</td>\n",
       "      <td id=\"T_fae6a_row6_col4\" class=\"data row6 col4\" >0.0100</td>\n",
       "      <td id=\"T_fae6a_row6_col5\" class=\"data row6 col5\" >0.0047</td>\n",
       "      <td id=\"T_fae6a_row6_col6\" class=\"data row6 col6\" >0.0238</td>\n",
       "    </tr>\n",
       "    <tr>\n",
       "      <th id=\"T_fae6a_level0_row7\" class=\"row_heading level0 row7\" >7</th>\n",
       "      <td id=\"T_fae6a_row7_col0\" class=\"data row7 col0\" >0.7871</td>\n",
       "      <td id=\"T_fae6a_row7_col1\" class=\"data row7 col1\" >0.6146</td>\n",
       "      <td id=\"T_fae6a_row7_col2\" class=\"data row7 col2\" >0.0025</td>\n",
       "      <td id=\"T_fae6a_row7_col3\" class=\"data row7 col3\" >0.3333</td>\n",
       "      <td id=\"T_fae6a_row7_col4\" class=\"data row7 col4\" >0.0050</td>\n",
       "      <td id=\"T_fae6a_row7_col5\" class=\"data row7 col5\" >0.0018</td>\n",
       "      <td id=\"T_fae6a_row7_col6\" class=\"data row7 col6\" >0.0119</td>\n",
       "    </tr>\n",
       "    <tr>\n",
       "      <th id=\"T_fae6a_level0_row8\" class=\"row_heading level0 row8\" >8</th>\n",
       "      <td id=\"T_fae6a_row8_col0\" class=\"data row8 col0\" >0.7875</td>\n",
       "      <td id=\"T_fae6a_row8_col1\" class=\"data row8 col1\" >0.6033</td>\n",
       "      <td id=\"T_fae6a_row8_col2\" class=\"data row8 col2\" >0.0000</td>\n",
       "      <td id=\"T_fae6a_row8_col3\" class=\"data row8 col3\" >0.0000</td>\n",
       "      <td id=\"T_fae6a_row8_col4\" class=\"data row8 col4\" >0.0000</td>\n",
       "      <td id=\"T_fae6a_row8_col5\" class=\"data row8 col5\" >0.0000</td>\n",
       "      <td id=\"T_fae6a_row8_col6\" class=\"data row8 col6\" >0.0000</td>\n",
       "    </tr>\n",
       "    <tr>\n",
       "      <th id=\"T_fae6a_level0_row9\" class=\"row_heading level0 row9\" >9</th>\n",
       "      <td id=\"T_fae6a_row9_col0\" class=\"data row9 col0\" >0.7875</td>\n",
       "      <td id=\"T_fae6a_row9_col1\" class=\"data row9 col1\" >0.5698</td>\n",
       "      <td id=\"T_fae6a_row9_col2\" class=\"data row9 col2\" >0.0000</td>\n",
       "      <td id=\"T_fae6a_row9_col3\" class=\"data row9 col3\" >0.0000</td>\n",
       "      <td id=\"T_fae6a_row9_col4\" class=\"data row9 col4\" >0.0000</td>\n",
       "      <td id=\"T_fae6a_row9_col5\" class=\"data row9 col5\" >0.0000</td>\n",
       "      <td id=\"T_fae6a_row9_col6\" class=\"data row9 col6\" >0.0000</td>\n",
       "    </tr>\n",
       "    <tr>\n",
       "      <th id=\"T_fae6a_level0_row10\" class=\"row_heading level0 row10\" >Mean</th>\n",
       "      <td id=\"T_fae6a_row10_col0\" class=\"data row10 col0\" >0.7870</td>\n",
       "      <td id=\"T_fae6a_row10_col1\" class=\"data row10 col1\" >0.5833</td>\n",
       "      <td id=\"T_fae6a_row10_col2\" class=\"data row10 col2\" >0.0018</td>\n",
       "      <td id=\"T_fae6a_row10_col3\" class=\"data row10 col3\" >0.2317</td>\n",
       "      <td id=\"T_fae6a_row10_col4\" class=\"data row10 col4\" >0.0035</td>\n",
       "      <td id=\"T_fae6a_row10_col5\" class=\"data row10 col5\" >0.0012</td>\n",
       "      <td id=\"T_fae6a_row10_col6\" class=\"data row10 col6\" >0.0070</td>\n",
       "    </tr>\n",
       "    <tr>\n",
       "      <th id=\"T_fae6a_level0_row11\" class=\"row_heading level0 row11\" >Std</th>\n",
       "      <td id=\"T_fae6a_row11_col0\" class=\"data row11 col0\" >0.0008</td>\n",
       "      <td id=\"T_fae6a_row11_col1\" class=\"data row11 col1\" >0.0177</td>\n",
       "      <td id=\"T_fae6a_row11_col2\" class=\"data row11 col2\" >0.0020</td>\n",
       "      <td id=\"T_fae6a_row11_col3\" class=\"data row11 col3\" >0.3013</td>\n",
       "      <td id=\"T_fae6a_row11_col4\" class=\"data row11 col4\" >0.0039</td>\n",
       "      <td id=\"T_fae6a_row11_col5\" class=\"data row11 col5\" >0.0030</td>\n",
       "      <td id=\"T_fae6a_row11_col6\" class=\"data row11 col6\" >0.0226</td>\n",
       "    </tr>\n",
       "  </tbody>\n",
       "</table>\n"
      ],
      "text/plain": [
       "<pandas.io.formats.style.Styler at 0x1ba01bf0f70>"
      ]
     },
     "metadata": {},
     "output_type": "display_data"
    },
    {
     "data": {
      "application/vnd.jupyter.widget-view+json": {
       "model_id": "47f848cee1554f0aa53a0983b88696f9",
       "version_major": 2,
       "version_minor": 0
      },
      "text/plain": [
       "Processing:   0%|          | 0/7 [00:00<?, ?it/s]"
      ]
     },
     "metadata": {},
     "output_type": "display_data"
    },
    {
     "name": "stdout",
     "output_type": "stream",
     "text": [
      "Fitting 10 folds for each of 10 candidates, totalling 100 fits\n"
     ]
    }
   ],
   "source": [
    "tuned_lr = tune_model(lr)"
   ]
  },
  {
   "cell_type": "code",
   "execution_count": 22,
   "id": "5a6b0978",
   "metadata": {
    "execution": {
     "iopub.execute_input": "2022-08-28T02:57:14.071750Z",
     "iopub.status.busy": "2022-08-28T02:57:14.071283Z",
     "iopub.status.idle": "2022-08-28T02:57:14.077656Z",
     "shell.execute_reply": "2022-08-28T02:57:14.076470Z"
    },
    "papermill": {
     "duration": 0.029431,
     "end_time": "2022-08-28T02:57:14.080056",
     "exception": false,
     "start_time": "2022-08-28T02:57:14.050625",
     "status": "completed"
    },
    "tags": []
   },
   "outputs": [
    {
     "name": "stdout",
     "output_type": "stream",
     "text": [
      "LinearDiscriminantAnalysis(covariance_estimator=None, n_components=None,\n",
      "                           priors=None, shrinkage=0.1, solver='eigen',\n",
      "                           store_covariance=False, tol=0.0001)\n"
     ]
    }
   ],
   "source": [
    "# tuned model object is stored in the variable 'tuned_dt'. \n",
    "print(tuned_lda)"
   ]
  },
  {
   "cell_type": "code",
   "execution_count": 23,
   "id": "1d27b674",
   "metadata": {
    "execution": {
     "iopub.execute_input": "2022-08-28T02:57:14.122708Z",
     "iopub.status.busy": "2022-08-28T02:57:14.121903Z",
     "iopub.status.idle": "2022-08-28T02:57:14.128130Z",
     "shell.execute_reply": "2022-08-28T02:57:14.126474Z"
    },
    "papermill": {
     "duration": 0.030436,
     "end_time": "2022-08-28T02:57:14.130799",
     "exception": false,
     "start_time": "2022-08-28T02:57:14.100363",
     "status": "completed"
    },
    "tags": []
   },
   "outputs": [
    {
     "name": "stdout",
     "output_type": "stream",
     "text": [
      "LogisticRegression(C=7.863, class_weight={}, dual=False, fit_intercept=True,\n",
      "                   intercept_scaling=1, l1_ratio=None, max_iter=1000,\n",
      "                   multi_class='auto', n_jobs=None, penalty='l2',\n",
      "                   random_state=123, solver='lbfgs', tol=0.0001, verbose=0,\n",
      "                   warm_start=False)\n"
     ]
    }
   ],
   "source": [
    "# tuned model object is stored in the variable 'tuned_dt'. \n",
    "print(tuned_lr)"
   ]
  },
  {
   "cell_type": "markdown",
   "id": "aab6e7a5",
   "metadata": {
    "papermill": {
     "duration": 0.0196,
     "end_time": "2022-08-28T02:57:14.171341",
     "exception": false,
     "start_time": "2022-08-28T02:57:14.151741",
     "status": "completed"
    },
    "tags": []
   },
   "source": [
    "---"
   ]
  },
  {
   "cell_type": "markdown",
   "id": "4906b207",
   "metadata": {
    "papermill": {
     "duration": 0.018504,
     "end_time": "2022-08-28T02:57:14.209279",
     "exception": false,
     "start_time": "2022-08-28T02:57:14.190775",
     "status": "completed"
    },
    "tags": []
   },
   "source": [
    "## Visualize of the Model Results..."
   ]
  },
  {
   "cell_type": "code",
   "execution_count": 24,
   "id": "835fc54c",
   "metadata": {
    "execution": {
     "iopub.execute_input": "2022-08-28T02:57:14.248911Z",
     "iopub.status.busy": "2022-08-28T02:57:14.248412Z",
     "iopub.status.idle": "2022-08-28T02:57:15.679912Z",
     "shell.execute_reply": "2022-08-28T02:57:15.678916Z"
    },
    "papermill": {
     "duration": 1.45463,
     "end_time": "2022-08-28T02:57:15.682699",
     "exception": false,
     "start_time": "2022-08-28T02:57:14.228069",
     "status": "completed"
    },
    "tags": []
   },
   "outputs": [
    {
     "data": {
      "text/html": [],
      "text/plain": [
       "<IPython.core.display.HTML object>"
      ]
     },
     "metadata": {},
     "output_type": "display_data"
    },
    {
     "data": {
      "image/png": "[encoded data removed]",
      "text/plain": [
       "<Figure size 432x288 with 1 Axes>"
      ]
     },
     "metadata": {
      "needs_background": "light"
     },
     "output_type": "display_data"
    }
   ],
   "source": [
    "plot_model(tuned_lda, plot = 'auc')"
   ]
  },
  {
   "cell_type": "code",
   "execution_count": 25,
   "id": "68a807af",
   "metadata": {
    "execution": {
     "iopub.execute_input": "2022-08-28T02:57:15.724234Z",
     "iopub.status.busy": "2022-08-28T02:57:15.723833Z",
     "iopub.status.idle": "2022-08-28T02:57:17.168902Z",
     "shell.execute_reply": "2022-08-28T02:57:17.167587Z"
    },
    "papermill": {
     "duration": 1.468964,
     "end_time": "2022-08-28T02:57:17.171646",
     "exception": false,
     "start_time": "2022-08-28T02:57:15.702682",
     "status": "completed"
    },
    "tags": []
   },
   "outputs": [
    {
     "data": {
      "text/html": [],
      "text/plain": [
       "<IPython.core.display.HTML object>"
      ]
     },
     "metadata": {},
     "output_type": "display_data"
    },
    {
     "data": {
      "image/png": "[encoded data removed]",
      "text/plain": [
       "<Figure size 432x288 with 1 Axes>"
      ]
     },
     "metadata": {
      "needs_background": "light"
     },
     "output_type": "display_data"
    }
   ],
   "source": [
    "plot_model(tuned_lr, plot = 'auc')"
   ]
  },
  {
   "cell_type": "code",
   "execution_count": 26,
   "id": "2ef05083",
   "metadata": {
    "execution": {
     "iopub.execute_input": "2022-08-28T02:57:17.216101Z",
     "iopub.status.busy": "2022-08-28T02:57:17.215603Z",
     "iopub.status.idle": "2022-08-28T02:57:18.587869Z",
     "shell.execute_reply": "2022-08-28T02:57:18.586712Z"
    },
    "papermill": {
     "duration": 1.397946,
     "end_time": "2022-08-28T02:57:18.590774",
     "exception": false,
     "start_time": "2022-08-28T02:57:17.192828",
     "status": "completed"
    },
    "tags": []
   },
   "outputs": [
    {
     "data": {
      "text/html": [],
      "text/plain": [
       "<IPython.core.display.HTML object>"
      ]
     },
     "metadata": {},
     "output_type": "display_data"
    },
    {
     "data": {
      "image/png": "[encoded data removed]",
      "text/plain": [
       "<Figure size 432x288 with 1 Axes>"
      ]
     },
     "metadata": {
      "needs_background": "light"
     },
     "output_type": "display_data"
    }
   ],
   "source": [
    "plot_model(tuned_lda, plot = 'pr')"
   ]
  },
  {
   "cell_type": "code",
   "execution_count": 27,
   "id": "6cf8711d",
   "metadata": {
    "execution": {
     "iopub.execute_input": "2022-08-28T02:57:18.635924Z",
     "iopub.status.busy": "2022-08-28T02:57:18.635133Z",
     "iopub.status.idle": "2022-08-28T02:57:19.956229Z",
     "shell.execute_reply": "2022-08-28T02:57:19.954940Z"
    },
    "papermill": {
     "duration": 1.346772,
     "end_time": "2022-08-28T02:57:19.959095",
     "exception": false,
     "start_time": "2022-08-28T02:57:18.612323",
     "status": "completed"
    },
    "tags": []
   },
   "outputs": [
    {
     "data": {
      "text/html": [],
      "text/plain": [
       "<IPython.core.display.HTML object>"
      ]
     },
     "metadata": {},
     "output_type": "display_data"
    },
    {
     "data": {
      "image/png": "[encoded data removed]",
      "text/plain": [
       "<Figure size 432x288 with 1 Axes>"
      ]
     },
     "metadata": {
      "needs_background": "light"
     },
     "output_type": "display_data"
    }
   ],
   "source": [
    "plot_model(tuned_lr, plot = 'pr')"
   ]
  },
  {
   "cell_type": "code",
   "execution_count": 28,
   "id": "22c2ea1e",
   "metadata": {
    "execution": {
     "iopub.execute_input": "2022-08-28T02:57:20.006859Z",
     "iopub.status.busy": "2022-08-28T02:57:20.005539Z",
     "iopub.status.idle": "2022-08-28T02:57:21.069674Z",
     "shell.execute_reply": "2022-08-28T02:57:21.068743Z"
    },
    "papermill": {
     "duration": 1.090305,
     "end_time": "2022-08-28T02:57:21.072292",
     "exception": false,
     "start_time": "2022-08-28T02:57:19.981987",
     "status": "completed"
    },
    "tags": []
   },
   "outputs": [
    {
     "data": {
      "text/html": [],
      "text/plain": [
       "<IPython.core.display.HTML object>"
      ]
     },
     "metadata": {},
     "output_type": "display_data"
    },
    {
     "data": {
      "image/png": "[encoded data removed]",
      "text/plain": [
       "<Figure size 800x500 with 1 Axes>"
      ]
     },
     "metadata": {
      "needs_background": "light"
     },
     "output_type": "display_data"
    }
   ],
   "source": [
    "plot_model(tuned_lda, plot='feature')"
   ]
  },
  {
   "cell_type": "code",
   "execution_count": 29,
   "id": "5b04a565",
   "metadata": {
    "execution": {
     "iopub.execute_input": "2022-08-28T02:57:21.120819Z",
     "iopub.status.busy": "2022-08-28T02:57:21.119594Z",
     "iopub.status.idle": "2022-08-28T02:57:22.184422Z",
     "shell.execute_reply": "2022-08-28T02:57:22.183128Z"
    },
    "papermill": {
     "duration": 1.091757,
     "end_time": "2022-08-28T02:57:22.187113",
     "exception": false,
     "start_time": "2022-08-28T02:57:21.095356",
     "status": "completed"
    },
    "tags": []
   },
   "outputs": [
    {
     "data": {
      "text/html": [],
      "text/plain": [
       "<IPython.core.display.HTML object>"
      ]
     },
     "metadata": {},
     "output_type": "display_data"
    },
    {
     "data": {
      "image/png": "[encoded data removed]",
      "text/plain": [
       "<Figure size 800x500 with 1 Axes>"
      ]
     },
     "metadata": {
      "needs_background": "light"
     },
     "output_type": "display_data"
    }
   ],
   "source": [
    "plot_model(tuned_lr, plot='feature')"
   ]
  },
  {
   "cell_type": "code",
   "execution_count": 30,
   "id": "5f3c3360",
   "metadata": {
    "execution": {
     "iopub.execute_input": "2022-08-28T02:57:22.237718Z",
     "iopub.status.busy": "2022-08-28T02:57:22.236317Z",
     "iopub.status.idle": "2022-08-28T02:57:23.508924Z",
     "shell.execute_reply": "2022-08-28T02:57:23.507524Z"
    },
    "papermill": {
     "duration": 1.300735,
     "end_time": "2022-08-28T02:57:23.511875",
     "exception": false,
     "start_time": "2022-08-28T02:57:22.211140",
     "status": "completed"
    },
    "tags": []
   },
   "outputs": [
    {
     "data": {
      "text/html": [],
      "text/plain": [
       "<IPython.core.display.HTML object>"
      ]
     },
     "metadata": {},
     "output_type": "display_data"
    },
    {
     "data": {
      "image/png": "[encoded data removed]",
      "text/plain": [
       "<Figure size 432x288 with 1 Axes>"
      ]
     },
     "metadata": {
      "needs_background": "light"
     },
     "output_type": "display_data"
    }
   ],
   "source": [
    "plot_model(tuned_lda, plot = 'confusion_matrix')"
   ]
  },
  {
   "cell_type": "code",
   "execution_count": 31,
   "id": "79912242",
   "metadata": {
    "execution": {
     "iopub.execute_input": "2022-08-28T02:57:23.564987Z",
     "iopub.status.busy": "2022-08-28T02:57:23.564538Z",
     "iopub.status.idle": "2022-08-28T02:57:24.855541Z",
     "shell.execute_reply": "2022-08-28T02:57:24.853866Z"
    },
    "papermill": {
     "duration": 1.320697,
     "end_time": "2022-08-28T02:57:24.858343",
     "exception": false,
     "start_time": "2022-08-28T02:57:23.537646",
     "status": "completed"
    },
    "tags": []
   },
   "outputs": [
    {
     "data": {
      "text/html": [],
      "text/plain": [
       "<IPython.core.display.HTML object>"
      ]
     },
     "metadata": {},
     "output_type": "display_data"
    },
    {
     "data": {
      "image/png": "[encoded data removed]",
      "text/plain": [
       "<Figure size 432x288 with 1 Axes>"
      ]
     },
     "metadata": {
      "needs_background": "light"
     },
     "output_type": "display_data"
    }
   ],
   "source": [
    "plot_model(tuned_lr, plot = 'confusion_matrix')"
   ]
  },
  {
   "cell_type": "code",
   "execution_count": 32,
   "id": "8b85f362",
   "metadata": {
    "execution": {
     "iopub.execute_input": "2022-08-28T02:57:24.911116Z",
     "iopub.status.busy": "2022-08-28T02:57:24.910669Z",
     "iopub.status.idle": "2022-08-28T02:57:28.033299Z",
     "shell.execute_reply": "2022-08-28T02:57:28.031932Z"
    },
    "papermill": {
     "duration": 3.152379,
     "end_time": "2022-08-28T02:57:28.036257",
     "exception": false,
     "start_time": "2022-08-28T02:57:24.883878",
     "status": "completed"
    },
    "tags": []
   },
   "outputs": [
    {
     "data": {
      "text/html": [],
      "text/plain": [
       "<IPython.core.display.HTML object>"
      ]
     },
     "metadata": {},
     "output_type": "display_data"
    },
    {
     "data": {
      "image/png": "[encoded data removed]",
      "text/plain": [
       "<Figure size 432x288 with 1 Axes>"
      ]
     },
     "metadata": {
      "needs_background": "light"
     },
     "output_type": "display_data"
    }
   ],
   "source": [
    "plot_model(tuned_lda, plot = 'boundary')"
   ]
  },
  {
   "cell_type": "code",
   "execution_count": 33,
   "id": "b69c3c87",
   "metadata": {
    "execution": {
     "iopub.execute_input": "2022-08-28T02:57:28.092533Z",
     "iopub.status.busy": "2022-08-28T02:57:28.091500Z",
     "iopub.status.idle": "2022-08-28T02:57:31.307967Z",
     "shell.execute_reply": "2022-08-28T02:57:31.306847Z"
    },
    "papermill": {
     "duration": 3.247609,
     "end_time": "2022-08-28T02:57:31.311124",
     "exception": false,
     "start_time": "2022-08-28T02:57:28.063515",
     "status": "completed"
    },
    "tags": []
   },
   "outputs": [
    {
     "data": {
      "text/html": [],
      "text/plain": [
       "<IPython.core.display.HTML object>"
      ]
     },
     "metadata": {},
     "output_type": "display_data"
    },
    {
     "data": {
      "image/png": "[encoded data removed]",
      "text/plain": [
       "<Figure size 432x288 with 1 Axes>"
      ]
     },
     "metadata": {
      "needs_background": "light"
     },
     "output_type": "display_data"
    }
   ],
   "source": [
    "plot_model(tuned_lr, plot = 'boundary')"
   ]
  },
  {
   "cell_type": "markdown",
   "id": "f7f8420e",
   "metadata": {
    "papermill": {
     "duration": 0.028494,
     "end_time": "2022-08-28T02:57:31.368946",
     "exception": false,
     "start_time": "2022-08-28T02:57:31.340452",
     "status": "completed"
    },
    "tags": []
   },
   "source": [
    "---"
   ]
  },
  {
   "cell_type": "markdown",
   "id": "b1cb3840",
   "metadata": {
    "papermill": {
     "duration": 0.029831,
     "end_time": "2022-08-28T02:57:31.428454",
     "exception": false,
     "start_time": "2022-08-28T02:57:31.398623",
     "status": "completed"
    },
    "tags": []
   },
   "source": [
    "## Creating Blend of the Selected Models..."
   ]
  },
  {
   "cell_type": "code",
   "execution_count": 34,
   "id": "674c9105",
   "metadata": {
    "execution": {
     "iopub.execute_input": "2022-08-28T02:57:31.490135Z",
     "iopub.status.busy": "2022-08-28T02:57:31.489701Z",
     "iopub.status.idle": "2022-08-28T02:57:34.717279Z",
     "shell.execute_reply": "2022-08-28T02:57:34.715965Z"
    },
    "papermill": {
     "duration": 3.262021,
     "end_time": "2022-08-28T02:57:34.720248",
     "exception": false,
     "start_time": "2022-08-28T02:57:31.458227",
     "status": "completed"
    },
    "tags": []
   },
   "outputs": [
    {
     "data": {
      "text/html": [],
      "text/plain": [
       "<IPython.core.display.HTML object>"
      ]
     },
     "metadata": {},
     "output_type": "display_data"
    },
    {
     "data": {
      "text/html": [
       "<style type=\"text/css\">\n",
       "#T_41d5a_row10_col0, #T_41d5a_row10_col1, #T_41d5a_row10_col2, #T_41d5a_row10_col3, #T_41d5a_row10_col4, #T_41d5a_row10_col5, #T_41d5a_row10_col6 {\n",
       "  background: yellow;\n",
       "}\n",
       "</style>\n",
       "<table id=\"T_41d5a\">\n",
       "  <thead>\n",
       "    <tr>\n",
       "      <th class=\"blank level0\" >&nbsp;</th>\n",
       "      <th id=\"T_41d5a_level0_col0\" class=\"col_heading level0 col0\" >Accuracy</th>\n",
       "      <th id=\"T_41d5a_level0_col1\" class=\"col_heading level0 col1\" >AUC</th>\n",
       "      <th id=\"T_41d5a_level0_col2\" class=\"col_heading level0 col2\" >Recall</th>\n",
       "      <th id=\"T_41d5a_level0_col3\" class=\"col_heading level0 col3\" >Prec.</th>\n",
       "      <th id=\"T_41d5a_level0_col4\" class=\"col_heading level0 col4\" >F1</th>\n",
       "      <th id=\"T_41d5a_level0_col5\" class=\"col_heading level0 col5\" >Kappa</th>\n",
       "      <th id=\"T_41d5a_level0_col6\" class=\"col_heading level0 col6\" >MCC</th>\n",
       "    </tr>\n",
       "    <tr>\n",
       "      <th class=\"index_name level0\" >Fold</th>\n",
       "      <th class=\"blank col0\" >&nbsp;</th>\n",
       "      <th class=\"blank col1\" >&nbsp;</th>\n",
       "      <th class=\"blank col2\" >&nbsp;</th>\n",
       "      <th class=\"blank col3\" >&nbsp;</th>\n",
       "      <th class=\"blank col4\" >&nbsp;</th>\n",
       "      <th class=\"blank col5\" >&nbsp;</th>\n",
       "      <th class=\"blank col6\" >&nbsp;</th>\n",
       "    </tr>\n",
       "  </thead>\n",
       "  <tbody>\n",
       "    <tr>\n",
       "      <th id=\"T_41d5a_level0_row0\" class=\"row_heading level0 row0\" >0</th>\n",
       "      <td id=\"T_41d5a_row0_col0\" class=\"data row0 col0\" >0.7866</td>\n",
       "      <td id=\"T_41d5a_row0_col1\" class=\"data row0 col1\" >0.5836</td>\n",
       "      <td id=\"T_41d5a_row0_col2\" class=\"data row0 col2\" >0.0000</td>\n",
       "      <td id=\"T_41d5a_row0_col3\" class=\"data row0 col3\" >0.0000</td>\n",
       "      <td id=\"T_41d5a_row0_col4\" class=\"data row0 col4\" >0.0000</td>\n",
       "      <td id=\"T_41d5a_row0_col5\" class=\"data row0 col5\" >-0.0011</td>\n",
       "      <td id=\"T_41d5a_row0_col6\" class=\"data row0 col6\" >-0.0121</td>\n",
       "    </tr>\n",
       "    <tr>\n",
       "      <th id=\"T_41d5a_level0_row1\" class=\"row_heading level0 row1\" >1</th>\n",
       "      <td id=\"T_41d5a_row1_col0\" class=\"data row1 col0\" >0.7849</td>\n",
       "      <td id=\"T_41d5a_row1_col1\" class=\"data row1 col1\" >0.5576</td>\n",
       "      <td id=\"T_41d5a_row1_col2\" class=\"data row1 col2\" >0.0000</td>\n",
       "      <td id=\"T_41d5a_row1_col3\" class=\"data row1 col3\" >0.0000</td>\n",
       "      <td id=\"T_41d5a_row1_col4\" class=\"data row1 col4\" >0.0000</td>\n",
       "      <td id=\"T_41d5a_row1_col5\" class=\"data row1 col5\" >-0.0043</td>\n",
       "      <td id=\"T_41d5a_row1_col6\" class=\"data row1 col6\" >-0.0241</td>\n",
       "    </tr>\n",
       "    <tr>\n",
       "      <th id=\"T_41d5a_level0_row2\" class=\"row_heading level0 row2\" >2</th>\n",
       "      <td id=\"T_41d5a_row2_col0\" class=\"data row2 col0\" >0.7860</td>\n",
       "      <td id=\"T_41d5a_row2_col1\" class=\"data row2 col1\" >0.5925</td>\n",
       "      <td id=\"T_41d5a_row2_col2\" class=\"data row2 col2\" >0.0000</td>\n",
       "      <td id=\"T_41d5a_row2_col3\" class=\"data row2 col3\" >0.0000</td>\n",
       "      <td id=\"T_41d5a_row2_col4\" class=\"data row2 col4\" >0.0000</td>\n",
       "      <td id=\"T_41d5a_row2_col5\" class=\"data row2 col5\" >-0.0021</td>\n",
       "      <td id=\"T_41d5a_row2_col6\" class=\"data row2 col6\" >-0.0171</td>\n",
       "    </tr>\n",
       "    <tr>\n",
       "      <th id=\"T_41d5a_level0_row3\" class=\"row_heading level0 row3\" >3</th>\n",
       "      <td id=\"T_41d5a_row3_col0\" class=\"data row3 col0\" >0.7860</td>\n",
       "      <td id=\"T_41d5a_row3_col1\" class=\"data row3 col1\" >0.5564</td>\n",
       "      <td id=\"T_41d5a_row3_col2\" class=\"data row3 col2\" >0.0025</td>\n",
       "      <td id=\"T_41d5a_row3_col3\" class=\"data row3 col3\" >0.2500</td>\n",
       "      <td id=\"T_41d5a_row3_col4\" class=\"data row3 col4\" >0.0050</td>\n",
       "      <td id=\"T_41d5a_row3_col5\" class=\"data row3 col5\" >0.0007</td>\n",
       "      <td id=\"T_41d5a_row3_col6\" class=\"data row3 col6\" >0.0042</td>\n",
       "    </tr>\n",
       "    <tr>\n",
       "      <th id=\"T_41d5a_level0_row4\" class=\"row_heading level0 row4\" >4</th>\n",
       "      <td id=\"T_41d5a_row4_col0\" class=\"data row4 col0\" >0.7876</td>\n",
       "      <td id=\"T_41d5a_row4_col1\" class=\"data row4 col1\" >0.5879</td>\n",
       "      <td id=\"T_41d5a_row4_col2\" class=\"data row4 col2\" >0.0051</td>\n",
       "      <td id=\"T_41d5a_row4_col3\" class=\"data row4 col3\" >0.5000</td>\n",
       "      <td id=\"T_41d5a_row4_col4\" class=\"data row4 col4\" >0.0100</td>\n",
       "      <td id=\"T_41d5a_row4_col5\" class=\"data row4 col5\" >0.0058</td>\n",
       "      <td id=\"T_41d5a_row4_col6\" class=\"data row4 col6\" >0.0326</td>\n",
       "    </tr>\n",
       "    <tr>\n",
       "      <th id=\"T_41d5a_level0_row5\" class=\"row_heading level0 row5\" >5</th>\n",
       "      <td id=\"T_41d5a_row5_col0\" class=\"data row5 col0\" >0.7876</td>\n",
       "      <td id=\"T_41d5a_row5_col1\" class=\"data row5 col1\" >0.5856</td>\n",
       "      <td id=\"T_41d5a_row5_col2\" class=\"data row5 col2\" >0.0051</td>\n",
       "      <td id=\"T_41d5a_row5_col3\" class=\"data row5 col3\" >0.5000</td>\n",
       "      <td id=\"T_41d5a_row5_col4\" class=\"data row5 col4\" >0.0100</td>\n",
       "      <td id=\"T_41d5a_row5_col5\" class=\"data row5 col5\" >0.0058</td>\n",
       "      <td id=\"T_41d5a_row5_col6\" class=\"data row5 col6\" >0.0326</td>\n",
       "    </tr>\n",
       "    <tr>\n",
       "      <th id=\"T_41d5a_level0_row6\" class=\"row_heading level0 row6\" >6</th>\n",
       "      <td id=\"T_41d5a_row6_col0\" class=\"data row6 col0\" >0.7876</td>\n",
       "      <td id=\"T_41d5a_row6_col1\" class=\"data row6 col1\" >0.5849</td>\n",
       "      <td id=\"T_41d5a_row6_col2\" class=\"data row6 col2\" >0.0076</td>\n",
       "      <td id=\"T_41d5a_row6_col3\" class=\"data row6 col3\" >0.5000</td>\n",
       "      <td id=\"T_41d5a_row6_col4\" class=\"data row6 col4\" >0.0150</td>\n",
       "      <td id=\"T_41d5a_row6_col5\" class=\"data row6 col5\" >0.0087</td>\n",
       "      <td id=\"T_41d5a_row6_col6\" class=\"data row6 col6\" >0.0400</td>\n",
       "    </tr>\n",
       "    <tr>\n",
       "      <th id=\"T_41d5a_level0_row7\" class=\"row_heading level0 row7\" >7</th>\n",
       "      <td id=\"T_41d5a_row7_col0\" class=\"data row7 col0\" >0.7876</td>\n",
       "      <td id=\"T_41d5a_row7_col1\" class=\"data row7 col1\" >0.6149</td>\n",
       "      <td id=\"T_41d5a_row7_col2\" class=\"data row7 col2\" >0.0051</td>\n",
       "      <td id=\"T_41d5a_row7_col3\" class=\"data row7 col3\" >0.5000</td>\n",
       "      <td id=\"T_41d5a_row7_col4\" class=\"data row7 col4\" >0.0100</td>\n",
       "      <td id=\"T_41d5a_row7_col5\" class=\"data row7 col5\" >0.0058</td>\n",
       "      <td id=\"T_41d5a_row7_col6\" class=\"data row7 col6\" >0.0326</td>\n",
       "    </tr>\n",
       "    <tr>\n",
       "      <th id=\"T_41d5a_level0_row8\" class=\"row_heading level0 row8\" >8</th>\n",
       "      <td id=\"T_41d5a_row8_col0\" class=\"data row8 col0\" >0.7875</td>\n",
       "      <td id=\"T_41d5a_row8_col1\" class=\"data row8 col1\" >0.6032</td>\n",
       "      <td id=\"T_41d5a_row8_col2\" class=\"data row8 col2\" >0.0000</td>\n",
       "      <td id=\"T_41d5a_row8_col3\" class=\"data row8 col3\" >0.0000</td>\n",
       "      <td id=\"T_41d5a_row8_col4\" class=\"data row8 col4\" >0.0000</td>\n",
       "      <td id=\"T_41d5a_row8_col5\" class=\"data row8 col5\" >0.0000</td>\n",
       "      <td id=\"T_41d5a_row8_col6\" class=\"data row8 col6\" >0.0000</td>\n",
       "    </tr>\n",
       "    <tr>\n",
       "      <th id=\"T_41d5a_level0_row9\" class=\"row_heading level0 row9\" >9</th>\n",
       "      <td id=\"T_41d5a_row9_col0\" class=\"data row9 col0\" >0.7875</td>\n",
       "      <td id=\"T_41d5a_row9_col1\" class=\"data row9 col1\" >0.5703</td>\n",
       "      <td id=\"T_41d5a_row9_col2\" class=\"data row9 col2\" >0.0000</td>\n",
       "      <td id=\"T_41d5a_row9_col3\" class=\"data row9 col3\" >0.0000</td>\n",
       "      <td id=\"T_41d5a_row9_col4\" class=\"data row9 col4\" >0.0000</td>\n",
       "      <td id=\"T_41d5a_row9_col5\" class=\"data row9 col5\" >0.0000</td>\n",
       "      <td id=\"T_41d5a_row9_col6\" class=\"data row9 col6\" >0.0000</td>\n",
       "    </tr>\n",
       "    <tr>\n",
       "      <th id=\"T_41d5a_level0_row10\" class=\"row_heading level0 row10\" >Mean</th>\n",
       "      <td id=\"T_41d5a_row10_col0\" class=\"data row10 col0\" >0.7869</td>\n",
       "      <td id=\"T_41d5a_row10_col1\" class=\"data row10 col1\" >0.5837</td>\n",
       "      <td id=\"T_41d5a_row10_col2\" class=\"data row10 col2\" >0.0025</td>\n",
       "      <td id=\"T_41d5a_row10_col3\" class=\"data row10 col3\" >0.2250</td>\n",
       "      <td id=\"T_41d5a_row10_col4\" class=\"data row10 col4\" >0.0050</td>\n",
       "      <td id=\"T_41d5a_row10_col5\" class=\"data row10 col5\" >0.0019</td>\n",
       "      <td id=\"T_41d5a_row10_col6\" class=\"data row10 col6\" >0.0089</td>\n",
       "    </tr>\n",
       "    <tr>\n",
       "      <th id=\"T_41d5a_level0_row11\" class=\"row_heading level0 row11\" >Std</th>\n",
       "      <td id=\"T_41d5a_row11_col0\" class=\"data row11 col0\" >0.0009</td>\n",
       "      <td id=\"T_41d5a_row11_col1\" class=\"data row11 col1\" >0.0175</td>\n",
       "      <td id=\"T_41d5a_row11_col2\" class=\"data row11 col2\" >0.0028</td>\n",
       "      <td id=\"T_41d5a_row11_col3\" class=\"data row11 col3\" >0.2358</td>\n",
       "      <td id=\"T_41d5a_row11_col4\" class=\"data row11 col4\" >0.0055</td>\n",
       "      <td id=\"T_41d5a_row11_col5\" class=\"data row11 col5\" >0.0040</td>\n",
       "      <td id=\"T_41d5a_row11_col6\" class=\"data row11 col6\" >0.0225</td>\n",
       "    </tr>\n",
       "  </tbody>\n",
       "</table>\n"
      ],
      "text/plain": [
       "<pandas.io.formats.style.Styler at 0x1ba737ae340>"
      ]
     },
     "metadata": {},
     "output_type": "display_data"
    },
    {
     "data": {
      "application/vnd.jupyter.widget-view+json": {
       "model_id": "ed26e93e78024f8093b0e4b32d2e1605",
       "version_major": 2,
       "version_minor": 0
      },
      "text/plain": [
       "Processing:   0%|          | 0/6 [00:00<?, ?it/s]"
      ]
     },
     "metadata": {},
     "output_type": "display_data"
    }
   ],
   "source": [
    "# blend models\n",
    "blender = blend_models([tuned_lda, tuned_lr])"
   ]
  },
  {
   "cell_type": "markdown",
   "id": "3166e65e",
   "metadata": {
    "papermill": {
     "duration": 0.030477,
     "end_time": "2022-08-28T02:57:34.781275",
     "exception": false,
     "start_time": "2022-08-28T02:57:34.750798",
     "status": "completed"
    },
    "tags": []
   },
   "source": [
    "---"
   ]
  },
  {
   "cell_type": "markdown",
   "id": "589a0860",
   "metadata": {
    "papermill": {
     "duration": 0.03153,
     "end_time": "2022-08-28T02:57:34.843637",
     "exception": false,
     "start_time": "2022-08-28T02:57:34.812107",
     "status": "completed"
    },
    "tags": []
   },
   "source": [
    "## Finalize the Model by Training in the Full Dataset..."
   ]
  },
  {
   "cell_type": "code",
   "execution_count": 35,
   "id": "711a3bd8",
   "metadata": {
    "execution": {
     "iopub.execute_input": "2022-08-28T02:57:34.908869Z",
     "iopub.status.busy": "2022-08-28T02:57:34.908057Z",
     "iopub.status.idle": "2022-08-28T02:57:38.068234Z",
     "shell.execute_reply": "2022-08-28T02:57:38.067118Z"
    },
    "papermill": {
     "duration": 3.196185,
     "end_time": "2022-08-28T02:57:38.071223",
     "exception": false,
     "start_time": "2022-08-28T02:57:34.875038",
     "status": "completed"
    },
    "tags": []
   },
   "outputs": [],
   "source": [
    "final_blended = finalize_model(blender)"
   ]
  },
  {
   "cell_type": "code",
   "execution_count": 36,
   "id": "dc2230c0",
   "metadata": {
    "execution": {
     "iopub.execute_input": "2022-08-28T02:57:38.134720Z",
     "iopub.status.busy": "2022-08-28T02:57:38.133958Z",
     "iopub.status.idle": "2022-08-28T02:57:38.138674Z",
     "shell.execute_reply": "2022-08-28T02:57:38.137749Z"
    },
    "papermill": {
     "duration": 0.039113,
     "end_time": "2022-08-28T02:57:38.140865",
     "exception": false,
     "start_time": "2022-08-28T02:57:38.101752",
     "status": "completed"
    },
    "tags": []
   },
   "outputs": [],
   "source": [
    "#final_lda = finalize_model(tuned_lda)"
   ]
  },
  {
   "cell_type": "code",
   "execution_count": 37,
   "id": "62ebf3d9",
   "metadata": {
    "execution": {
     "iopub.execute_input": "2022-08-28T02:57:38.205211Z",
     "iopub.status.busy": "2022-08-28T02:57:38.204124Z",
     "iopub.status.idle": "2022-08-28T02:57:38.208453Z",
     "shell.execute_reply": "2022-08-28T02:57:38.207674Z"
    },
    "papermill": {
     "duration": 0.039133,
     "end_time": "2022-08-28T02:57:38.210535",
     "exception": false,
     "start_time": "2022-08-28T02:57:38.171402",
     "status": "completed"
    },
    "tags": []
   },
   "outputs": [],
   "source": [
    "#final_lr = finalize_model(tuned_lda)"
   ]
  },
  {
   "cell_type": "code",
   "execution_count": 38,
   "id": "c8e8c827",
   "metadata": {
    "execution": {
     "iopub.execute_input": "2022-08-28T02:57:38.275720Z",
     "iopub.status.busy": "2022-08-28T02:57:38.274670Z",
     "iopub.status.idle": "2022-08-28T02:57:38.303523Z",
     "shell.execute_reply": "2022-08-28T02:57:38.301717Z"
    },
    "papermill": {
     "duration": 0.065267,
     "end_time": "2022-08-28T02:57:38.306659",
     "exception": false,
     "start_time": "2022-08-28T02:57:38.241392",
     "status": "completed"
    },
    "tags": []
   },
   "outputs": [
    {
     "name": "stdout",
     "output_type": "stream",
     "text": [
      "Pipeline(memory=Memory(location=C:\\Users\\Vadim\\AppData\\Local\\Temp\\joblib),\n",
      "         steps=[('numerical_imputer',\n",
      "                 TransformerWrapper(exclude=None,\n",
      "                                    include=['loading', 'measurement_0',\n",
      "                                             'measurement_1', 'measurement_2',\n",
      "                                             'measurement_3', 'measurement_4',\n",
      "                                             'measurement_5', 'measurement_6',\n",
      "                                             'measurement_7', 'measurement_8',\n",
      "                                             'measurement_9', 'measurement_10',\n",
      "                                             'measurement_11', 'me...\n",
      "                                              ('Logistic Regression',\n",
      "                                               LogisticRegression(C=7.863,\n",
      "                                                                  class_weight={},\n",
      "                                                                  dual=False,\n",
      "                                                                  fit_intercept=True,\n",
      "                                                                  intercept_scaling=1,\n",
      "                                                                  l1_ratio=None,\n",
      "                                                                  max_iter=1000,\n",
      "                                                                  multi_class='auto',\n",
      "                                                                  n_jobs=None,\n",
      "                                                                  penalty='l2',\n",
      "                                                                  random_state=123,\n",
      "                                                                  solver='lbfgs',\n",
      "                                                                  tol=0.0001,\n",
      "                                                                  verbose=0,\n",
      "                                                                  warm_start=False))],\n",
      "                                  flatten_transform=True, n_jobs=-1,\n",
      "                                  verbose=False, voting='soft',\n",
      "                                  weights=None))],\n",
      "         verbose=False)\n"
     ]
    }
   ],
   "source": [
    "#Final Random Forest model parameters for deployment\n",
    "print(final_blended)"
   ]
  },
  {
   "cell_type": "markdown",
   "id": "b5eb3371",
   "metadata": {
    "papermill": {
     "duration": 0.030417,
     "end_time": "2022-08-28T02:57:38.367832",
     "exception": false,
     "start_time": "2022-08-28T02:57:38.337415",
     "status": "completed"
    },
    "tags": []
   },
   "source": [
    "---"
   ]
  },
  {
   "cell_type": "markdown",
   "id": "8642afc2",
   "metadata": {
    "papermill": {
     "duration": 0.030515,
     "end_time": "2022-08-28T02:57:38.428998",
     "exception": false,
     "start_time": "2022-08-28T02:57:38.398483",
     "status": "completed"
    },
    "tags": []
   },
   "source": [
    "## Generate Predictions Using the Final Model..."
   ]
  },
  {
   "cell_type": "code",
   "execution_count": 39,
   "id": "eced8aad",
   "metadata": {
    "execution": {
     "iopub.execute_input": "2022-08-28T02:57:38.493285Z",
     "iopub.status.busy": "2022-08-28T02:57:38.492438Z",
     "iopub.status.idle": "2022-08-28T02:57:38.997284Z",
     "shell.execute_reply": "2022-08-28T02:57:38.995977Z"
    },
    "papermill": {
     "duration": 0.539828,
     "end_time": "2022-08-28T02:57:38.999900",
     "exception": false,
     "start_time": "2022-08-28T02:57:38.460072",
     "status": "completed"
    },
    "tags": []
   },
   "outputs": [
    {
     "data": {
      "text/html": [
       "<style type=\"text/css\">\n",
       "</style>\n",
       "<table id=\"T_ef138\">\n",
       "  <thead>\n",
       "    <tr>\n",
       "      <th class=\"blank level0\" >&nbsp;</th>\n",
       "      <th id=\"T_ef138_level0_col0\" class=\"col_heading level0 col0\" >Model</th>\n",
       "      <th id=\"T_ef138_level0_col1\" class=\"col_heading level0 col1\" >Accuracy</th>\n",
       "      <th id=\"T_ef138_level0_col2\" class=\"col_heading level0 col2\" >AUC</th>\n",
       "      <th id=\"T_ef138_level0_col3\" class=\"col_heading level0 col3\" >Recall</th>\n",
       "      <th id=\"T_ef138_level0_col4\" class=\"col_heading level0 col4\" >Prec.</th>\n",
       "      <th id=\"T_ef138_level0_col5\" class=\"col_heading level0 col5\" >F1</th>\n",
       "      <th id=\"T_ef138_level0_col6\" class=\"col_heading level0 col6\" >Kappa</th>\n",
       "      <th id=\"T_ef138_level0_col7\" class=\"col_heading level0 col7\" >MCC</th>\n",
       "    </tr>\n",
       "  </thead>\n",
       "  <tbody>\n",
       "    <tr>\n",
       "      <th id=\"T_ef138_level0_row0\" class=\"row_heading level0 row0\" >0</th>\n",
       "      <td id=\"T_ef138_row0_col0\" class=\"data row0 col0\" >Voting Classifier</td>\n",
       "      <td id=\"T_ef138_row0_col1\" class=\"data row0 col1\" >0.7876</td>\n",
       "      <td id=\"T_ef138_row0_col2\" class=\"data row0 col2\" >0.6049</td>\n",
       "      <td id=\"T_ef138_row0_col3\" class=\"data row0 col3\" >0.0047</td>\n",
       "      <td id=\"T_ef138_row0_col4\" class=\"data row0 col4\" >0.5714</td>\n",
       "      <td id=\"T_ef138_row0_col5\" class=\"data row0 col5\" >0.0094</td>\n",
       "      <td id=\"T_ef138_row0_col6\" class=\"data row0 col6\" >0.0059</td>\n",
       "      <td id=\"T_ef138_row0_col7\" class=\"data row0 col7\" >0.0368</td>\n",
       "    </tr>\n",
       "  </tbody>\n",
       "</table>\n"
      ],
      "text/plain": [
       "<pandas.io.formats.style.Styler at 0x1ba01615940>"
      ]
     },
     "metadata": {},
     "output_type": "display_data"
    }
   ],
   "source": [
    "predict_model(final_blended);"
   ]
  },
  {
   "cell_type": "code",
   "execution_count": 40,
   "id": "12a6fbbb",
   "metadata": {
    "execution": {
     "iopub.execute_input": "2022-08-28T02:57:39.064357Z",
     "iopub.status.busy": "2022-08-28T02:57:39.063907Z",
     "iopub.status.idle": "2022-08-28T02:57:39.068886Z",
     "shell.execute_reply": "2022-08-28T02:57:39.067760Z"
    },
    "papermill": {
     "duration": 0.040056,
     "end_time": "2022-08-28T02:57:39.071091",
     "exception": false,
     "start_time": "2022-08-28T02:57:39.031035",
     "status": "completed"
    },
    "tags": []
   },
   "outputs": [],
   "source": [
    "# Linear Discriminant Analysis\t0.7874\t0.5994"
   ]
  },
  {
   "cell_type": "code",
   "execution_count": 41,
   "id": "cb0e8990",
   "metadata": {
    "execution": {
     "iopub.execute_input": "2022-08-28T02:57:39.136481Z",
     "iopub.status.busy": "2022-08-28T02:57:39.135650Z",
     "iopub.status.idle": "2022-08-28T02:57:40.648472Z",
     "shell.execute_reply": "2022-08-28T02:57:40.646973Z"
    },
    "papermill": {
     "duration": 1.548534,
     "end_time": "2022-08-28T02:57:40.651070",
     "exception": false,
     "start_time": "2022-08-28T02:57:39.102536",
     "status": "completed"
    },
    "tags": []
   },
   "outputs": [
    {
     "data": {
      "text/html": [],
      "text/plain": [
       "<IPython.core.display.HTML object>"
      ]
     },
     "metadata": {},
     "output_type": "display_data"
    },
    {
     "data": {
      "text/html": [
       "<div>\n",
       "<style scoped>\n",
       "    .dataframe tbody tr th:only-of-type {\n",
       "        vertical-align: middle;\n",
       "    }\n",
       "\n",
       "    .dataframe tbody tr th {\n",
       "        vertical-align: top;\n",
       "    }\n",
       "\n",
       "    .dataframe thead th {\n",
       "        text-align: right;\n",
       "    }\n",
       "</style>\n",
       "<table border=\"1\" class=\"dataframe\">\n",
       "  <thead>\n",
       "    <tr style=\"text-align: right;\">\n",
       "      <th></th>\n",
       "      <th>loading</th>\n",
       "      <th>attribute_0</th>\n",
       "      <th>attribute_1_material_6</th>\n",
       "      <th>attribute_1_material_5</th>\n",
       "      <th>attribute_1_material_8</th>\n",
       "      <th>attribute_2</th>\n",
       "      <th>attribute_3</th>\n",
       "      <th>measurement_0</th>\n",
       "      <th>measurement_1</th>\n",
       "      <th>measurement_2</th>\n",
       "      <th>...</th>\n",
       "      <th>measurement_10</th>\n",
       "      <th>measurement_11</th>\n",
       "      <th>measurement_12</th>\n",
       "      <th>measurement_13</th>\n",
       "      <th>measurement_14</th>\n",
       "      <th>measurement_15</th>\n",
       "      <th>measurement_16</th>\n",
       "      <th>measurement_17</th>\n",
       "      <th>Label</th>\n",
       "      <th>Score</th>\n",
       "    </tr>\n",
       "  </thead>\n",
       "  <tbody>\n",
       "    <tr>\n",
       "      <th>4079</th>\n",
       "      <td>-0.32</td>\n",
       "      <td>-1.00</td>\n",
       "      <td>1.00</td>\n",
       "      <td>0.00</td>\n",
       "      <td>0.00</td>\n",
       "      <td>0.00</td>\n",
       "      <td>-2.00</td>\n",
       "      <td>0.50</td>\n",
       "      <td>0.67</td>\n",
       "      <td>1.25</td>\n",
       "      <td>...</td>\n",
       "      <td>-0.47</td>\n",
       "      <td>-0.54</td>\n",
       "      <td>0.31</td>\n",
       "      <td>-1.02</td>\n",
       "      <td>0.12</td>\n",
       "      <td>-0.11</td>\n",
       "      <td>0.38</td>\n",
       "      <td>-0.58</td>\n",
       "      <td>0</td>\n",
       "      <td>0.82</td>\n",
       "    </tr>\n",
       "    <tr>\n",
       "      <th>13271</th>\n",
       "      <td>-0.99</td>\n",
       "      <td>0.00</td>\n",
       "      <td>0.00</td>\n",
       "      <td>0.00</td>\n",
       "      <td>0.00</td>\n",
       "      <td>0.50</td>\n",
       "      <td>0.50</td>\n",
       "      <td>-0.67</td>\n",
       "      <td>-0.17</td>\n",
       "      <td>-1.50</td>\n",
       "      <td>...</td>\n",
       "      <td>0.73</td>\n",
       "      <td>-0.08</td>\n",
       "      <td>-0.98</td>\n",
       "      <td>-0.03</td>\n",
       "      <td>0.01</td>\n",
       "      <td>-0.35</td>\n",
       "      <td>0.56</td>\n",
       "      <td>-0.54</td>\n",
       "      <td>0</td>\n",
       "      <td>0.85</td>\n",
       "    </tr>\n",
       "    <tr>\n",
       "      <th>17609</th>\n",
       "      <td>-0.25</td>\n",
       "      <td>0.00</td>\n",
       "      <td>0.00</td>\n",
       "      <td>1.00</td>\n",
       "      <td>0.00</td>\n",
       "      <td>1.50</td>\n",
       "      <td>-1.50</td>\n",
       "      <td>-1.00</td>\n",
       "      <td>0.00</td>\n",
       "      <td>0.25</td>\n",
       "      <td>...</td>\n",
       "      <td>-0.41</td>\n",
       "      <td>0.93</td>\n",
       "      <td>0.61</td>\n",
       "      <td>0.84</td>\n",
       "      <td>-0.22</td>\n",
       "      <td>0.07</td>\n",
       "      <td>0.95</td>\n",
       "      <td>-1.23</td>\n",
       "      <td>0</td>\n",
       "      <td>0.82</td>\n",
       "    </tr>\n",
       "    <tr>\n",
       "      <th>19915</th>\n",
       "      <td>0.55</td>\n",
       "      <td>0.00</td>\n",
       "      <td>0.00</td>\n",
       "      <td>1.00</td>\n",
       "      <td>0.00</td>\n",
       "      <td>1.50</td>\n",
       "      <td>-1.50</td>\n",
       "      <td>-0.67</td>\n",
       "      <td>-0.33</td>\n",
       "      <td>-1.00</td>\n",
       "      <td>...</td>\n",
       "      <td>0.91</td>\n",
       "      <td>0.63</td>\n",
       "      <td>1.60</td>\n",
       "      <td>0.85</td>\n",
       "      <td>-0.40</td>\n",
       "      <td>-0.52</td>\n",
       "      <td>0.33</td>\n",
       "      <td>0.13</td>\n",
       "      <td>0</td>\n",
       "      <td>0.77</td>\n",
       "    </tr>\n",
       "    <tr>\n",
       "      <th>8161</th>\n",
       "      <td>-1.02</td>\n",
       "      <td>-1.00</td>\n",
       "      <td>1.00</td>\n",
       "      <td>0.00</td>\n",
       "      <td>0.00</td>\n",
       "      <td>1.50</td>\n",
       "      <td>-0.50</td>\n",
       "      <td>-1.00</td>\n",
       "      <td>-1.00</td>\n",
       "      <td>-0.50</td>\n",
       "      <td>...</td>\n",
       "      <td>-0.05</td>\n",
       "      <td>0.02</td>\n",
       "      <td>-0.52</td>\n",
       "      <td>-0.09</td>\n",
       "      <td>-1.64</td>\n",
       "      <td>1.01</td>\n",
       "      <td>0.67</td>\n",
       "      <td>-3.11</td>\n",
       "      <td>0</td>\n",
       "      <td>0.90</td>\n",
       "    </tr>\n",
       "    <tr>\n",
       "      <th>1336</th>\n",
       "      <td>-0.27</td>\n",
       "      <td>-1.00</td>\n",
       "      <td>1.00</td>\n",
       "      <td>0.00</td>\n",
       "      <td>0.00</td>\n",
       "      <td>0.00</td>\n",
       "      <td>-2.00</td>\n",
       "      <td>-0.50</td>\n",
       "      <td>0.00</td>\n",
       "      <td>0.50</td>\n",
       "      <td>...</td>\n",
       "      <td>-0.75</td>\n",
       "      <td>0.11</td>\n",
       "      <td>0.07</td>\n",
       "      <td>0.25</td>\n",
       "      <td>-1.03</td>\n",
       "      <td>-0.11</td>\n",
       "      <td>0.87</td>\n",
       "      <td>-1.83</td>\n",
       "      <td>0</td>\n",
       "      <td>0.84</td>\n",
       "    </tr>\n",
       "    <tr>\n",
       "      <th>4011</th>\n",
       "      <td>1.81</td>\n",
       "      <td>-1.00</td>\n",
       "      <td>1.00</td>\n",
       "      <td>0.00</td>\n",
       "      <td>0.00</td>\n",
       "      <td>0.00</td>\n",
       "      <td>-2.00</td>\n",
       "      <td>-0.33</td>\n",
       "      <td>0.83</td>\n",
       "      <td>1.50</td>\n",
       "      <td>...</td>\n",
       "      <td>-0.56</td>\n",
       "      <td>-0.31</td>\n",
       "      <td>0.16</td>\n",
       "      <td>-0.08</td>\n",
       "      <td>-0.13</td>\n",
       "      <td>-0.62</td>\n",
       "      <td>1.03</td>\n",
       "      <td>-0.31</td>\n",
       "      <td>0</td>\n",
       "      <td>0.66</td>\n",
       "    </tr>\n",
       "    <tr>\n",
       "      <th>17564</th>\n",
       "      <td>-0.01</td>\n",
       "      <td>0.00</td>\n",
       "      <td>0.00</td>\n",
       "      <td>1.00</td>\n",
       "      <td>0.00</td>\n",
       "      <td>1.50</td>\n",
       "      <td>-1.50</td>\n",
       "      <td>-0.17</td>\n",
       "      <td>0.17</td>\n",
       "      <td>-0.25</td>\n",
       "      <td>...</td>\n",
       "      <td>0.37</td>\n",
       "      <td>-0.34</td>\n",
       "      <td>0.84</td>\n",
       "      <td>-1.31</td>\n",
       "      <td>0.68</td>\n",
       "      <td>-0.31</td>\n",
       "      <td>-0.66</td>\n",
       "      <td>0.05</td>\n",
       "      <td>0</td>\n",
       "      <td>0.78</td>\n",
       "    </tr>\n",
       "    <tr>\n",
       "      <th>12061</th>\n",
       "      <td>-0.02</td>\n",
       "      <td>0.00</td>\n",
       "      <td>0.00</td>\n",
       "      <td>0.00</td>\n",
       "      <td>0.00</td>\n",
       "      <td>0.50</td>\n",
       "      <td>0.50</td>\n",
       "      <td>0.33</td>\n",
       "      <td>-0.83</td>\n",
       "      <td>-0.25</td>\n",
       "      <td>...</td>\n",
       "      <td>1.62</td>\n",
       "      <td>0.10</td>\n",
       "      <td>0.11</td>\n",
       "      <td>-0.45</td>\n",
       "      <td>1.02</td>\n",
       "      <td>-0.65</td>\n",
       "      <td>0.29</td>\n",
       "      <td>-0.02</td>\n",
       "      <td>0</td>\n",
       "      <td>0.76</td>\n",
       "    </tr>\n",
       "    <tr>\n",
       "      <th>799</th>\n",
       "      <td>-0.58</td>\n",
       "      <td>-1.00</td>\n",
       "      <td>1.00</td>\n",
       "      <td>0.00</td>\n",
       "      <td>0.00</td>\n",
       "      <td>0.00</td>\n",
       "      <td>-2.00</td>\n",
       "      <td>0.50</td>\n",
       "      <td>0.67</td>\n",
       "      <td>1.50</td>\n",
       "      <td>...</td>\n",
       "      <td>1.59</td>\n",
       "      <td>-0.42</td>\n",
       "      <td>-0.08</td>\n",
       "      <td>-0.02</td>\n",
       "      <td>0.85</td>\n",
       "      <td>1.25</td>\n",
       "      <td>-0.11</td>\n",
       "      <td>0.00</td>\n",
       "      <td>0</td>\n",
       "      <td>0.82</td>\n",
       "    </tr>\n",
       "    <tr>\n",
       "      <th>14596</th>\n",
       "      <td>-0.70</td>\n",
       "      <td>0.00</td>\n",
       "      <td>0.00</td>\n",
       "      <td>0.00</td>\n",
       "      <td>0.00</td>\n",
       "      <td>0.50</td>\n",
       "      <td>0.50</td>\n",
       "      <td>0.83</td>\n",
       "      <td>-0.17</td>\n",
       "      <td>-0.50</td>\n",
       "      <td>...</td>\n",
       "      <td>0.92</td>\n",
       "      <td>-0.90</td>\n",
       "      <td>0.50</td>\n",
       "      <td>-0.87</td>\n",
       "      <td>-0.25</td>\n",
       "      <td>0.24</td>\n",
       "      <td>0.62</td>\n",
       "      <td>-0.00</td>\n",
       "      <td>0</td>\n",
       "      <td>0.80</td>\n",
       "    </tr>\n",
       "    <tr>\n",
       "      <th>14044</th>\n",
       "      <td>-0.48</td>\n",
       "      <td>0.00</td>\n",
       "      <td>0.00</td>\n",
       "      <td>0.00</td>\n",
       "      <td>0.00</td>\n",
       "      <td>0.50</td>\n",
       "      <td>0.50</td>\n",
       "      <td>-0.17</td>\n",
       "      <td>-1.00</td>\n",
       "      <td>0.00</td>\n",
       "      <td>...</td>\n",
       "      <td>-0.99</td>\n",
       "      <td>0.26</td>\n",
       "      <td>1.28</td>\n",
       "      <td>-1.82</td>\n",
       "      <td>-0.24</td>\n",
       "      <td>1.09</td>\n",
       "      <td>0.32</td>\n",
       "      <td>-1.99</td>\n",
       "      <td>0</td>\n",
       "      <td>0.81</td>\n",
       "    </tr>\n",
       "    <tr>\n",
       "      <th>11370</th>\n",
       "      <td>0.73</td>\n",
       "      <td>0.00</td>\n",
       "      <td>0.00</td>\n",
       "      <td>0.00</td>\n",
       "      <td>0.00</td>\n",
       "      <td>0.50</td>\n",
       "      <td>0.50</td>\n",
       "      <td>-1.00</td>\n",
       "      <td>-1.00</td>\n",
       "      <td>0.75</td>\n",
       "      <td>...</td>\n",
       "      <td>-0.28</td>\n",
       "      <td>0.31</td>\n",
       "      <td>0.90</td>\n",
       "      <td>0.93</td>\n",
       "      <td>-0.58</td>\n",
       "      <td>0.78</td>\n",
       "      <td>0.60</td>\n",
       "      <td>-1.19</td>\n",
       "      <td>0</td>\n",
       "      <td>0.72</td>\n",
       "    </tr>\n",
       "    <tr>\n",
       "      <th>8471</th>\n",
       "      <td>-1.27</td>\n",
       "      <td>-1.00</td>\n",
       "      <td>1.00</td>\n",
       "      <td>0.00</td>\n",
       "      <td>0.00</td>\n",
       "      <td>1.50</td>\n",
       "      <td>-0.50</td>\n",
       "      <td>0.00</td>\n",
       "      <td>-0.33</td>\n",
       "      <td>-1.25</td>\n",
       "      <td>...</td>\n",
       "      <td>-0.43</td>\n",
       "      <td>0.42</td>\n",
       "      <td>0.27</td>\n",
       "      <td>-0.58</td>\n",
       "      <td>-0.61</td>\n",
       "      <td>-0.22</td>\n",
       "      <td>-0.01</td>\n",
       "      <td>1.43</td>\n",
       "      <td>0</td>\n",
       "      <td>0.87</td>\n",
       "    </tr>\n",
       "    <tr>\n",
       "      <th>16330</th>\n",
       "      <td>1.45</td>\n",
       "      <td>0.00</td>\n",
       "      <td>0.00</td>\n",
       "      <td>1.00</td>\n",
       "      <td>0.00</td>\n",
       "      <td>1.50</td>\n",
       "      <td>-1.50</td>\n",
       "      <td>-0.33</td>\n",
       "      <td>0.00</td>\n",
       "      <td>1.00</td>\n",
       "      <td>...</td>\n",
       "      <td>-0.12</td>\n",
       "      <td>-0.17</td>\n",
       "      <td>-0.51</td>\n",
       "      <td>1.24</td>\n",
       "      <td>0.28</td>\n",
       "      <td>-0.60</td>\n",
       "      <td>1.51</td>\n",
       "      <td>-0.26</td>\n",
       "      <td>0</td>\n",
       "      <td>0.67</td>\n",
       "    </tr>\n",
       "    <tr>\n",
       "      <th>2688</th>\n",
       "      <td>-0.79</td>\n",
       "      <td>-1.00</td>\n",
       "      <td>1.00</td>\n",
       "      <td>0.00</td>\n",
       "      <td>0.00</td>\n",
       "      <td>0.00</td>\n",
       "      <td>-2.00</td>\n",
       "      <td>1.00</td>\n",
       "      <td>0.17</td>\n",
       "      <td>-1.50</td>\n",
       "      <td>...</td>\n",
       "      <td>1.58</td>\n",
       "      <td>-1.62</td>\n",
       "      <td>0.21</td>\n",
       "      <td>-0.66</td>\n",
       "      <td>0.90</td>\n",
       "      <td>0.84</td>\n",
       "      <td>-0.79</td>\n",
       "      <td>0.95</td>\n",
       "      <td>0</td>\n",
       "      <td>0.85</td>\n",
       "    </tr>\n",
       "    <tr>\n",
       "      <th>4196</th>\n",
       "      <td>0.52</td>\n",
       "      <td>-1.00</td>\n",
       "      <td>1.00</td>\n",
       "      <td>0.00</td>\n",
       "      <td>0.00</td>\n",
       "      <td>0.00</td>\n",
       "      <td>-2.00</td>\n",
       "      <td>1.00</td>\n",
       "      <td>0.17</td>\n",
       "      <td>-1.50</td>\n",
       "      <td>...</td>\n",
       "      <td>0.19</td>\n",
       "      <td>-0.43</td>\n",
       "      <td>-0.33</td>\n",
       "      <td>-1.69</td>\n",
       "      <td>0.28</td>\n",
       "      <td>-0.30</td>\n",
       "      <td>-0.94</td>\n",
       "      <td>-1.63</td>\n",
       "      <td>0</td>\n",
       "      <td>0.80</td>\n",
       "    </tr>\n",
       "    <tr>\n",
       "      <th>11761</th>\n",
       "      <td>1.36</td>\n",
       "      <td>0.00</td>\n",
       "      <td>0.00</td>\n",
       "      <td>0.00</td>\n",
       "      <td>0.00</td>\n",
       "      <td>0.50</td>\n",
       "      <td>0.50</td>\n",
       "      <td>-0.67</td>\n",
       "      <td>-0.50</td>\n",
       "      <td>-0.75</td>\n",
       "      <td>...</td>\n",
       "      <td>-2.59</td>\n",
       "      <td>-2.17</td>\n",
       "      <td>-0.46</td>\n",
       "      <td>0.27</td>\n",
       "      <td>-0.51</td>\n",
       "      <td>-1.29</td>\n",
       "      <td>0.68</td>\n",
       "      <td>0.00</td>\n",
       "      <td>0</td>\n",
       "      <td>0.67</td>\n",
       "    </tr>\n",
       "    <tr>\n",
       "      <th>7051</th>\n",
       "      <td>0.09</td>\n",
       "      <td>-1.00</td>\n",
       "      <td>1.00</td>\n",
       "      <td>0.00</td>\n",
       "      <td>0.00</td>\n",
       "      <td>1.50</td>\n",
       "      <td>-0.50</td>\n",
       "      <td>0.33</td>\n",
       "      <td>2.50</td>\n",
       "      <td>-1.25</td>\n",
       "      <td>...</td>\n",
       "      <td>-0.22</td>\n",
       "      <td>1.38</td>\n",
       "      <td>0.16</td>\n",
       "      <td>-0.80</td>\n",
       "      <td>-2.39</td>\n",
       "      <td>0.74</td>\n",
       "      <td>0.22</td>\n",
       "      <td>0.06</td>\n",
       "      <td>0</td>\n",
       "      <td>0.84</td>\n",
       "    </tr>\n",
       "    <tr>\n",
       "      <th>605</th>\n",
       "      <td>-0.98</td>\n",
       "      <td>-1.00</td>\n",
       "      <td>1.00</td>\n",
       "      <td>0.00</td>\n",
       "      <td>0.00</td>\n",
       "      <td>0.00</td>\n",
       "      <td>-2.00</td>\n",
       "      <td>-0.50</td>\n",
       "      <td>0.17</td>\n",
       "      <td>0.75</td>\n",
       "      <td>...</td>\n",
       "      <td>-0.13</td>\n",
       "      <td>-0.69</td>\n",
       "      <td>-0.27</td>\n",
       "      <td>-0.94</td>\n",
       "      <td>0.43</td>\n",
       "      <td>-0.30</td>\n",
       "      <td>0.21</td>\n",
       "      <td>0.56</td>\n",
       "      <td>0</td>\n",
       "      <td>0.84</td>\n",
       "    </tr>\n",
       "    <tr>\n",
       "      <th>8741</th>\n",
       "      <td>-0.15</td>\n",
       "      <td>-1.00</td>\n",
       "      <td>1.00</td>\n",
       "      <td>0.00</td>\n",
       "      <td>0.00</td>\n",
       "      <td>1.50</td>\n",
       "      <td>-0.50</td>\n",
       "      <td>0.50</td>\n",
       "      <td>-0.67</td>\n",
       "      <td>-0.50</td>\n",
       "      <td>...</td>\n",
       "      <td>-1.25</td>\n",
       "      <td>0.64</td>\n",
       "      <td>0.21</td>\n",
       "      <td>-0.21</td>\n",
       "      <td>0.32</td>\n",
       "      <td>0.21</td>\n",
       "      <td>0.05</td>\n",
       "      <td>0.91</td>\n",
       "      <td>0</td>\n",
       "      <td>0.81</td>\n",
       "    </tr>\n",
       "    <tr>\n",
       "      <th>1852</th>\n",
       "      <td>1.58</td>\n",
       "      <td>-1.00</td>\n",
       "      <td>1.00</td>\n",
       "      <td>0.00</td>\n",
       "      <td>0.00</td>\n",
       "      <td>0.00</td>\n",
       "      <td>-2.00</td>\n",
       "      <td>0.00</td>\n",
       "      <td>-0.17</td>\n",
       "      <td>0.75</td>\n",
       "      <td>...</td>\n",
       "      <td>-0.22</td>\n",
       "      <td>-0.83</td>\n",
       "      <td>-0.80</td>\n",
       "      <td>1.46</td>\n",
       "      <td>-0.73</td>\n",
       "      <td>-0.03</td>\n",
       "      <td>0.30</td>\n",
       "      <td>0.00</td>\n",
       "      <td>0</td>\n",
       "      <td>0.67</td>\n",
       "    </tr>\n",
       "    <tr>\n",
       "      <th>18616</th>\n",
       "      <td>3.39</td>\n",
       "      <td>0.00</td>\n",
       "      <td>0.00</td>\n",
       "      <td>1.00</td>\n",
       "      <td>0.00</td>\n",
       "      <td>1.50</td>\n",
       "      <td>-1.50</td>\n",
       "      <td>-0.67</td>\n",
       "      <td>0.33</td>\n",
       "      <td>0.00</td>\n",
       "      <td>...</td>\n",
       "      <td>-0.08</td>\n",
       "      <td>-1.43</td>\n",
       "      <td>0.50</td>\n",
       "      <td>0.47</td>\n",
       "      <td>1.71</td>\n",
       "      <td>-0.70</td>\n",
       "      <td>0.16</td>\n",
       "      <td>-0.70</td>\n",
       "      <td>0</td>\n",
       "      <td>0.53</td>\n",
       "    </tr>\n",
       "    <tr>\n",
       "      <th>4576</th>\n",
       "      <td>0.58</td>\n",
       "      <td>-1.00</td>\n",
       "      <td>1.00</td>\n",
       "      <td>0.00</td>\n",
       "      <td>0.00</td>\n",
       "      <td>0.00</td>\n",
       "      <td>-2.00</td>\n",
       "      <td>0.83</td>\n",
       "      <td>0.33</td>\n",
       "      <td>-1.25</td>\n",
       "      <td>...</td>\n",
       "      <td>0.83</td>\n",
       "      <td>-0.92</td>\n",
       "      <td>0.12</td>\n",
       "      <td>-1.90</td>\n",
       "      <td>0.24</td>\n",
       "      <td>0.52</td>\n",
       "      <td>-0.69</td>\n",
       "      <td>-0.32</td>\n",
       "      <td>0</td>\n",
       "      <td>0.78</td>\n",
       "    </tr>\n",
       "    <tr>\n",
       "      <th>806</th>\n",
       "      <td>-0.70</td>\n",
       "      <td>-1.00</td>\n",
       "      <td>1.00</td>\n",
       "      <td>0.00</td>\n",
       "      <td>0.00</td>\n",
       "      <td>0.00</td>\n",
       "      <td>-2.00</td>\n",
       "      <td>0.33</td>\n",
       "      <td>0.00</td>\n",
       "      <td>0.25</td>\n",
       "      <td>...</td>\n",
       "      <td>-1.78</td>\n",
       "      <td>0.18</td>\n",
       "      <td>0.51</td>\n",
       "      <td>0.70</td>\n",
       "      <td>0.08</td>\n",
       "      <td>0.17</td>\n",
       "      <td>-0.01</td>\n",
       "      <td>1.89</td>\n",
       "      <td>0</td>\n",
       "      <td>0.82</td>\n",
       "    </tr>\n",
       "  </tbody>\n",
       "</table>\n",
       "<p>25 rows × 27 columns</p>\n",
       "</div>"
      ],
      "text/plain": [
       "       loading  attribute_0  attribute_1_material_6  attribute_1_material_5  \\\n",
       "4079     -0.32        -1.00                    1.00                    0.00   \n",
       "13271    -0.99         0.00                    0.00                    0.00   \n",
       "17609    -0.25         0.00                    0.00                    1.00   \n",
       "19915     0.55         0.00                    0.00                    1.00   \n",
       "8161     -1.02        -1.00                    1.00                    0.00   \n",
       "1336     -0.27        -1.00                    1.00                    0.00   \n",
       "4011      1.81        -1.00                    1.00                    0.00   \n",
       "17564    -0.01         0.00                    0.00                    1.00   \n",
       "12061    -0.02         0.00                    0.00                    0.00   \n",
       "799      -0.58        -1.00                    1.00                    0.00   \n",
       "14596    -0.70         0.00                    0.00                    0.00   \n",
       "14044    -0.48         0.00                    0.00                    0.00   \n",
       "11370     0.73         0.00                    0.00                    0.00   \n",
       "8471     -1.27        -1.00                    1.00                    0.00   \n",
       "16330     1.45         0.00                    0.00                    1.00   \n",
       "2688     -0.79        -1.00                    1.00                    0.00   \n",
       "4196      0.52        -1.00                    1.00                    0.00   \n",
       "11761     1.36         0.00                    0.00                    0.00   \n",
       "7051      0.09        -1.00                    1.00                    0.00   \n",
       "605      -0.98        -1.00                    1.00                    0.00   \n",
       "8741     -0.15        -1.00                    1.00                    0.00   \n",
       "1852      1.58        -1.00                    1.00                    0.00   \n",
       "18616     3.39         0.00                    0.00                    1.00   \n",
       "4576      0.58        -1.00                    1.00                    0.00   \n",
       "806      -0.70        -1.00                    1.00                    0.00   \n",
       "\n",
       "       attribute_1_material_8  attribute_2  attribute_3  measurement_0  \\\n",
       "4079                     0.00         0.00        -2.00           0.50   \n",
       "13271                    0.00         0.50         0.50          -0.67   \n",
       "17609                    0.00         1.50        -1.50          -1.00   \n",
       "19915                    0.00         1.50        -1.50          -0.67   \n",
       "8161                     0.00         1.50        -0.50          -1.00   \n",
       "1336                     0.00         0.00        -2.00          -0.50   \n",
       "4011                     0.00         0.00        -2.00          -0.33   \n",
       "17564                    0.00         1.50        -1.50          -0.17   \n",
       "12061                    0.00         0.50         0.50           0.33   \n",
       "799                      0.00         0.00        -2.00           0.50   \n",
       "14596                    0.00         0.50         0.50           0.83   \n",
       "14044                    0.00         0.50         0.50          -0.17   \n",
       "11370                    0.00         0.50         0.50          -1.00   \n",
       "8471                     0.00         1.50        -0.50           0.00   \n",
       "16330                    0.00         1.50        -1.50          -0.33   \n",
       "2688                     0.00         0.00        -2.00           1.00   \n",
       "4196                     0.00         0.00        -2.00           1.00   \n",
       "11761                    0.00         0.50         0.50          -0.67   \n",
       "7051                     0.00         1.50        -0.50           0.33   \n",
       "605                      0.00         0.00        -2.00          -0.50   \n",
       "8741                     0.00         1.50        -0.50           0.50   \n",
       "1852                     0.00         0.00        -2.00           0.00   \n",
       "18616                    0.00         1.50        -1.50          -0.67   \n",
       "4576                     0.00         0.00        -2.00           0.83   \n",
       "806                      0.00         0.00        -2.00           0.33   \n",
       "\n",
       "       measurement_1  measurement_2  ...  measurement_10  measurement_11  \\\n",
       "4079            0.67           1.25  ...           -0.47           -0.54   \n",
       "13271          -0.17          -1.50  ...            0.73           -0.08   \n",
       "17609           0.00           0.25  ...           -0.41            0.93   \n",
       "19915          -0.33          -1.00  ...            0.91            0.63   \n",
       "8161           -1.00          -0.50  ...           -0.05            0.02   \n",
       "1336            0.00           0.50  ...           -0.75            0.11   \n",
       "4011            0.83           1.50  ...           -0.56           -0.31   \n",
       "17564           0.17          -0.25  ...            0.37           -0.34   \n",
       "12061          -0.83          -0.25  ...            1.62            0.10   \n",
       "799             0.67           1.50  ...            1.59           -0.42   \n",
       "14596          -0.17          -0.50  ...            0.92           -0.90   \n",
       "14044          -1.00           0.00  ...           -0.99            0.26   \n",
       "11370          -1.00           0.75  ...           -0.28            0.31   \n",
       "8471           -0.33          -1.25  ...           -0.43            0.42   \n",
       "16330           0.00           1.00  ...           -0.12           -0.17   \n",
       "2688            0.17          -1.50  ...            1.58           -1.62   \n",
       "4196            0.17          -1.50  ...            0.19           -0.43   \n",
       "11761          -0.50          -0.75  ...           -2.59           -2.17   \n",
       "7051            2.50          -1.25  ...           -0.22            1.38   \n",
       "605             0.17           0.75  ...           -0.13           -0.69   \n",
       "8741           -0.67          -0.50  ...           -1.25            0.64   \n",
       "1852           -0.17           0.75  ...           -0.22           -0.83   \n",
       "18616           0.33           0.00  ...           -0.08           -1.43   \n",
       "4576            0.33          -1.25  ...            0.83           -0.92   \n",
       "806             0.00           0.25  ...           -1.78            0.18   \n",
       "\n",
       "       measurement_12  measurement_13  measurement_14  measurement_15  \\\n",
       "4079             0.31           -1.02            0.12           -0.11   \n",
       "13271           -0.98           -0.03            0.01           -0.35   \n",
       "17609            0.61            0.84           -0.22            0.07   \n",
       "19915            1.60            0.85           -0.40           -0.52   \n",
       "8161            -0.52           -0.09           -1.64            1.01   \n",
       "1336             0.07            0.25           -1.03           -0.11   \n",
       "4011             0.16           -0.08           -0.13           -0.62   \n",
       "17564            0.84           -1.31            0.68           -0.31   \n",
       "12061            0.11           -0.45            1.02           -0.65   \n",
       "799             -0.08           -0.02            0.85            1.25   \n",
       "14596            0.50           -0.87           -0.25            0.24   \n",
       "14044            1.28           -1.82           -0.24            1.09   \n",
       "11370            0.90            0.93           -0.58            0.78   \n",
       "8471             0.27           -0.58           -0.61           -0.22   \n",
       "16330           -0.51            1.24            0.28           -0.60   \n",
       "2688             0.21           -0.66            0.90            0.84   \n",
       "4196            -0.33           -1.69            0.28           -0.30   \n",
       "11761           -0.46            0.27           -0.51           -1.29   \n",
       "7051             0.16           -0.80           -2.39            0.74   \n",
       "605             -0.27           -0.94            0.43           -0.30   \n",
       "8741             0.21           -0.21            0.32            0.21   \n",
       "1852            -0.80            1.46           -0.73           -0.03   \n",
       "18616            0.50            0.47            1.71           -0.70   \n",
       "4576             0.12           -1.90            0.24            0.52   \n",
       "806              0.51            0.70            0.08            0.17   \n",
       "\n",
       "       measurement_16  measurement_17  Label  Score  \n",
       "4079             0.38           -0.58      0   0.82  \n",
       "13271            0.56           -0.54      0   0.85  \n",
       "17609            0.95           -1.23      0   0.82  \n",
       "19915            0.33            0.13      0   0.77  \n",
       "8161             0.67           -3.11      0   0.90  \n",
       "1336             0.87           -1.83      0   0.84  \n",
       "4011             1.03           -0.31      0   0.66  \n",
       "17564           -0.66            0.05      0   0.78  \n",
       "12061            0.29           -0.02      0   0.76  \n",
       "799             -0.11            0.00      0   0.82  \n",
       "14596            0.62           -0.00      0   0.80  \n",
       "14044            0.32           -1.99      0   0.81  \n",
       "11370            0.60           -1.19      0   0.72  \n",
       "8471            -0.01            1.43      0   0.87  \n",
       "16330            1.51           -0.26      0   0.67  \n",
       "2688            -0.79            0.95      0   0.85  \n",
       "4196            -0.94           -1.63      0   0.80  \n",
       "11761            0.68            0.00      0   0.67  \n",
       "7051             0.22            0.06      0   0.84  \n",
       "605              0.21            0.56      0   0.84  \n",
       "8741             0.05            0.91      0   0.81  \n",
       "1852             0.30            0.00      0   0.67  \n",
       "18616            0.16           -0.70      0   0.53  \n",
       "4576            -0.69           -0.32      0   0.78  \n",
       "806             -0.01            1.89      0   0.82  \n",
       "\n",
       "[25 rows x 27 columns]"
      ]
     },
     "execution_count": 41,
     "metadata": {},
     "output_type": "execute_result"
    }
   ],
   "source": [
    "unseen_predictions = predict_model(final_blended, data = tst_data, raw_score = False)\n",
    "unseen_predictions.sample(25)"
   ]
  },
  {
   "cell_type": "markdown",
   "id": "c7dc00d5",
   "metadata": {
    "papermill": {
     "duration": 0.032101,
     "end_time": "2022-08-28T02:57:40.716041",
     "exception": false,
     "start_time": "2022-08-28T02:57:40.683940",
     "status": "completed"
    },
    "tags": []
   },
   "source": [
    "---"
   ]
  },
  {
   "cell_type": "markdown",
   "id": "6daf7d11",
   "metadata": {
    "papermill": {
     "duration": 0.032466,
     "end_time": "2022-08-28T02:57:40.780737",
     "exception": false,
     "start_time": "2022-08-28T02:57:40.748271",
     "status": "completed"
    },
    "tags": []
   },
   "source": [
    "## Create a Submission File..."
   ]
  },
  {
   "cell_type": "code",
   "execution_count": 42,
   "id": "a91b3c70",
   "metadata": {
    "execution": {
     "iopub.execute_input": "2022-08-28T02:57:40.848253Z",
     "iopub.status.busy": "2022-08-28T02:57:40.847804Z",
     "iopub.status.idle": "2022-08-28T02:57:40.909677Z",
     "shell.execute_reply": "2022-08-28T02:57:40.908260Z"
    },
    "papermill": {
     "duration": 0.09901,
     "end_time": "2022-08-28T02:57:40.912823",
     "exception": false,
     "start_time": "2022-08-28T02:57:40.813813",
     "status": "completed"
    },
    "tags": []
   },
   "outputs": [
    {
     "name": "stdout",
     "output_type": "stream",
     "text": [
      "CPU times: total: 62.5 ms\n",
      "Wall time: 224 ms\n"
     ]
    },
    {
     "data": {
      "text/html": [
       "<div>\n",
       "<style scoped>\n",
       "    .dataframe tbody tr th:only-of-type {\n",
       "        vertical-align: middle;\n",
       "    }\n",
       "\n",
       "    .dataframe tbody tr th {\n",
       "        vertical-align: top;\n",
       "    }\n",
       "\n",
       "    .dataframe thead th {\n",
       "        text-align: right;\n",
       "    }\n",
       "</style>\n",
       "<table border=\"1\" class=\"dataframe\">\n",
       "  <thead>\n",
       "    <tr style=\"text-align: right;\">\n",
       "      <th></th>\n",
       "      <th>id</th>\n",
       "      <th>failure</th>\n",
       "    </tr>\n",
       "  </thead>\n",
       "  <tbody>\n",
       "    <tr>\n",
       "      <th>0</th>\n",
       "      <td>26570</td>\n",
       "      <td>0.20</td>\n",
       "    </tr>\n",
       "    <tr>\n",
       "      <th>1</th>\n",
       "      <td>26571</td>\n",
       "      <td>0.15</td>\n",
       "    </tr>\n",
       "    <tr>\n",
       "      <th>2</th>\n",
       "      <td>26572</td>\n",
       "      <td>0.18</td>\n",
       "    </tr>\n",
       "    <tr>\n",
       "      <th>3</th>\n",
       "      <td>26573</td>\n",
       "      <td>0.18</td>\n",
       "    </tr>\n",
       "    <tr>\n",
       "      <th>4</th>\n",
       "      <td>26574</td>\n",
       "      <td>0.34</td>\n",
       "    </tr>\n",
       "  </tbody>\n",
       "</table>\n",
       "</div>"
      ],
      "text/plain": [
       "      id  failure\n",
       "0  26570     0.20\n",
       "1  26571     0.15\n",
       "2  26572     0.18\n",
       "3  26573     0.18\n",
       "4  26574     0.34"
      ]
     },
     "execution_count": 42,
     "metadata": {},
     "output_type": "execute_result"
    }
   ],
   "source": [
    "%%time\n",
    "# ...\n",
    "submission['failure'] = 1 - unseen_predictions['Score']\n",
    "submission.to_csv('pycaret_lda_submission.csv', index = False)\n",
    "submission.head()  "
   ]
  },
  {
   "cell_type": "markdown",
   "id": "35b742b4",
   "metadata": {
    "papermill": {
     "duration": 0.031691,
     "end_time": "2022-08-28T02:57:40.977197",
     "exception": false,
     "start_time": "2022-08-28T02:57:40.945506",
     "status": "completed"
    },
    "tags": []
   },
   "source": [
    "---"
   ]
  },
  {
   "cell_type": "code",
   "execution_count": null,
   "id": "40f4ecd1",
   "metadata": {
    "papermill": {
     "duration": 0.032203,
     "end_time": "2022-08-28T02:57:41.041929",
     "exception": false,
     "start_time": "2022-08-28T02:57:41.009726",
     "status": "completed"
    },
    "tags": []
   },
   "outputs": [],
   "source": []
  }
 ],
 "metadata": {
  "kernelspec": {
   "display_name": "Python 3.10.4 ('ml_general')",
   "language": "python",
   "name": "python3"
  },
  "language_info": {
   "codemirror_mode": {
    "name": "ipython",
    "version": 3
   },
   "file_extension": ".py",
   "mimetype": "text/x-python",
   "name": "python",
   "nbconvert_exporter": "python",
   "pygments_lexer": "ipython3",
   "version": "3.10.4"
  },
  "papermill": {
   "default_parameters": {},
   "duration": 435.592421,
   "end_time": "2022-08-28T02:57:43.699423",
   "environment_variables": {},
   "exception": null,
   "input_path": "__notebook__.ipynb",
   "output_path": "__notebook__.ipynb",
   "parameters": {},
   "start_time": "2022-08-28T02:50:28.107002",
   "version": "2.3.4"
  },
  "vscode": {
   "interpreter": {
    "hash": "67e5eb89067d95a1a0947a31028cf9465f21e77887e4ef01d6b8c2d726ae553b"
   }
  },
  "widgets": {
   "application/vnd.jupyter.widget-state+json": {
    "state": {
     "0395030e550f47b99d7932a13fd4aa7e": {
      "model_module": "@jupyter-widgets/controls",
      "model_module_version": "1.5.0",
      "model_name": "ProgressStyleModel",
      "state": {
       "_model_module": "@jupyter-widgets/controls",
       "_model_module_version": "1.5.0",
       "_model_name": "ProgressStyleModel",
       "_view_count": null,
       "_view_module": "@jupyter-widgets/base",
       "_view_module_version": "1.2.0",
       "_view_name": "StyleView",
       "bar_color": null,
       "description_width": ""
      }
     },
     "042a5554e11844818869706368969454": {
      "model_module": "@jupyter-widgets/controls",
      "model_module_version": "1.5.0",
      "model_name": "ProgressStyleModel",
      "state": {
       "_model_module": "@jupyter-widgets/controls",
       "_model_module_version": "1.5.0",
       "_model_name": "ProgressStyleModel",
       "_view_count": null,
       "_view_module": "@jupyter-widgets/base",
       "_view_module_version": "1.2.0",
       "_view_name": "StyleView",
       "bar_color": null,
       "description_width": ""
      }
     },
     "145d3872ac9d489a8dbface52747d5cc": {
      "model_module": "@jupyter-widgets/controls",
      "model_module_version": "1.5.0",
      "model_name": "HTMLModel",
      "state": {
       "_dom_classes": [],
       "_model_module": "@jupyter-widgets/controls",
       "_model_module_version": "1.5.0",
       "_model_name": "HTMLModel",
       "_view_count": null,
       "_view_module": "@jupyter-widgets/controls",
       "_view_module_version": "1.5.0",
       "_view_name": "HTMLView",
       "description": "",
       "description_tooltip": null,
       "layout": "IPY_MODEL_4249a797f4b84f44ad46751072bd2431",
       "placeholder": "​",
       "style": "IPY_MODEL_297f2fe5929047a7a73ed0c736012a51",
       "value": " 7/7 [00:18&lt;00:00,  2.11s/it]"
      }
     },
     "1588dd0ae2bd4027a6d486e7774ad1c9": {
      "model_module": "@jupyter-widgets/base",
      "model_module_version": "1.2.0",
      "model_name": "LayoutModel",
      "state": {
       "_model_module": "@jupyter-widgets/base",
       "_model_module_version": "1.2.0",
       "_model_name": "LayoutModel",
       "_view_count": null,
       "_view_module": "@jupyter-widgets/base",
       "_view_module_version": "1.2.0",
       "_view_name": "LayoutView",
       "align_content": null,
       "align_items": null,
       "align_self": null,
       "border": null,
       "bottom": null,
       "display": null,
       "flex": null,
       "flex_flow": null,
       "grid_area": null,
       "grid_auto_columns": null,
       "grid_auto_flow": null,
       "grid_auto_rows": null,
       "grid_column": null,
       "grid_gap": null,
       "grid_row": null,
       "grid_template_areas": null,
       "grid_template_columns": null,
       "grid_template_rows": null,
       "height": null,
       "justify_content": null,
       "justify_items": null,
       "left": null,
       "margin": null,
       "max_height": null,
       "max_width": null,
       "min_height": null,
       "min_width": null,
       "object_fit": null,
       "object_position": null,
       "order": null,
       "overflow": null,
       "overflow_x": null,
       "overflow_y": null,
       "padding": null,
       "right": null,
       "top": null,
       "visibility": null,
       "width": null
      }
     },
     "1a0f94326f82486d82bfdc0dbb483df9": {
      "model_module": "@jupyter-widgets/controls",
      "model_module_version": "1.5.0",
      "model_name": "DescriptionStyleModel",
      "state": {
       "_model_module": "@jupyter-widgets/controls",
       "_model_module_version": "1.5.0",
       "_model_name": "DescriptionStyleModel",
       "_view_count": null,
       "_view_module": "@jupyter-widgets/base",
       "_view_module_version": "1.2.0",
       "_view_name": "StyleView",
       "description_width": ""
      }
     },
     "1d59160551be488081503b4d44ea93e4": {
      "model_module": "@jupyter-widgets/controls",
      "model_module_version": "1.5.0",
      "model_name": "FloatProgressModel",
      "state": {
       "_dom_classes": [],
       "_model_module": "@jupyter-widgets/controls",
       "_model_module_version": "1.5.0",
       "_model_name": "FloatProgressModel",
       "_view_count": null,
       "_view_module": "@jupyter-widgets/controls",
       "_view_module_version": "1.5.0",
       "_view_name": "ProgressView",
       "bar_style": "",
       "description": "",
       "description_tooltip": null,
       "layout": "IPY_MODEL_8d65d43e1eea4e23a0dec1981ba6e5af",
       "max": 4,
       "min": 0,
       "orientation": "horizontal",
       "style": "IPY_MODEL_f12b3388cedc43208bd3de98f6511c91",
       "value": 4
      }
     },
     "27c77acdab124ca6a53aea9718b96ed2": {
      "model_module": "@jupyter-widgets/controls",
      "model_module_version": "1.5.0",
      "model_name": "DescriptionStyleModel",
      "state": {
       "_model_module": "@jupyter-widgets/controls",
       "_model_module_version": "1.5.0",
       "_model_name": "DescriptionStyleModel",
       "_view_count": null,
       "_view_module": "@jupyter-widgets/base",
       "_view_module_version": "1.2.0",
       "_view_name": "StyleView",
       "description_width": ""
      }
     },
     "297f2fe5929047a7a73ed0c736012a51": {
      "model_module": "@jupyter-widgets/controls",
      "model_module_version": "1.5.0",
      "model_name": "DescriptionStyleModel",
      "state": {
       "_model_module": "@jupyter-widgets/controls",
       "_model_module_version": "1.5.0",
       "_model_name": "DescriptionStyleModel",
       "_view_count": null,
       "_view_module": "@jupyter-widgets/base",
       "_view_module_version": "1.2.0",
       "_view_name": "StyleView",
       "description_width": ""
      }
     },
     "2c5008d9676e4e3e9f4170bc526ce215": {
      "model_module": "@jupyter-widgets/controls",
      "model_module_version": "1.5.0",
      "model_name": "FloatProgressModel",
      "state": {
       "_dom_classes": [],
       "_model_module": "@jupyter-widgets/controls",
       "_model_module_version": "1.5.0",
       "_model_name": "FloatProgressModel",
       "_view_count": null,
       "_view_module": "@jupyter-widgets/controls",
       "_view_module_version": "1.5.0",
       "_view_name": "ProgressView",
       "bar_style": "",
       "description": "",
       "description_tooltip": null,
       "layout": "IPY_MODEL_78594db37dfb499c954a462e7a72179e",
       "max": 69,
       "min": 0,
       "orientation": "horizontal",
       "style": "IPY_MODEL_772a329faf5046afb02f033cd2487130",
       "value": 69
      }
     },
     "3085251930264990b5096da62cc9fcdf": {
      "model_module": "@jupyter-widgets/base",
      "model_module_version": "1.2.0",
      "model_name": "LayoutModel",
      "state": {
       "_model_module": "@jupyter-widgets/base",
       "_model_module_version": "1.2.0",
       "_model_name": "LayoutModel",
       "_view_count": null,
       "_view_module": "@jupyter-widgets/base",
       "_view_module_version": "1.2.0",
       "_view_name": "LayoutView",
       "align_content": null,
       "align_items": null,
       "align_self": null,
       "border": null,
       "bottom": null,
       "display": null,
       "flex": null,
       "flex_flow": null,
       "grid_area": null,
       "grid_auto_columns": null,
       "grid_auto_flow": null,
       "grid_auto_rows": null,
       "grid_column": null,
       "grid_gap": null,
       "grid_row": null,
       "grid_template_areas": null,
       "grid_template_columns": null,
       "grid_template_rows": null,
       "height": null,
       "justify_content": null,
       "justify_items": null,
       "left": null,
       "margin": null,
       "max_height": null,
       "max_width": null,
       "min_height": null,
       "min_width": null,
       "object_fit": null,
       "object_position": null,
       "order": null,
       "overflow": null,
       "overflow_x": null,
       "overflow_y": null,
       "padding": null,
       "right": null,
       "top": null,
       "visibility": null,
       "width": null
      }
     },
     "326ddea81fcf4244be4fe7be24f78292": {
      "model_module": "@jupyter-widgets/base",
      "model_module_version": "1.2.0",
      "model_name": "LayoutModel",
      "state": {
       "_model_module": "@jupyter-widgets/base",
       "_model_module_version": "1.2.0",
       "_model_name": "LayoutModel",
       "_view_count": null,
       "_view_module": "@jupyter-widgets/base",
       "_view_module_version": "1.2.0",
       "_view_name": "LayoutView",
       "align_content": null,
       "align_items": null,
       "align_self": null,
       "border": null,
       "bottom": null,
       "display": null,
       "flex": null,
       "flex_flow": null,
       "grid_area": null,
       "grid_auto_columns": null,
       "grid_auto_flow": null,
       "grid_auto_rows": null,
       "grid_column": null,
       "grid_gap": null,
       "grid_row": null,
       "grid_template_areas": null,
       "grid_template_columns": null,
       "grid_template_rows": null,
       "height": null,
       "justify_content": null,
       "justify_items": null,
       "left": null,
       "margin": null,
       "max_height": null,
       "max_width": null,
       "min_height": null,
       "min_width": null,
       "object_fit": null,
       "object_position": null,
       "order": null,
       "overflow": null,
       "overflow_x": null,
       "overflow_y": null,
       "padding": null,
       "right": null,
       "top": null,
       "visibility": null,
       "width": null
      }
     },
     "38087ca416c14be8929cd9d12b6a033e": {
      "model_module": "@jupyter-widgets/controls",
      "model_module_version": "1.5.0",
      "model_name": "ProgressStyleModel",
      "state": {
       "_model_module": "@jupyter-widgets/controls",
       "_model_module_version": "1.5.0",
       "_model_name": "ProgressStyleModel",
       "_view_count": null,
       "_view_module": "@jupyter-widgets/base",
       "_view_module_version": "1.2.0",
       "_view_name": "StyleView",
       "bar_color": null,
       "description_width": ""
      }
     },
     "3b03cad5bf9e46579ea685528b8a5ce1": {
      "model_module": "@jupyter-widgets/base",
      "model_module_version": "1.2.0",
      "model_name": "LayoutModel",
      "state": {
       "_model_module": "@jupyter-widgets/base",
       "_model_module_version": "1.2.0",
       "_model_name": "LayoutModel",
       "_view_count": null,
       "_view_module": "@jupyter-widgets/base",
       "_view_module_version": "1.2.0",
       "_view_name": "LayoutView",
       "align_content": null,
       "align_items": null,
       "align_self": null,
       "border": null,
       "bottom": null,
       "display": null,
       "flex": null,
       "flex_flow": null,
       "grid_area": null,
       "grid_auto_columns": null,
       "grid_auto_flow": null,
       "grid_auto_rows": null,
       "grid_column": null,
       "grid_gap": null,
       "grid_row": null,
       "grid_template_areas": null,
       "grid_template_columns": null,
       "grid_template_rows": null,
       "height": null,
       "justify_content": null,
       "justify_items": null,
       "left": null,
       "margin": null,
       "max_height": null,
       "max_width": null,
       "min_height": null,
       "min_width": null,
       "object_fit": null,
       "object_position": null,
       "order": null,
       "overflow": null,
       "overflow_x": null,
       "overflow_y": null,
       "padding": null,
       "right": null,
       "top": null,
       "visibility": null,
       "width": null
      }
     },
     "3c3fe7cd5f9e4744934f11ef562c5054": {
      "model_module": "@jupyter-widgets/controls",
      "model_module_version": "1.5.0",
      "model_name": "DescriptionStyleModel",
      "state": {
       "_model_module": "@jupyter-widgets/controls",
       "_model_module_version": "1.5.0",
       "_model_name": "DescriptionStyleModel",
       "_view_count": null,
       "_view_module": "@jupyter-widgets/base",
       "_view_module_version": "1.2.0",
       "_view_name": "StyleView",
       "description_width": ""
      }
     },
     "3f44021683fd47d391768041a59be580": {
      "model_module": "@jupyter-widgets/controls",
      "model_module_version": "1.5.0",
      "model_name": "HTMLModel",
      "state": {
       "_dom_classes": [],
       "_model_module": "@jupyter-widgets/controls",
       "_model_module_version": "1.5.0",
       "_model_name": "HTMLModel",
       "_view_count": null,
       "_view_module": "@jupyter-widgets/controls",
       "_view_module_version": "1.5.0",
       "_view_name": "HTMLView",
       "description": "",
       "description_tooltip": null,
       "layout": "IPY_MODEL_cb015c6ce65a47139a083af8adae2bb8",
       "placeholder": "​",
       "style": "IPY_MODEL_6c18b7dfa0074e15bd53a1337e594c4f",
       "value": "Processing: 100%"
      }
     },
     "417d59b7b3d54d17900bc6abf2859065": {
      "model_module": "@jupyter-widgets/controls",
      "model_module_version": "1.5.0",
      "model_name": "HTMLModel",
      "state": {
       "_dom_classes": [],
       "_model_module": "@jupyter-widgets/controls",
       "_model_module_version": "1.5.0",
       "_model_name": "HTMLModel",
       "_view_count": null,
       "_view_module": "@jupyter-widgets/controls",
       "_view_module_version": "1.5.0",
       "_view_name": "HTMLView",
       "description": "",
       "description_tooltip": null,
       "layout": "IPY_MODEL_b143456590b045a9b1ddc7339ecb6827",
       "placeholder": "​",
       "style": "IPY_MODEL_af1ac29e47bf445abc657898f7b26fb3",
       "value": "Processing: 100%"
      }
     },
     "4249a797f4b84f44ad46751072bd2431": {
      "model_module": "@jupyter-widgets/base",
      "model_module_version": "1.2.0",
      "model_name": "LayoutModel",
      "state": {
       "_model_module": "@jupyter-widgets/base",
       "_model_module_version": "1.2.0",
       "_model_name": "LayoutModel",
       "_view_count": null,
       "_view_module": "@jupyter-widgets/base",
       "_view_module_version": "1.2.0",
       "_view_name": "LayoutView",
       "align_content": null,
       "align_items": null,
       "align_self": null,
       "border": null,
       "bottom": null,
       "display": null,
       "flex": null,
       "flex_flow": null,
       "grid_area": null,
       "grid_auto_columns": null,
       "grid_auto_flow": null,
       "grid_auto_rows": null,
       "grid_column": null,
       "grid_gap": null,
       "grid_row": null,
       "grid_template_areas": null,
       "grid_template_columns": null,
       "grid_template_rows": null,
       "height": null,
       "justify_content": null,
       "justify_items": null,
       "left": null,
       "margin": null,
       "max_height": null,
       "max_width": null,
       "min_height": null,
       "min_width": null,
       "object_fit": null,
       "object_position": null,
       "order": null,
       "overflow": null,
       "overflow_x": null,
       "overflow_y": null,
       "padding": null,
       "right": null,
       "top": null,
       "visibility": null,
       "width": null
      }
     },
     "429efad90bc94fed8643890744a5c5dc": {
      "model_module": "@jupyter-widgets/base",
      "model_module_version": "1.2.0",
      "model_name": "LayoutModel",
      "state": {
       "_model_module": "@jupyter-widgets/base",
       "_model_module_version": "1.2.0",
       "_model_name": "LayoutModel",
       "_view_count": null,
       "_view_module": "@jupyter-widgets/base",
       "_view_module_version": "1.2.0",
       "_view_name": "LayoutView",
       "align_content": null,
       "align_items": null,
       "align_self": null,
       "border": null,
       "bottom": null,
       "display": null,
       "flex": null,
       "flex_flow": null,
       "grid_area": null,
       "grid_auto_columns": null,
       "grid_auto_flow": null,
       "grid_auto_rows": null,
       "grid_column": null,
       "grid_gap": null,
       "grid_row": null,
       "grid_template_areas": null,
       "grid_template_columns": null,
       "grid_template_rows": null,
       "height": null,
       "justify_content": null,
       "justify_items": null,
       "left": null,
       "margin": null,
       "max_height": null,
       "max_width": null,
       "min_height": null,
       "min_width": null,
       "object_fit": null,
       "object_position": null,
       "order": null,
       "overflow": null,
       "overflow_x": null,
       "overflow_y": null,
       "padding": null,
       "right": null,
       "top": null,
       "visibility": null,
       "width": null
      }
     },
     "4b342ca661f04c62a5cb73d43b26c407": {
      "model_module": "@jupyter-widgets/controls",
      "model_module_version": "1.5.0",
      "model_name": "HBoxModel",
      "state": {
       "_dom_classes": [],
       "_model_module": "@jupyter-widgets/controls",
       "_model_module_version": "1.5.0",
       "_model_name": "HBoxModel",
       "_view_count": null,
       "_view_module": "@jupyter-widgets/controls",
       "_view_module_version": "1.5.0",
       "_view_name": "HBoxView",
       "box_style": "",
       "children": [
        "IPY_MODEL_3f44021683fd47d391768041a59be580",
        "IPY_MODEL_2c5008d9676e4e3e9f4170bc526ce215",
        "IPY_MODEL_9af4de2564434055bc669720a2a636b4"
       ],
       "layout": "IPY_MODEL_55ed40a24f3548b2b1cedda6acf530be"
      }
     },
     "50937d03ae6943b68bc67975f25b1f16": {
      "model_module": "@jupyter-widgets/controls",
      "model_module_version": "1.5.0",
      "model_name": "DescriptionStyleModel",
      "state": {
       "_model_module": "@jupyter-widgets/controls",
       "_model_module_version": "1.5.0",
       "_model_name": "DescriptionStyleModel",
       "_view_count": null,
       "_view_module": "@jupyter-widgets/base",
       "_view_module_version": "1.2.0",
       "_view_name": "StyleView",
       "description_width": ""
      }
     },
     "54d987a178dc4627bcde33e6b004500d": {
      "model_module": "@jupyter-widgets/base",
      "model_module_version": "1.2.0",
      "model_name": "LayoutModel",
      "state": {
       "_model_module": "@jupyter-widgets/base",
       "_model_module_version": "1.2.0",
       "_model_name": "LayoutModel",
       "_view_count": null,
       "_view_module": "@jupyter-widgets/base",
       "_view_module_version": "1.2.0",
       "_view_name": "LayoutView",
       "align_content": null,
       "align_items": null,
       "align_self": null,
       "border": null,
       "bottom": null,
       "display": null,
       "flex": null,
       "flex_flow": null,
       "grid_area": null,
       "grid_auto_columns": null,
       "grid_auto_flow": null,
       "grid_auto_rows": null,
       "grid_column": null,
       "grid_gap": null,
       "grid_row": null,
       "grid_template_areas": null,
       "grid_template_columns": null,
       "grid_template_rows": null,
       "height": null,
       "justify_content": null,
       "justify_items": null,
       "left": null,
       "margin": null,
       "max_height": null,
       "max_width": null,
       "min_height": null,
       "min_width": null,
       "object_fit": null,
       "object_position": null,
       "order": null,
       "overflow": null,
       "overflow_x": null,
       "overflow_y": null,
       "padding": null,
       "right": null,
       "top": null,
       "visibility": null,
       "width": null
      }
     },
     "5555990f16104791a8d9969309015521": {
      "model_module": "@jupyter-widgets/base",
      "model_module_version": "1.2.0",
      "model_name": "LayoutModel",
      "state": {
       "_model_module": "@jupyter-widgets/base",
       "_model_module_version": "1.2.0",
       "_model_name": "LayoutModel",
       "_view_count": null,
       "_view_module": "@jupyter-widgets/base",
       "_view_module_version": "1.2.0",
       "_view_name": "LayoutView",
       "align_content": null,
       "align_items": null,
       "align_self": null,
       "border": null,
       "bottom": null,
       "display": null,
       "flex": null,
       "flex_flow": null,
       "grid_area": null,
       "grid_auto_columns": null,
       "grid_auto_flow": null,
       "grid_auto_rows": null,
       "grid_column": null,
       "grid_gap": null,
       "grid_row": null,
       "grid_template_areas": null,
       "grid_template_columns": null,
       "grid_template_rows": null,
       "height": null,
       "justify_content": null,
       "justify_items": null,
       "left": null,
       "margin": null,
       "max_height": null,
       "max_width": null,
       "min_height": null,
       "min_width": null,
       "object_fit": null,
       "object_position": null,
       "order": null,
       "overflow": null,
       "overflow_x": null,
       "overflow_y": null,
       "padding": null,
       "right": null,
       "top": null,
       "visibility": null,
       "width": null
      }
     },
     "55ed40a24f3548b2b1cedda6acf530be": {
      "model_module": "@jupyter-widgets/base",
      "model_module_version": "1.2.0",
      "model_name": "LayoutModel",
      "state": {
       "_model_module": "@jupyter-widgets/base",
       "_model_module_version": "1.2.0",
       "_model_name": "LayoutModel",
       "_view_count": null,
       "_view_module": "@jupyter-widgets/base",
       "_view_module_version": "1.2.0",
       "_view_name": "LayoutView",
       "align_content": null,
       "align_items": null,
       "align_self": null,
       "border": null,
       "bottom": null,
       "display": null,
       "flex": null,
       "flex_flow": null,
       "grid_area": null,
       "grid_auto_columns": null,
       "grid_auto_flow": null,
       "grid_auto_rows": null,
       "grid_column": null,
       "grid_gap": null,
       "grid_row": null,
       "grid_template_areas": null,
       "grid_template_columns": null,
       "grid_template_rows": null,
       "height": null,
       "justify_content": null,
       "justify_items": null,
       "left": null,
       "margin": null,
       "max_height": null,
       "max_width": null,
       "min_height": null,
       "min_width": null,
       "object_fit": null,
       "object_position": null,
       "order": null,
       "overflow": null,
       "overflow_x": null,
       "overflow_y": null,
       "padding": null,
       "right": null,
       "top": null,
       "visibility": null,
       "width": null
      }
     },
     "5c69e8a0ad274994985ce63aa5ad519a": {
      "model_module": "@jupyter-widgets/base",
      "model_module_version": "1.2.0",
      "model_name": "LayoutModel",
      "state": {
       "_model_module": "@jupyter-widgets/base",
       "_model_module_version": "1.2.0",
       "_model_name": "LayoutModel",
       "_view_count": null,
       "_view_module": "@jupyter-widgets/base",
       "_view_module_version": "1.2.0",
       "_view_name": "LayoutView",
       "align_content": null,
       "align_items": null,
       "align_self": null,
       "border": null,
       "bottom": null,
       "display": null,
       "flex": null,
       "flex_flow": null,
       "grid_area": null,
       "grid_auto_columns": null,
       "grid_auto_flow": null,
       "grid_auto_rows": null,
       "grid_column": null,
       "grid_gap": null,
       "grid_row": null,
       "grid_template_areas": null,
       "grid_template_columns": null,
       "grid_template_rows": null,
       "height": null,
       "justify_content": null,
       "justify_items": null,
       "left": null,
       "margin": null,
       "max_height": null,
       "max_width": null,
       "min_height": null,
       "min_width": null,
       "object_fit": null,
       "object_position": null,
       "order": null,
       "overflow": null,
       "overflow_x": null,
       "overflow_y": null,
       "padding": null,
       "right": null,
       "top": null,
       "visibility": null,
       "width": null
      }
     },
     "6620d94c73ed48be8f2ca814c40bf449": {
      "model_module": "@jupyter-widgets/controls",
      "model_module_version": "1.5.0",
      "model_name": "HBoxModel",
      "state": {
       "_dom_classes": [],
       "_model_module": "@jupyter-widgets/controls",
       "_model_module_version": "1.5.0",
       "_model_name": "HBoxModel",
       "_view_count": null,
       "_view_module": "@jupyter-widgets/controls",
       "_view_module_version": "1.5.0",
       "_view_name": "HBoxView",
       "box_style": "",
       "children": [
        "IPY_MODEL_b1c83416910a4202b365511e62ec26fc",
        "IPY_MODEL_1d59160551be488081503b4d44ea93e4",
        "IPY_MODEL_cb859de67470494588b141742c2508a8"
       ],
       "layout": "IPY_MODEL_8d10fb46bf9645c8ba2fa6716b9cbb42"
      }
     },
     "6ad0ae22aa0248b4996907f8e5d0655f": {
      "model_module": "@jupyter-widgets/base",
      "model_module_version": "1.2.0",
      "model_name": "LayoutModel",
      "state": {
       "_model_module": "@jupyter-widgets/base",
       "_model_module_version": "1.2.0",
       "_model_name": "LayoutModel",
       "_view_count": null,
       "_view_module": "@jupyter-widgets/base",
       "_view_module_version": "1.2.0",
       "_view_name": "LayoutView",
       "align_content": null,
       "align_items": null,
       "align_self": null,
       "border": null,
       "bottom": null,
       "display": null,
       "flex": null,
       "flex_flow": null,
       "grid_area": null,
       "grid_auto_columns": null,
       "grid_auto_flow": null,
       "grid_auto_rows": null,
       "grid_column": null,
       "grid_gap": null,
       "grid_row": null,
       "grid_template_areas": null,
       "grid_template_columns": null,
       "grid_template_rows": null,
       "height": null,
       "justify_content": null,
       "justify_items": null,
       "left": null,
       "margin": null,
       "max_height": null,
       "max_width": null,
       "min_height": null,
       "min_width": null,
       "object_fit": null,
       "object_position": null,
       "order": null,
       "overflow": null,
       "overflow_x": null,
       "overflow_y": null,
       "padding": null,
       "right": null,
       "top": null,
       "visibility": null,
       "width": null
      }
     },
     "6c18b7dfa0074e15bd53a1337e594c4f": {
      "model_module": "@jupyter-widgets/controls",
      "model_module_version": "1.5.0",
      "model_name": "DescriptionStyleModel",
      "state": {
       "_model_module": "@jupyter-widgets/controls",
       "_model_module_version": "1.5.0",
       "_model_name": "DescriptionStyleModel",
       "_view_count": null,
       "_view_module": "@jupyter-widgets/base",
       "_view_module_version": "1.2.0",
       "_view_name": "StyleView",
       "description_width": ""
      }
     },
     "6f12aaa8d24e405f84fc6e8075fe0518": {
      "model_module": "@jupyter-widgets/controls",
      "model_module_version": "1.5.0",
      "model_name": "HBoxModel",
      "state": {
       "_dom_classes": [],
       "_model_module": "@jupyter-widgets/controls",
       "_model_module_version": "1.5.0",
       "_model_name": "HBoxModel",
       "_view_count": null,
       "_view_module": "@jupyter-widgets/controls",
       "_view_module_version": "1.5.0",
       "_view_name": "HBoxView",
       "box_style": "",
       "children": [
        "IPY_MODEL_d232982c4b52441896081685962a59aa",
        "IPY_MODEL_8522e1eb687143fa81e823e6d746864a",
        "IPY_MODEL_d105e1faa1794b4a9b768158435146c6"
       ],
       "layout": "IPY_MODEL_54d987a178dc4627bcde33e6b004500d"
      }
     },
     "772a329faf5046afb02f033cd2487130": {
      "model_module": "@jupyter-widgets/controls",
      "model_module_version": "1.5.0",
      "model_name": "ProgressStyleModel",
      "state": {
       "_model_module": "@jupyter-widgets/controls",
       "_model_module_version": "1.5.0",
       "_model_name": "ProgressStyleModel",
       "_view_count": null,
       "_view_module": "@jupyter-widgets/base",
       "_view_module_version": "1.2.0",
       "_view_name": "StyleView",
       "bar_color": null,
       "description_width": ""
      }
     },
     "781a0d213e97426f906d60168bd87b97": {
      "model_module": "@jupyter-widgets/base",
      "model_module_version": "1.2.0",
      "model_name": "LayoutModel",
      "state": {
       "_model_module": "@jupyter-widgets/base",
       "_model_module_version": "1.2.0",
       "_model_name": "LayoutModel",
       "_view_count": null,
       "_view_module": "@jupyter-widgets/base",
       "_view_module_version": "1.2.0",
       "_view_name": "LayoutView",
       "align_content": null,
       "align_items": null,
       "align_self": null,
       "border": null,
       "bottom": null,
       "display": null,
       "flex": null,
       "flex_flow": null,
       "grid_area": null,
       "grid_auto_columns": null,
       "grid_auto_flow": null,
       "grid_auto_rows": null,
       "grid_column": null,
       "grid_gap": null,
       "grid_row": null,
       "grid_template_areas": null,
       "grid_template_columns": null,
       "grid_template_rows": null,
       "height": null,
       "justify_content": null,
       "justify_items": null,
       "left": null,
       "margin": null,
       "max_height": null,
       "max_width": null,
       "min_height": null,
       "min_width": null,
       "object_fit": null,
       "object_position": null,
       "order": null,
       "overflow": null,
       "overflow_x": null,
       "overflow_y": null,
       "padding": null,
       "right": null,
       "top": null,
       "visibility": null,
       "width": null
      }
     },
     "783272f827ba49ec9c798a91da07c2fc": {
      "model_module": "@jupyter-widgets/base",
      "model_module_version": "1.2.0",
      "model_name": "LayoutModel",
      "state": {
       "_model_module": "@jupyter-widgets/base",
       "_model_module_version": "1.2.0",
       "_model_name": "LayoutModel",
       "_view_count": null,
       "_view_module": "@jupyter-widgets/base",
       "_view_module_version": "1.2.0",
       "_view_name": "LayoutView",
       "align_content": null,
       "align_items": null,
       "align_self": null,
       "border": null,
       "bottom": null,
       "display": null,
       "flex": null,
       "flex_flow": null,
       "grid_area": null,
       "grid_auto_columns": null,
       "grid_auto_flow": null,
       "grid_auto_rows": null,
       "grid_column": null,
       "grid_gap": null,
       "grid_row": null,
       "grid_template_areas": null,
       "grid_template_columns": null,
       "grid_template_rows": null,
       "height": null,
       "justify_content": null,
       "justify_items": null,
       "left": null,
       "margin": null,
       "max_height": null,
       "max_width": null,
       "min_height": null,
       "min_width": null,
       "object_fit": null,
       "object_position": null,
       "order": null,
       "overflow": null,
       "overflow_x": null,
       "overflow_y": null,
       "padding": null,
       "right": null,
       "top": null,
       "visibility": null,
       "width": null
      }
     },
     "78594db37dfb499c954a462e7a72179e": {
      "model_module": "@jupyter-widgets/base",
      "model_module_version": "1.2.0",
      "model_name": "LayoutModel",
      "state": {
       "_model_module": "@jupyter-widgets/base",
       "_model_module_version": "1.2.0",
       "_model_name": "LayoutModel",
       "_view_count": null,
       "_view_module": "@jupyter-widgets/base",
       "_view_module_version": "1.2.0",
       "_view_name": "LayoutView",
       "align_content": null,
       "align_items": null,
       "align_self": null,
       "border": null,
       "bottom": null,
       "display": null,
       "flex": null,
       "flex_flow": null,
       "grid_area": null,
       "grid_auto_columns": null,
       "grid_auto_flow": null,
       "grid_auto_rows": null,
       "grid_column": null,
       "grid_gap": null,
       "grid_row": null,
       "grid_template_areas": null,
       "grid_template_columns": null,
       "grid_template_rows": null,
       "height": null,
       "justify_content": null,
       "justify_items": null,
       "left": null,
       "margin": null,
       "max_height": null,
       "max_width": null,
       "min_height": null,
       "min_width": null,
       "object_fit": null,
       "object_position": null,
       "order": null,
       "overflow": null,
       "overflow_x": null,
       "overflow_y": null,
       "padding": null,
       "right": null,
       "top": null,
       "visibility": null,
       "width": null
      }
     },
     "8522e1eb687143fa81e823e6d746864a": {
      "model_module": "@jupyter-widgets/controls",
      "model_module_version": "1.5.0",
      "model_name": "FloatProgressModel",
      "state": {
       "_dom_classes": [],
       "_model_module": "@jupyter-widgets/controls",
       "_model_module_version": "1.5.0",
       "_model_name": "FloatProgressModel",
       "_view_count": null,
       "_view_module": "@jupyter-widgets/controls",
       "_view_module_version": "1.5.0",
       "_view_name": "ProgressView",
       "bar_style": "",
       "description": "",
       "description_tooltip": null,
       "layout": "IPY_MODEL_d22478b700b043d6afffe3bfb1123f05",
       "max": 4,
       "min": 0,
       "orientation": "horizontal",
       "style": "IPY_MODEL_042a5554e11844818869706368969454",
       "value": 4
      }
     },
     "882da30168d14ea389a077d439a516d7": {
      "model_module": "@jupyter-widgets/controls",
      "model_module_version": "1.5.0",
      "model_name": "DescriptionStyleModel",
      "state": {
       "_model_module": "@jupyter-widgets/controls",
       "_model_module_version": "1.5.0",
       "_model_name": "DescriptionStyleModel",
       "_view_count": null,
       "_view_module": "@jupyter-widgets/base",
       "_view_module_version": "1.2.0",
       "_view_name": "StyleView",
       "description_width": ""
      }
     },
     "88fb980776f64651a1714ba3a0e0086e": {
      "model_module": "@jupyter-widgets/base",
      "model_module_version": "1.2.0",
      "model_name": "LayoutModel",
      "state": {
       "_model_module": "@jupyter-widgets/base",
       "_model_module_version": "1.2.0",
       "_model_name": "LayoutModel",
       "_view_count": null,
       "_view_module": "@jupyter-widgets/base",
       "_view_module_version": "1.2.0",
       "_view_name": "LayoutView",
       "align_content": null,
       "align_items": null,
       "align_self": null,
       "border": null,
       "bottom": null,
       "display": null,
       "flex": null,
       "flex_flow": null,
       "grid_area": null,
       "grid_auto_columns": null,
       "grid_auto_flow": null,
       "grid_auto_rows": null,
       "grid_column": null,
       "grid_gap": null,
       "grid_row": null,
       "grid_template_areas": null,
       "grid_template_columns": null,
       "grid_template_rows": null,
       "height": null,
       "justify_content": null,
       "justify_items": null,
       "left": null,
       "margin": null,
       "max_height": null,
       "max_width": null,
       "min_height": null,
       "min_width": null,
       "object_fit": null,
       "object_position": null,
       "order": null,
       "overflow": null,
       "overflow_x": null,
       "overflow_y": null,
       "padding": null,
       "right": null,
       "top": null,
       "visibility": null,
       "width": null
      }
     },
     "8914acaaf65e48048de66fcb9085c2e2": {
      "model_module": "@jupyter-widgets/controls",
      "model_module_version": "1.5.0",
      "model_name": "HTMLModel",
      "state": {
       "_dom_classes": [],
       "_model_module": "@jupyter-widgets/controls",
       "_model_module_version": "1.5.0",
       "_model_name": "HTMLModel",
       "_view_count": null,
       "_view_module": "@jupyter-widgets/controls",
       "_view_module_version": "1.5.0",
       "_view_name": "HTMLView",
       "description": "",
       "description_tooltip": null,
       "layout": "IPY_MODEL_5c69e8a0ad274994985ce63aa5ad519a",
       "placeholder": "​",
       "style": "IPY_MODEL_c002a2fc4d0c425b8b327cef55cdc1c9",
       "value": " 6/6 [00:02&lt;00:00,  2.19it/s]"
      }
     },
     "8d10fb46bf9645c8ba2fa6716b9cbb42": {
      "model_module": "@jupyter-widgets/base",
      "model_module_version": "1.2.0",
      "model_name": "LayoutModel",
      "state": {
       "_model_module": "@jupyter-widgets/base",
       "_model_module_version": "1.2.0",
       "_model_name": "LayoutModel",
       "_view_count": null,
       "_view_module": "@jupyter-widgets/base",
       "_view_module_version": "1.2.0",
       "_view_name": "LayoutView",
       "align_content": null,
       "align_items": null,
       "align_self": null,
       "border": null,
       "bottom": null,
       "display": null,
       "flex": null,
       "flex_flow": null,
       "grid_area": null,
       "grid_auto_columns": null,
       "grid_auto_flow": null,
       "grid_auto_rows": null,
       "grid_column": null,
       "grid_gap": null,
       "grid_row": null,
       "grid_template_areas": null,
       "grid_template_columns": null,
       "grid_template_rows": null,
       "height": null,
       "justify_content": null,
       "justify_items": null,
       "left": null,
       "margin": null,
       "max_height": null,
       "max_width": null,
       "min_height": null,
       "min_width": null,
       "object_fit": null,
       "object_position": null,
       "order": null,
       "overflow": null,
       "overflow_x": null,
       "overflow_y": null,
       "padding": null,
       "right": null,
       "top": null,
       "visibility": null,
       "width": null
      }
     },
     "8d65d43e1eea4e23a0dec1981ba6e5af": {
      "model_module": "@jupyter-widgets/base",
      "model_module_version": "1.2.0",
      "model_name": "LayoutModel",
      "state": {
       "_model_module": "@jupyter-widgets/base",
       "_model_module_version": "1.2.0",
       "_model_name": "LayoutModel",
       "_view_count": null,
       "_view_module": "@jupyter-widgets/base",
       "_view_module_version": "1.2.0",
       "_view_name": "LayoutView",
       "align_content": null,
       "align_items": null,
       "align_self": null,
       "border": null,
       "bottom": null,
       "display": null,
       "flex": null,
       "flex_flow": null,
       "grid_area": null,
       "grid_auto_columns": null,
       "grid_auto_flow": null,
       "grid_auto_rows": null,
       "grid_column": null,
       "grid_gap": null,
       "grid_row": null,
       "grid_template_areas": null,
       "grid_template_columns": null,
       "grid_template_rows": null,
       "height": null,
       "justify_content": null,
       "justify_items": null,
       "left": null,
       "margin": null,
       "max_height": null,
       "max_width": null,
       "min_height": null,
       "min_width": null,
       "object_fit": null,
       "object_position": null,
       "order": null,
       "overflow": null,
       "overflow_x": null,
       "overflow_y": null,
       "padding": null,
       "right": null,
       "top": null,
       "visibility": null,
       "width": null
      }
     },
     "9af4de2564434055bc669720a2a636b4": {
      "model_module": "@jupyter-widgets/controls",
      "model_module_version": "1.5.0",
      "model_name": "HTMLModel",
      "state": {
       "_dom_classes": [],
       "_model_module": "@jupyter-widgets/controls",
       "_model_module_version": "1.5.0",
       "_model_name": "HTMLModel",
       "_view_count": null,
       "_view_module": "@jupyter-widgets/controls",
       "_view_module_version": "1.5.0",
       "_view_name": "HTMLView",
       "description": "",
       "description_tooltip": null,
       "layout": "IPY_MODEL_6ad0ae22aa0248b4996907f8e5d0655f",
       "placeholder": "​",
       "style": "IPY_MODEL_882da30168d14ea389a077d439a516d7",
       "value": " 69/69 [04:40&lt;00:00,  4.64s/it]"
      }
     },
     "9d77fce56bba478087d02d54ddfd75e3": {
      "model_module": "@jupyter-widgets/controls",
      "model_module_version": "1.5.0",
      "model_name": "HBoxModel",
      "state": {
       "_dom_classes": [],
       "_model_module": "@jupyter-widgets/controls",
       "_model_module_version": "1.5.0",
       "_model_name": "HBoxModel",
       "_view_count": null,
       "_view_module": "@jupyter-widgets/controls",
       "_view_module_version": "1.5.0",
       "_view_name": "HBoxView",
       "box_style": "",
       "children": [
        "IPY_MODEL_b0a4f622e8714cccaa18561179b24bff",
        "IPY_MODEL_de1f72c8024b460ba88dee9908b97711",
        "IPY_MODEL_b0df31b7fcbb489bbdcc45cb19d8638d"
       ],
       "layout": "IPY_MODEL_3b03cad5bf9e46579ea685528b8a5ce1"
      }
     },
     "a9aa4e832c824e68a58f8e4a28ceaf21": {
      "model_module": "@jupyter-widgets/controls",
      "model_module_version": "1.5.0",
      "model_name": "HBoxModel",
      "state": {
       "_dom_classes": [],
       "_model_module": "@jupyter-widgets/controls",
       "_model_module_version": "1.5.0",
       "_model_name": "HBoxModel",
       "_view_count": null,
       "_view_module": "@jupyter-widgets/controls",
       "_view_module_version": "1.5.0",
       "_view_name": "HBoxView",
       "box_style": "",
       "children": [
        "IPY_MODEL_417d59b7b3d54d17900bc6abf2859065",
        "IPY_MODEL_d33d6853fa094076ae7617e29fdcd969",
        "IPY_MODEL_145d3872ac9d489a8dbface52747d5cc"
       ],
       "layout": "IPY_MODEL_5555990f16104791a8d9969309015521"
      }
     },
     "af09381b44d5416691083107ee7b06ed": {
      "model_module": "@jupyter-widgets/controls",
      "model_module_version": "1.5.0",
      "model_name": "FloatProgressModel",
      "state": {
       "_dom_classes": [],
       "_model_module": "@jupyter-widgets/controls",
       "_model_module_version": "1.5.0",
       "_model_name": "FloatProgressModel",
       "_view_count": null,
       "_view_module": "@jupyter-widgets/controls",
       "_view_module_version": "1.5.0",
       "_view_name": "ProgressView",
       "bar_style": "",
       "description": "",
       "description_tooltip": null,
       "layout": "IPY_MODEL_326ddea81fcf4244be4fe7be24f78292",
       "max": 6,
       "min": 0,
       "orientation": "horizontal",
       "style": "IPY_MODEL_0395030e550f47b99d7932a13fd4aa7e",
       "value": 6
      }
     },
     "af1ac29e47bf445abc657898f7b26fb3": {
      "model_module": "@jupyter-widgets/controls",
      "model_module_version": "1.5.0",
      "model_name": "DescriptionStyleModel",
      "state": {
       "_model_module": "@jupyter-widgets/controls",
       "_model_module_version": "1.5.0",
       "_model_name": "DescriptionStyleModel",
       "_view_count": null,
       "_view_module": "@jupyter-widgets/base",
       "_view_module_version": "1.2.0",
       "_view_name": "StyleView",
       "description_width": ""
      }
     },
     "b0a4f622e8714cccaa18561179b24bff": {
      "model_module": "@jupyter-widgets/controls",
      "model_module_version": "1.5.0",
      "model_name": "HTMLModel",
      "state": {
       "_dom_classes": [],
       "_model_module": "@jupyter-widgets/controls",
       "_model_module_version": "1.5.0",
       "_model_name": "HTMLModel",
       "_view_count": null,
       "_view_module": "@jupyter-widgets/controls",
       "_view_module_version": "1.5.0",
       "_view_name": "HTMLView",
       "description": "",
       "description_tooltip": null,
       "layout": "IPY_MODEL_bf3ea065f46c499f8d06987ac01f1690",
       "placeholder": "​",
       "style": "IPY_MODEL_27c77acdab124ca6a53aea9718b96ed2",
       "value": "Processing: 100%"
      }
     },
     "b0df31b7fcbb489bbdcc45cb19d8638d": {
      "model_module": "@jupyter-widgets/controls",
      "model_module_version": "1.5.0",
      "model_name": "HTMLModel",
      "state": {
       "_dom_classes": [],
       "_model_module": "@jupyter-widgets/controls",
       "_model_module_version": "1.5.0",
       "_model_name": "HTMLModel",
       "_view_count": null,
       "_view_module": "@jupyter-widgets/controls",
       "_view_module_version": "1.5.0",
       "_view_name": "HTMLView",
       "description": "",
       "description_tooltip": null,
       "layout": "IPY_MODEL_781a0d213e97426f906d60168bd87b97",
       "placeholder": "​",
       "style": "IPY_MODEL_b763e069940e4eb9aa472ebdb12258c2",
       "value": " 7/7 [00:17&lt;00:00,  1.98s/it]"
      }
     },
     "b143456590b045a9b1ddc7339ecb6827": {
      "model_module": "@jupyter-widgets/base",
      "model_module_version": "1.2.0",
      "model_name": "LayoutModel",
      "state": {
       "_model_module": "@jupyter-widgets/base",
       "_model_module_version": "1.2.0",
       "_model_name": "LayoutModel",
       "_view_count": null,
       "_view_module": "@jupyter-widgets/base",
       "_view_module_version": "1.2.0",
       "_view_name": "LayoutView",
       "align_content": null,
       "align_items": null,
       "align_self": null,
       "border": null,
       "bottom": null,
       "display": null,
       "flex": null,
       "flex_flow": null,
       "grid_area": null,
       "grid_auto_columns": null,
       "grid_auto_flow": null,
       "grid_auto_rows": null,
       "grid_column": null,
       "grid_gap": null,
       "grid_row": null,
       "grid_template_areas": null,
       "grid_template_columns": null,
       "grid_template_rows": null,
       "height": null,
       "justify_content": null,
       "justify_items": null,
       "left": null,
       "margin": null,
       "max_height": null,
       "max_width": null,
       "min_height": null,
       "min_width": null,
       "object_fit": null,
       "object_position": null,
       "order": null,
       "overflow": null,
       "overflow_x": null,
       "overflow_y": null,
       "padding": null,
       "right": null,
       "top": null,
       "visibility": null,
       "width": null
      }
     },
     "b1c83416910a4202b365511e62ec26fc": {
      "model_module": "@jupyter-widgets/controls",
      "model_module_version": "1.5.0",
      "model_name": "HTMLModel",
      "state": {
       "_dom_classes": [],
       "_model_module": "@jupyter-widgets/controls",
       "_model_module_version": "1.5.0",
       "_model_name": "HTMLModel",
       "_view_count": null,
       "_view_module": "@jupyter-widgets/controls",
       "_view_module_version": "1.5.0",
       "_view_name": "HTMLView",
       "description": "",
       "description_tooltip": null,
       "layout": "IPY_MODEL_fe0047eaaef4462bbd8edbd8b9b14628",
       "placeholder": "​",
       "style": "IPY_MODEL_50937d03ae6943b68bc67975f25b1f16",
       "value": "Processing: 100%"
      }
     },
     "b763e069940e4eb9aa472ebdb12258c2": {
      "model_module": "@jupyter-widgets/controls",
      "model_module_version": "1.5.0",
      "model_name": "DescriptionStyleModel",
      "state": {
       "_model_module": "@jupyter-widgets/controls",
       "_model_module_version": "1.5.0",
       "_model_name": "DescriptionStyleModel",
       "_view_count": null,
       "_view_module": "@jupyter-widgets/base",
       "_view_module_version": "1.2.0",
       "_view_name": "StyleView",
       "description_width": ""
      }
     },
     "bdecb0502942458cbab743caa2601f92": {
      "model_module": "@jupyter-widgets/base",
      "model_module_version": "1.2.0",
      "model_name": "LayoutModel",
      "state": {
       "_model_module": "@jupyter-widgets/base",
       "_model_module_version": "1.2.0",
       "_model_name": "LayoutModel",
       "_view_count": null,
       "_view_module": "@jupyter-widgets/base",
       "_view_module_version": "1.2.0",
       "_view_name": "LayoutView",
       "align_content": null,
       "align_items": null,
       "align_self": null,
       "border": null,
       "bottom": null,
       "display": null,
       "flex": null,
       "flex_flow": null,
       "grid_area": null,
       "grid_auto_columns": null,
       "grid_auto_flow": null,
       "grid_auto_rows": null,
       "grid_column": null,
       "grid_gap": null,
       "grid_row": null,
       "grid_template_areas": null,
       "grid_template_columns": null,
       "grid_template_rows": null,
       "height": null,
       "justify_content": null,
       "justify_items": null,
       "left": null,
       "margin": null,
       "max_height": null,
       "max_width": null,
       "min_height": null,
       "min_width": null,
       "object_fit": null,
       "object_position": null,
       "order": null,
       "overflow": null,
       "overflow_x": null,
       "overflow_y": null,
       "padding": null,
       "right": null,
       "top": null,
       "visibility": null,
       "width": null
      }
     },
     "bf3ea065f46c499f8d06987ac01f1690": {
      "model_module": "@jupyter-widgets/base",
      "model_module_version": "1.2.0",
      "model_name": "LayoutModel",
      "state": {
       "_model_module": "@jupyter-widgets/base",
       "_model_module_version": "1.2.0",
       "_model_name": "LayoutModel",
       "_view_count": null,
       "_view_module": "@jupyter-widgets/base",
       "_view_module_version": "1.2.0",
       "_view_name": "LayoutView",
       "align_content": null,
       "align_items": null,
       "align_self": null,
       "border": null,
       "bottom": null,
       "display": null,
       "flex": null,
       "flex_flow": null,
       "grid_area": null,
       "grid_auto_columns": null,
       "grid_auto_flow": null,
       "grid_auto_rows": null,
       "grid_column": null,
       "grid_gap": null,
       "grid_row": null,
       "grid_template_areas": null,
       "grid_template_columns": null,
       "grid_template_rows": null,
       "height": null,
       "justify_content": null,
       "justify_items": null,
       "left": null,
       "margin": null,
       "max_height": null,
       "max_width": null,
       "min_height": null,
       "min_width": null,
       "object_fit": null,
       "object_position": null,
       "order": null,
       "overflow": null,
       "overflow_x": null,
       "overflow_y": null,
       "padding": null,
       "right": null,
       "top": null,
       "visibility": null,
       "width": null
      }
     },
     "c002a2fc4d0c425b8b327cef55cdc1c9": {
      "model_module": "@jupyter-widgets/controls",
      "model_module_version": "1.5.0",
      "model_name": "DescriptionStyleModel",
      "state": {
       "_model_module": "@jupyter-widgets/controls",
       "_model_module_version": "1.5.0",
       "_model_name": "DescriptionStyleModel",
       "_view_count": null,
       "_view_module": "@jupyter-widgets/base",
       "_view_module_version": "1.2.0",
       "_view_name": "StyleView",
       "description_width": ""
      }
     },
     "c1d0354acac74f6fad9c69746a0b04cf": {
      "model_module": "@jupyter-widgets/controls",
      "model_module_version": "1.5.0",
      "model_name": "DescriptionStyleModel",
      "state": {
       "_model_module": "@jupyter-widgets/controls",
       "_model_module_version": "1.5.0",
       "_model_name": "DescriptionStyleModel",
       "_view_count": null,
       "_view_module": "@jupyter-widgets/base",
       "_view_module_version": "1.2.0",
       "_view_name": "StyleView",
       "description_width": ""
      }
     },
     "cb015c6ce65a47139a083af8adae2bb8": {
      "model_module": "@jupyter-widgets/base",
      "model_module_version": "1.2.0",
      "model_name": "LayoutModel",
      "state": {
       "_model_module": "@jupyter-widgets/base",
       "_model_module_version": "1.2.0",
       "_model_name": "LayoutModel",
       "_view_count": null,
       "_view_module": "@jupyter-widgets/base",
       "_view_module_version": "1.2.0",
       "_view_name": "LayoutView",
       "align_content": null,
       "align_items": null,
       "align_self": null,
       "border": null,
       "bottom": null,
       "display": null,
       "flex": null,
       "flex_flow": null,
       "grid_area": null,
       "grid_auto_columns": null,
       "grid_auto_flow": null,
       "grid_auto_rows": null,
       "grid_column": null,
       "grid_gap": null,
       "grid_row": null,
       "grid_template_areas": null,
       "grid_template_columns": null,
       "grid_template_rows": null,
       "height": null,
       "justify_content": null,
       "justify_items": null,
       "left": null,
       "margin": null,
       "max_height": null,
       "max_width": null,
       "min_height": null,
       "min_width": null,
       "object_fit": null,
       "object_position": null,
       "order": null,
       "overflow": null,
       "overflow_x": null,
       "overflow_y": null,
       "padding": null,
       "right": null,
       "top": null,
       "visibility": null,
       "width": null
      }
     },
     "cb859de67470494588b141742c2508a8": {
      "model_module": "@jupyter-widgets/controls",
      "model_module_version": "1.5.0",
      "model_name": "HTMLModel",
      "state": {
       "_dom_classes": [],
       "_model_module": "@jupyter-widgets/controls",
       "_model_module_version": "1.5.0",
       "_model_name": "HTMLModel",
       "_view_count": null,
       "_view_module": "@jupyter-widgets/controls",
       "_view_module_version": "1.5.0",
       "_view_name": "HTMLView",
       "description": "",
       "description_tooltip": null,
       "layout": "IPY_MODEL_f6b9e7d1e52f4cc1a10f89efd47c4c54",
       "placeholder": "​",
       "style": "IPY_MODEL_c1d0354acac74f6fad9c69746a0b04cf",
       "value": " 4/4 [00:02&lt;00:00,  1.64it/s]"
      }
     },
     "cf24e679e3bf43758b4c244af9d5028b": {
      "model_module": "@jupyter-widgets/controls",
      "model_module_version": "1.5.0",
      "model_name": "HBoxModel",
      "state": {
       "_dom_classes": [],
       "_model_module": "@jupyter-widgets/controls",
       "_model_module_version": "1.5.0",
       "_model_name": "HBoxModel",
       "_view_count": null,
       "_view_module": "@jupyter-widgets/controls",
       "_view_module_version": "1.5.0",
       "_view_name": "HBoxView",
       "box_style": "",
       "children": [
        "IPY_MODEL_f643556aef9549ef8b41c5e12b85604d",
        "IPY_MODEL_af09381b44d5416691083107ee7b06ed",
        "IPY_MODEL_8914acaaf65e48048de66fcb9085c2e2"
       ],
       "layout": "IPY_MODEL_429efad90bc94fed8643890744a5c5dc"
      }
     },
     "d105e1faa1794b4a9b768158435146c6": {
      "model_module": "@jupyter-widgets/controls",
      "model_module_version": "1.5.0",
      "model_name": "HTMLModel",
      "state": {
       "_dom_classes": [],
       "_model_module": "@jupyter-widgets/controls",
       "_model_module_version": "1.5.0",
       "_model_name": "HTMLModel",
       "_view_count": null,
       "_view_module": "@jupyter-widgets/controls",
       "_view_module_version": "1.5.0",
       "_view_name": "HTMLView",
       "description": "",
       "description_tooltip": null,
       "layout": "IPY_MODEL_88fb980776f64651a1714ba3a0e0086e",
       "placeholder": "​",
       "style": "IPY_MODEL_1a0f94326f82486d82bfdc0dbb483df9",
       "value": " 4/4 [00:02&lt;00:00,  1.64it/s]"
      }
     },
     "d22478b700b043d6afffe3bfb1123f05": {
      "model_module": "@jupyter-widgets/base",
      "model_module_version": "1.2.0",
      "model_name": "LayoutModel",
      "state": {
       "_model_module": "@jupyter-widgets/base",
       "_model_module_version": "1.2.0",
       "_model_name": "LayoutModel",
       "_view_count": null,
       "_view_module": "@jupyter-widgets/base",
       "_view_module_version": "1.2.0",
       "_view_name": "LayoutView",
       "align_content": null,
       "align_items": null,
       "align_self": null,
       "border": null,
       "bottom": null,
       "display": null,
       "flex": null,
       "flex_flow": null,
       "grid_area": null,
       "grid_auto_columns": null,
       "grid_auto_flow": null,
       "grid_auto_rows": null,
       "grid_column": null,
       "grid_gap": null,
       "grid_row": null,
       "grid_template_areas": null,
       "grid_template_columns": null,
       "grid_template_rows": null,
       "height": null,
       "justify_content": null,
       "justify_items": null,
       "left": null,
       "margin": null,
       "max_height": null,
       "max_width": null,
       "min_height": null,
       "min_width": null,
       "object_fit": null,
       "object_position": null,
       "order": null,
       "overflow": null,
       "overflow_x": null,
       "overflow_y": null,
       "padding": null,
       "right": null,
       "top": null,
       "visibility": null,
       "width": null
      }
     },
     "d232982c4b52441896081685962a59aa": {
      "model_module": "@jupyter-widgets/controls",
      "model_module_version": "1.5.0",
      "model_name": "HTMLModel",
      "state": {
       "_dom_classes": [],
       "_model_module": "@jupyter-widgets/controls",
       "_model_module_version": "1.5.0",
       "_model_name": "HTMLModel",
       "_view_count": null,
       "_view_module": "@jupyter-widgets/controls",
       "_view_module_version": "1.5.0",
       "_view_name": "HTMLView",
       "description": "",
       "description_tooltip": null,
       "layout": "IPY_MODEL_3085251930264990b5096da62cc9fcdf",
       "placeholder": "​",
       "style": "IPY_MODEL_3c3fe7cd5f9e4744934f11ef562c5054",
       "value": "Processing: 100%"
      }
     },
     "d33d6853fa094076ae7617e29fdcd969": {
      "model_module": "@jupyter-widgets/controls",
      "model_module_version": "1.5.0",
      "model_name": "FloatProgressModel",
      "state": {
       "_dom_classes": [],
       "_model_module": "@jupyter-widgets/controls",
       "_model_module_version": "1.5.0",
       "_model_name": "FloatProgressModel",
       "_view_count": null,
       "_view_module": "@jupyter-widgets/controls",
       "_view_module_version": "1.5.0",
       "_view_name": "ProgressView",
       "bar_style": "",
       "description": "",
       "description_tooltip": null,
       "layout": "IPY_MODEL_bdecb0502942458cbab743caa2601f92",
       "max": 7,
       "min": 0,
       "orientation": "horizontal",
       "style": "IPY_MODEL_38087ca416c14be8929cd9d12b6a033e",
       "value": 7
      }
     },
     "d94a451541d5419d82b9f4a68b759b0d": {
      "model_module": "@jupyter-widgets/controls",
      "model_module_version": "1.5.0",
      "model_name": "DescriptionStyleModel",
      "state": {
       "_model_module": "@jupyter-widgets/controls",
       "_model_module_version": "1.5.0",
       "_model_name": "DescriptionStyleModel",
       "_view_count": null,
       "_view_module": "@jupyter-widgets/base",
       "_view_module_version": "1.2.0",
       "_view_name": "StyleView",
       "description_width": ""
      }
     },
     "de1f72c8024b460ba88dee9908b97711": {
      "model_module": "@jupyter-widgets/controls",
      "model_module_version": "1.5.0",
      "model_name": "FloatProgressModel",
      "state": {
       "_dom_classes": [],
       "_model_module": "@jupyter-widgets/controls",
       "_model_module_version": "1.5.0",
       "_model_name": "FloatProgressModel",
       "_view_count": null,
       "_view_module": "@jupyter-widgets/controls",
       "_view_module_version": "1.5.0",
       "_view_name": "ProgressView",
       "bar_style": "",
       "description": "",
       "description_tooltip": null,
       "layout": "IPY_MODEL_1588dd0ae2bd4027a6d486e7774ad1c9",
       "max": 7,
       "min": 0,
       "orientation": "horizontal",
       "style": "IPY_MODEL_ea6f8f821c934451b4fc65fadfc7ed23",
       "value": 7
      }
     },
     "ea6f8f821c934451b4fc65fadfc7ed23": {
      "model_module": "@jupyter-widgets/controls",
      "model_module_version": "1.5.0",
      "model_name": "ProgressStyleModel",
      "state": {
       "_model_module": "@jupyter-widgets/controls",
       "_model_module_version": "1.5.0",
       "_model_name": "ProgressStyleModel",
       "_view_count": null,
       "_view_module": "@jupyter-widgets/base",
       "_view_module_version": "1.2.0",
       "_view_name": "StyleView",
       "bar_color": null,
       "description_width": ""
      }
     },
     "f12b3388cedc43208bd3de98f6511c91": {
      "model_module": "@jupyter-widgets/controls",
      "model_module_version": "1.5.0",
      "model_name": "ProgressStyleModel",
      "state": {
       "_model_module": "@jupyter-widgets/controls",
       "_model_module_version": "1.5.0",
       "_model_name": "ProgressStyleModel",
       "_view_count": null,
       "_view_module": "@jupyter-widgets/base",
       "_view_module_version": "1.2.0",
       "_view_name": "StyleView",
       "bar_color": null,
       "description_width": ""
      }
     },
     "f643556aef9549ef8b41c5e12b85604d": {
      "model_module": "@jupyter-widgets/controls",
      "model_module_version": "1.5.0",
      "model_name": "HTMLModel",
      "state": {
       "_dom_classes": [],
       "_model_module": "@jupyter-widgets/controls",
       "_model_module_version": "1.5.0",
       "_model_name": "HTMLModel",
       "_view_count": null,
       "_view_module": "@jupyter-widgets/controls",
       "_view_module_version": "1.5.0",
       "_view_name": "HTMLView",
       "description": "",
       "description_tooltip": null,
       "layout": "IPY_MODEL_783272f827ba49ec9c798a91da07c2fc",
       "placeholder": "​",
       "style": "IPY_MODEL_d94a451541d5419d82b9f4a68b759b0d",
       "value": "Processing: 100%"
      }
     },
     "f6b9e7d1e52f4cc1a10f89efd47c4c54": {
      "model_module": "@jupyter-widgets/base",
      "model_module_version": "1.2.0",
      "model_name": "LayoutModel",
      "state": {
       "_model_module": "@jupyter-widgets/base",
       "_model_module_version": "1.2.0",
       "_model_name": "LayoutModel",
       "_view_count": null,
       "_view_module": "@jupyter-widgets/base",
       "_view_module_version": "1.2.0",
       "_view_name": "LayoutView",
       "align_content": null,
       "align_items": null,
       "align_self": null,
       "border": null,
       "bottom": null,
       "display": null,
       "flex": null,
       "flex_flow": null,
       "grid_area": null,
       "grid_auto_columns": null,
       "grid_auto_flow": null,
       "grid_auto_rows": null,
       "grid_column": null,
       "grid_gap": null,
       "grid_row": null,
       "grid_template_areas": null,
       "grid_template_columns": null,
       "grid_template_rows": null,
       "height": null,
       "justify_content": null,
       "justify_items": null,
       "left": null,
       "margin": null,
       "max_height": null,
       "max_width": null,
       "min_height": null,
       "min_width": null,
       "object_fit": null,
       "object_position": null,
       "order": null,
       "overflow": null,
       "overflow_x": null,
       "overflow_y": null,
       "padding": null,
       "right": null,
       "top": null,
       "visibility": null,
       "width": null
      }
     },
     "fe0047eaaef4462bbd8edbd8b9b14628": {
      "model_module": "@jupyter-widgets/base",
      "model_module_version": "1.2.0",
      "model_name": "LayoutModel",
      "state": {
       "_model_module": "@jupyter-widgets/base",
       "_model_module_version": "1.2.0",
       "_model_name": "LayoutModel",
       "_view_count": null,
       "_view_module": "@jupyter-widgets/base",
       "_view_module_version": "1.2.0",
       "_view_name": "LayoutView",
       "align_content": null,
       "align_items": null,
       "align_self": null,
       "border": null,
       "bottom": null,
       "display": null,
       "flex": null,
       "flex_flow": null,
       "grid_area": null,
       "grid_auto_columns": null,
       "grid_auto_flow": null,
       "grid_auto_rows": null,
       "grid_column": null,
       "grid_gap": null,
       "grid_row": null,
       "grid_template_areas": null,
       "grid_template_columns": null,
       "grid_template_rows": null,
       "height": null,
       "justify_content": null,
       "justify_items": null,
       "left": null,
       "margin": null,
       "max_height": null,
       "max_width": null,
       "min_height": null,
       "min_width": null,
       "object_fit": null,
       "object_position": null,
       "order": null,
       "overflow": null,
       "overflow_x": null,
       "overflow_y": null,
       "padding": null,
       "right": null,
       "top": null,
       "visibility": null,
       "width": null
      }
     }
    },
    "version_major": 2,
    "version_minor": 0
   }
  }
 },
 "nbformat": 4,
 "nbformat_minor": 5
}
