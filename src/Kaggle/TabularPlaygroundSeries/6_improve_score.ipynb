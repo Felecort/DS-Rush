{
 "cells": [
  {
   "cell_type": "code",
   "execution_count": 1,
   "metadata": {},
   "outputs": [],
   "source": [
    "import numpy as np # linear algebra\n",
    "import pandas as pd # data processing, CSV file I/O (e.g. pd.read_csv)"
   ]
  },
  {
   "cell_type": "code",
   "execution_count": 2,
   "metadata": {},
   "outputs": [],
   "source": [
    "copy = pd.read_csv('./data/best_solution.csv')['failure']"
   ]
  },
  {
   "cell_type": "code",
   "execution_count": null,
   "metadata": {},
   "outputs": [],
   "source": [
    "q1,q2,q3,q4 = copy.quantile(0.04),copy.quantile(0.3),copy.quantile(0.7),copy.quantile(0.95)"
   ]
  },
  {
   "cell_type": "code",
   "execution_count": null,
   "metadata": {},
   "outputs": [],
   "source": [
    "u1 = []\n",
    "l1 = []\n",
    "u2 = []\n",
    "l2 = []\n",
    "for i in range(len(copy)):\n",
    "    u1.append(copy[i]>=q3)\n",
    "    l1.append(copy[i]<=q2)\n",
    "    u2.append(copy[i]>=q4)\n",
    "    l2.append(copy[i]<=q1)"
   ]
  },
  {
   "cell_type": "code",
   "execution_count": null,
   "metadata": {},
   "outputs": [],
   "source": [
    "prediction = copy.copy()\n",
    "prediction = prediction.apply(lambda x:x*1.1 if x>=q3 else x)\n",
    "prediction = prediction.apply(lambda x:x*0.9 if x<=q2 else x)\n",
    "prediction[u2] = 1\n",
    "prediction =  prediction.apply(lambda x:1 if x>1 else x)\n",
    "# prediction[l2] = 0"
   ]
  },
  {
   "cell_type": "code",
   "execution_count": null,
   "metadata": {},
   "outputs": [],
   "source": [
    "submission = pd.read_csv('./data/sample_submission.csv')\n",
    "submission['failure'] = np.round(prediction, 3)\n",
    "submission.to_csv('./data/improved_submission.csv',index=False)"
   ]
  }
 ],
 "metadata": {
  "kernelspec": {
   "display_name": "Python 3.10.4 ('ml_general')",
   "language": "python",
   "name": "python3"
  },
  "language_info": {
   "codemirror_mode": {
    "name": "ipython",
    "version": 3
   },
   "file_extension": ".py",
   "mimetype": "text/x-python",
   "name": "python",
   "nbconvert_exporter": "python",
   "pygments_lexer": "ipython3",
   "version": "3.10.4"
  },
  "orig_nbformat": 4,
  "vscode": {
   "interpreter": {
    "hash": "67e5eb89067d95a1a0947a31028cf9465f21e77887e4ef01d6b8c2d726ae553b"
   }
  }
 },
 "nbformat": 4,
 "nbformat_minor": 2
}
